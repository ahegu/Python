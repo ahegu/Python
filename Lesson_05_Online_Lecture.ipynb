{
 "cells": [
  {
   "cell_type": "markdown",
   "metadata": {},
   "source": [
    "# <font face=\"times\"><font size=\"6pt\"><p style = 'text-align: center;'> The City University of New York, Queens College\n",
    "\n",
    "<font face=\"times\"><font size=\"6pt\"><p style = 'text-align: center;'><b>Introduction to Computational Social Science</b><br/><br/>\n",
    "\n",
    "<p style = 'text-align: center;'><font face=\"times\"><b>Lesson 05 | SQL Databases and Multiprocessing </b><br/><br/>\n",
    "\n",
    "\n",
    "<p style = 'text-align: center;'><font face=\"times\"><b>9 Checkpoints</b><br/><br/>\n"
   ]
  },
  {
   "cell_type": "markdown",
   "metadata": {},
   "source": [
    "***\n",
    "# Begin Lesson 05\n",
    "(Source: https://medium.com/analytics-vidhya/programming-with-databases-in-python-using-sqlite-4cecbef51ab9) \n",
    "(Source: https://medium.com/@urban_institute/using-multiprocessing-to-make-python-code-faster-23ea5ef996ba) "
   ]
  },
  {
   "cell_type": "markdown",
   "metadata": {},
   "source": [
    "If you are aspiring to be a data/computational social scientist, you are going to be working with a lot of data! \n",
    "\n",
    "Much of the data reside in databases. Thus, you should be comfortable accessing data from databases through queries and then working on them to find key insights.\n",
    "\n",
    "***\n",
    "***\n",
    "\n",
    "Many forms of data exist in databases. From the number of passengers in an airport to the count of stationary in a bookshop, everything is recorded today in form of digital files called **databases**. \n",
    "\n",
    "However, databases are nothing more than electronic lists of information. \n",
    "\n",
    "Some databases are simple, and designed for smaller tasks while others are powerful, and designed for big data. \n",
    "\n",
    "All of them, however, have the same commonalities and perform a similar function. \n",
    "\n",
    "Different database tools store that information in unique ways. \n",
    "    - Flat files use a table.\n",
    "    - SQL databases use a relational model\n",
    "    - NoSQL databases use a key-value model.\n",
    "\n",
    "Here, we focus only on the **Relational Databases** and accessing them in Python. \n",
    "\n",
    "We will begin by having a quick overview of the Relational databases and their important constituents.\n",
    "\n",
    "***\n",
    "***"
   ]
  },
  {
   "cell_type": "markdown",
   "metadata": {},
   "source": [
    "# Relational Databases\n",
    "\n",
    "A Relational database consists of one or more tables of information. The rows in the table are called **records** and the columns in the table are called **fields** or **attributes**. \n",
    "\n",
    "A database that contains **TWO or more related tables** is called a **relational database** \n",
    "\n",
    "The main idea behind a relational database is that your data gets broken down into common themes, with one table dedicated to describing the records of each theme.\n",
    "\n",
    "***\n",
    "\n",
    "## Database tables\n",
    "Each table in a relational database has one or more columns, and each column is assigned a specific data type, such as an integer number, a sequence of characters (for text), or a date. Each row in the table has a value for each column.\n",
    "A typical fragment of a table containing employee information may look as follows:\n",
    "\n",
    "![Database](Images/05_relationaldbexample.png)\n",
    "\n",
    "The tables of a relational database have some important characteristics:\n",
    "    - There is no significance to the order of the columns or rows.\n",
    "    - Each row contains one and only one value for each column.\n",
    "    - Each value for a given column has the same type.\n",
    "\n",
    "Each table in the database should hold information about **ONE SPECIFIC** thing only, such as employees, products, or customers.\n",
    "\n",
    "By designing a database this way, it helps to eliminate redundancy and inconsistencies. \n",
    "\n",
    "For example, both the sales and accounts payable departments may look up information about customers. In a relational database, the information about customers is entered **only once** in a table that both departments can access.\n",
    "\n",
    "***\n",
    "***\n",
    "\n",
    "## Primary and Foreign Keys\n",
    "\n",
    "We know that a relational database is a set of related tables. We use **primary and foreign keys** to describe relationships between the information in different tables. In other words, primary and foreign keys define the relational structure of a database. \n",
    "\n",
    "These keys enable each row in the database tables to be identified and define the relationships between the tables.\n",
    "\n",
    "![Database](Images/05_relationaldbexample2.png)\n",
    "\n",
    "#### Primary Key\n",
    "The primary key of a relational table uniquely identifies each record in the table. It is a **column**, or set of columns, that allows **each row in the table to be uniquely identified**. No two rows in a table with a primary key can have the same primary key value.\n",
    "\n",
    "In other words, imagine you have a **CUSTOMERS** table that contains a record for each customer visiting a store. The customer’s unique number is a good choice for a **primary key**. The customer’s first and last name **are not good** choices because there is always the chance that more than one customer might have the same name.\n",
    "\n",
    "#### Foreign Key\n",
    "A foreign key is a field in a relational table that matches the **primary key column of another table**.\n",
    "\n",
    "The example above gives a good idea of the primary and foreign keys."
   ]
  },
  {
   "cell_type": "markdown",
   "metadata": {},
   "source": [
    "***\n",
    "***\n",
    "\n",
    "# Database Management Systems and SQL\n",
    "\n",
    "The **Database management system (DBMS)** is the software that interacts with end users, applications, and the database itself to capture and analyze data. \n",
    "\n",
    "The DBMS used for **relational databases** is called Relational Database Management Systems (RDBMS). \n",
    "\n",
    "Most commercial RDBMSes use **Structured Query Language (SQL)**, a declarative language for manipulating data, to access the database. The major RDBMS are \n",
    "    - Oracle\n",
    "    - MySQL\n",
    "    - Microsoft SQL Server \n",
    "    - PostgreSQL\n",
    "    - Microsoft Access\n",
    "    - SQLite\n",
    "\n",
    "Databases are the focus and concern of data engineers, but we need to be familiar how they are set up and (more importantly) how to query from them. \n",
    "\n",
    "We will focus on using `Python` to access relational databases using a very easy to use database engine called `SQLite`. It is a relational database management system based on the SQL language but optimized for use in small environments such as mobile phones or small applications. It is self-contained, serverless, zero-configuration and transactional. It is very fast and lightweight, and the entire database is stored in a single disk file. `SQLite` is built for simplicity and speed compared to a hosted client-server relational database such as `MySQL`. It sacrifices sophistication for utility and complexity for size. \n",
    "\n",
    "However, queries in `SQLite` are almost identical to other `SQL` calls, so if you know one version of `SQL`, you essentially know them all. \n",
    "\n",
    "\n",
    "`SQLite` can be integrated with `Python` using a  module called `sqlite3`. \n"
   ]
  },
  {
   "cell_type": "code",
   "execution_count": 1,
   "metadata": {
    "collapsed": false
   },
   "outputs": [],
   "source": [
    "import sqlite3"
   ]
  },
  {
   "cell_type": "markdown",
   "metadata": {
    "collapsed": true
   },
   "source": [
    "The first thing to keep in mind is that we have to import _driver_ code - that is the API for the specific database that we want to use. The most common are:\n",
    "\n",
    "- [psycopg2](http://initd.org/psycopg/)\n",
    "- [MySQL Connector/Python](http://dev.mysql.com/doc/connector-python/en/)\n",
    "- [sqlite3](https://docs.python.org/2/library/sqlite3.html)\n",
    "\n",
    "Though a host of other databases for vendors like IBM, Microsoft, and Oracle can be found at [Python Database Interfaces](https://wiki.python.org/moin/DatabaseInterfaces). \n",
    "\n",
    "In this tutorial we will be using `sqlite3` because it ships with Python (the other drivers are third party) and because it is so simple to use. SQLite databases are the embedded backbone of many applications, though they should be kept small. \n",
    "\n",
    "## Connecting to a Database\n",
    "\n",
    "The first thing you have to do is make a connection to a database. Often times this means you'll need the following information to connect to a database server:\n",
    "\n",
    "- hostname\n",
    "- port \n",
    "- username\n",
    "- password\n",
    "- database name\n",
    "\n",
    "SQLite is an _embedded_ database, however - which means it is stored in a file on disk, and operated on soley by a single program (not multiple programs at once). Therefore in order to create a connection to a SQLite database, we simply need to point it to a file on disk. "
   ]
  },
  {
   "cell_type": "code",
   "execution_count": 2,
   "metadata": {
    "collapsed": false
   },
   "outputs": [],
   "source": [
    "DBPATH = 'Data/people.db'\n",
    "conn = sqlite3.connect(DBPATH)"
   ]
  },
  {
   "cell_type": "markdown",
   "metadata": {},
   "source": [
    "At this point, you should notice that a file called `people.db` has been created in your `Data/` folder! \n",
    "\n",
    "Let's check it out! Let's `cd` into `Data` (don't forget to add the `/` after `Data`) and list out the files. You should see `people.db` listed at the very bottom, and it should be empty. "
   ]
  },
  {
   "cell_type": "code",
   "execution_count": 3,
   "metadata": {
    "collapsed": false
   },
   "outputs": [
    {
     "name": "stdout",
     "output_type": "stream",
     "text": [
      "/home/ahegu/Class_Materials/Data\n",
      "total 84576\r\n",
      "drwxr-xr-x 2 ahegu   registered_users     4096 Oct  3 21:49 \u001b[0m\u001b[01;34mgit_web_ml\u001b[0m/\r\n",
      "-rw-rw-r-- 1 ahegu   registered_users  2396031 Oct 14 20:17 git_web_ml.zip\r\n",
      "-rwxrwxr-x 1 ahegu   registered_users    11420 Feb  1 01:22 \u001b[01;32mCSV_FOR_SESSION03.csv\u001b[0m*\r\n",
      "drwxrwxr-x 2 ahegu   registered_users     4096 Feb  1 01:22 \u001b[01;34mExcel_MID\u001b[0m/\r\n",
      "-rwxrwxr-x 1 ahegu   registered_users    17509 Feb  1 01:22 \u001b[01;32mGDP_2015.csv\u001b[0m*\r\n",
      "-rwxrwxr-x 1 ahegu   registered_users    18078 Feb  1 01:22 \u001b[01;32mGDP_2016.csv\u001b[0m*\r\n",
      "-rwxrwxr-x 1 ahegu   registered_users    21434 Feb  1 01:22 \u001b[01;32mGDP_2017.csv\u001b[0m*\r\n",
      "-rw-rw-r-- 1 ahegu   registered_users       65 Feb  1 01:22 G_Edgelist.txt\r\n",
      "-rwxrwxr-x 1 ahegu   registered_users 69802443 Feb  1 01:22 \u001b[01;32mNew_York_Times_SF_All.csv\u001b[0m*\r\n",
      "-rwxrwxr-x 1 ahegu   registered_users   564244 Feb  1 01:22 \u001b[01;32mandroid_devices.csv\u001b[0m*\r\n",
      "-rwxrwxr-x 1 ahegu   registered_users   678586 Feb  1 01:22 \u001b[01;32marticles_bbc_2018_01_30.csv\u001b[0m*\r\n",
      "-rwxrwxr-x 1 ahegu   registered_users     8767 Feb  1 01:22 \u001b[01;32mbaseball.csv\u001b[0m*\r\n",
      "-rwxrwxr-x 1 ahegu   registered_users   854362 Feb  1 01:22 \u001b[01;32mfacebook_combined.txt\u001b[0m*\r\n",
      "-rw-rw-r-- 1 ahegu   registered_users     2310 Feb  1 01:22 fruit_data_with_colors.txt\r\n",
      "-rw-rw-r-- 1 ahegu   registered_users     8026 Feb  1 01:22 gapminder_gdp_africa.csv\r\n",
      "-rw-rw-r-- 1 ahegu   registered_users     4134 Feb  1 01:22 gapminder_gdp_americas.csv\r\n",
      "-rw-rw-r-- 1 ahegu   registered_users     5015 Feb  1 01:22 gapminder_gdp_asia.csv\r\n",
      "-rw-rw-r-- 1 ahegu   registered_users     4659 Feb  1 01:22 gapminder_gdp_europe.csv\r\n",
      "-rw-rw-r-- 1 ahegu   registered_users      375 Feb  1 01:22 gapminder_gdp_oceania.csv\r\n",
      "-rwxrwxr-x 1 ahegu   registered_users     2672 Feb  1 01:22 \u001b[01;32mhartford_drug.txt\u001b[0m*\r\n",
      "-rw-rw-r-- 1 ahegu   registered_users  4494867 Feb  1 01:22 higgsboson.csv\r\n",
      "-rw-rw-r-- 1 ahegu   registered_users    31250 Feb  1 01:22 mediause.csv\r\n",
      "-rw-rw-r-- 1 ahegu   registered_users     1686 Feb  1 01:22 microbiome.csv\r\n",
      "-rw-rw-r-- 1 ahegu   registered_users     1685 Feb  1 01:22 microbiome_missing.csv\r\n",
      "-rw-rw-r-- 1 ahegu   registered_users     1017 Feb  1 01:22 star-wars-network-edges-without-headers.csv\r\n",
      "-rw-rw-r-- 1 ahegu   registered_users     1226 Feb  1 01:22 star-wars-network-edges.csv\r\n",
      "-rw-rw-r-- 1 ahegu   registered_users    36997 Feb  1 01:22 starwars_net.json\r\n",
      "-rwxrwxr-x 1 ahegu   registered_users     5120 Feb  1 01:22 \u001b[01;32msuperheroes.db\u001b[0m*\r\n",
      "-rw-rw-r-- 1 ahegu   registered_users   289792 Feb  1 01:22 titanic.xls\r\n",
      "-rw-rw-r-- 1 ahegu   registered_users    59861 Feb  1 01:22 titanic_characteristics.csv\r\n",
      "-rw-rw-r-- 1 ahegu   registered_users     6149 Feb  1 01:22 titanic_survived.csv\r\n",
      "-rw-rw-r-- 1 ahegu   registered_users    10782 Feb  1 01:22 wine_data.csv\r\n",
      "-rwxrwxr-x 1 cjgomez registered_users    11420 Feb 25 01:12 \u001b[01;32mCountry_IDVs.csv\u001b[0m*\r\n",
      "-rwxrwxr-x 1 ahegu   registered_users     8955 Feb 25 03:05 \u001b[01;32muser_usage.csv\u001b[0m*\r\n",
      "-rwxrwxr-x 1 ahegu   registered_users     9962 Feb 25 03:05 \u001b[01;32muser_device.csv\u001b[0m*\r\n",
      "-rw-rw-r-- 1 ahegu   registered_users    26886 Feb 27 18:08 mb_test.csv\r\n",
      "-rw-rw-r-- 1 ahegu   registered_users    27445 Feb 27 18:08 mb_test_pickle\r\n",
      "-rw-rw-r-- 1 ahegu   registered_users     1225 Feb 27 18:08 data_chunks_pickle\r\n",
      "-rw-rw-r-- 1 ahegu   registered_users  7077973 Mar  5 04:34 AB_NYC_2019.csv\r\n",
      "-rw-r--r-- 1 ahegu   registered_users     7168 Mar  5 17:56 people.db\r\n"
     ]
    }
   ],
   "source": [
    "%cd Data/\n",
    "%ls -ltr"
   ]
  },
  {
   "cell_type": "markdown",
   "metadata": {},
   "source": [
    "Okay, let's go back to our original working directory and double-check that we're not in `Data` anymore. "
   ]
  },
  {
   "cell_type": "code",
   "execution_count": 4,
   "metadata": {
    "collapsed": false
   },
   "outputs": [
    {
     "name": "stdout",
     "output_type": "stream",
     "text": [
      "/home/ahegu/Class_Materials\n"
     ]
    },
    {
     "data": {
      "text/plain": [
       "'/home/ahegu/Class_Materials'"
      ]
     },
     "execution_count": 4,
     "metadata": {},
     "output_type": "execute_result"
    }
   ],
   "source": [
    "%cd ..\n",
    "%pwd"
   ]
  },
  {
   "cell_type": "markdown",
   "metadata": {},
   "source": [
    "Okay, now that we've created an (empty) database, let's get to work. \n",
    "\n",
    "First, the `connect` method returns a connection object that we've called `conn`. With `conn` you can manipulate your connection to the database including the following methods:\n",
    "\n",
    "- `conn.commit()` - commit any changes back to the database\n",
    "- `conn.close()` - close our connection to the database and tidy up\n",
    "\n",
    "However, to execute SQL against the database to `INSERT` or `SELECT` rows, we'll need to create a cursor:"
   ]
  },
  {
   "cell_type": "code",
   "execution_count": 5,
   "metadata": {
    "collapsed": true
   },
   "outputs": [],
   "source": [
    "cursor = conn.cursor()"
   ]
  },
  {
   "cell_type": "markdown",
   "metadata": {},
   "source": [
    "A cursor is essentially a pointer into the database. Think of it like a mouse cursor that keeps track of where you are on in the database table or tables. Cursors have the following methods:\n",
    "\n",
    "- `cursor.execute()` - executes a SQL string against the database\n",
    "- `cursor.fetchone()` - fetch a single row back from the executed query\n",
    "- `cursor.fetchall()` - fetch all results back from the executed query. \n",
    "\n",
    "Together, connections and cursors are the basic way to interact with a SQL database. "
   ]
  },
  {
   "cell_type": "markdown",
   "metadata": {},
   "source": [
    "***\n",
    "***\n",
    "\n",
    "## Describing the Database\n",
    "\n",
    "The first thing we have to do is describe the type of data that we'll be putting in the database by creating a _schema_. For this workshop, we'll be creating a very simple contacts application, our schema is as follows:\n",
    "\n",
    "![Contacts Schema](Images/05_schema.png)\n",
    "\n",
    "Here we have two tables, `contacts` which keeps track of people, their email, and who they are affiliated with, and `companies` which keeps tracks of organizations. To create the companies table we would execute SQL as follows:"
   ]
  },
  {
   "cell_type": "code",
   "execution_count": 6,
   "metadata": {
    "collapsed": false
   },
   "outputs": [],
   "source": [
    "sql =   '''\n",
    "        CREATE TABLE IF NOT EXISTS companies (\n",
    "        id INTEGER PRIMARY KEY AUTOINCREMENT,\n",
    "        name TEXT NOT NULL)\n",
    "        '''\n"
   ]
  },
  {
   "cell_type": "code",
   "execution_count": 7,
   "metadata": {
    "collapsed": false
   },
   "outputs": [
    {
     "data": {
      "text/plain": [
       "<sqlite3.Cursor at 0x7f1ff11d1420>"
      ]
     },
     "execution_count": 7,
     "metadata": {},
     "output_type": "execute_result"
    }
   ],
   "source": [
    "cursor.execute(sql)"
   ]
  },
  {
   "cell_type": "markdown",
   "metadata": {},
   "source": [
    "A note on the syntax above - since I like to write clean, well-indented `SQL`. \n",
    "\n",
    "You can also use a string concatentation method in `Python`, by opening up a parentheses and adding strings _without commas_ on new lines between them. \n",
    "\n",
    "If you print `SQL` you'll see it's just one long string with spaces inside of it. You could also use docstrings with the three quotes `\"\"\"` to write a multiline string, or even read in the `SQL` from a file. \n"
   ]
  },
  {
   "cell_type": "markdown",
   "metadata": {},
   "source": [
    "***\n",
    "***\n",
    "\n",
    "# Checkpoint 1 of 9\n",
    "## Now you try!\n",
    "\n",
    "### We've just created the `companies` table. Now let's create the `contacts` table in the same manner. To create it, look at the schema in the image above. \n",
    "### You'll need an `id`, `name`, `email`, and `company_id` saved in various formats. "
   ]
  },
  {
   "cell_type": "code",
   "execution_count": 8,
   "metadata": {
    "collapsed": true
   },
   "outputs": [],
   "source": [
    "sql =   '''\n",
    "        CREATE TABLE IF NOT EXISTS contacts (\n",
    "        id INTEGER PRIMARY KEY AUTOINCREMENT,\n",
    "        name TEXT NOT NULL,\n",
    "        email TEXT NOT NULL,\n",
    "        company_id INTEGER)\n",
    "        '''\n"
   ]
  },
  {
   "cell_type": "code",
   "execution_count": 9,
   "metadata": {
    "collapsed": false
   },
   "outputs": [
    {
     "data": {
      "text/plain": [
       "<sqlite3.Cursor at 0x7f1ff11d1420>"
      ]
     },
     "execution_count": 9,
     "metadata": {},
     "output_type": "execute_result"
    }
   ],
   "source": [
    "cursor.execute(sql)"
   ]
  },
  {
   "cell_type": "code",
   "execution_count": null,
   "metadata": {
    "collapsed": true
   },
   "outputs": [],
   "source": []
  },
  {
   "cell_type": "code",
   "execution_count": null,
   "metadata": {
    "collapsed": true
   },
   "outputs": [],
   "source": []
  },
  {
   "cell_type": "code",
   "execution_count": null,
   "metadata": {
    "collapsed": true
   },
   "outputs": [],
   "source": []
  },
  {
   "cell_type": "markdown",
   "metadata": {},
   "source": [
    "***\n",
    "***\n",
    "\n",
    "## Inserting Records \n",
    "\n",
    "The next thing we'll want to do is insert some records into the database; let's add `Queens College` to the companies table.\n",
    "\n",
    "Here, we'll create a `SQL` template for inserting the names of companies into the table. Look at the query below>  \n",
    "\n",
    "We don't have to assign an id, since it will be automatically assigned using the `AUTOINCREMENT` property of that field.\n",
    "\n",
    "The `?` is a parameter to the query, and can be used as a placeholder for any user input. Values for the parameters are then passed to the second argument of the `execute` method as a tuple. "
   ]
  },
  {
   "cell_type": "code",
   "execution_count": 10,
   "metadata": {
    "collapsed": true
   },
   "outputs": [],
   "source": [
    "sql = \"INSERT INTO companies (name) VALUES (?)\""
   ]
  },
  {
   "cell_type": "markdown",
   "metadata": {},
   "source": [
    "Now, let's execute it! "
   ]
  },
  {
   "cell_type": "code",
   "execution_count": 11,
   "metadata": {
    "collapsed": false
   },
   "outputs": [
    {
     "data": {
      "text/plain": [
       "<sqlite3.Cursor at 0x7f1ff11d1420>"
      ]
     },
     "execution_count": 11,
     "metadata": {},
     "output_type": "execute_result"
    }
   ],
   "source": [
    "cursor.execute(sql, (\"Queens College\",))"
   ]
  },
  {
   "cell_type": "markdown",
   "metadata": {},
   "source": [
    "The last thing we need is the `commit` call. \n",
    "\n",
    "_Nothing will be written to the database until commit is called_. This gives us an interesting ability to do _transactions_ - a series of `SQL` queries that when completed together succesfully, we commit them. \n",
    "\n",
    "However if something goes wrong during execution, we don't commit and therefore \"rollback\". "
   ]
  },
  {
   "cell_type": "code",
   "execution_count": 12,
   "metadata": {
    "collapsed": true
   },
   "outputs": [],
   "source": [
    "conn.commit()"
   ]
  },
  {
   "cell_type": "markdown",
   "metadata": {},
   "source": [
    "**As a side note:** You **_SHOULD NOT_** use string formatting methods like: \n",
    "\n",
    "```python\n",
    "sql = \"INSERT INTO companies (name) VALUES ({})\".format(\"Queens College\")\n",
    "```\n",
    "\n",
    "This is potentially unsafe behavior, and the `?` parameters do a lot of work on your behalf to make sure things work correctly and securely. "
   ]
  },
  {
   "cell_type": "markdown",
   "metadata": {},
   "source": [
    "***\n",
    "***\n",
    "\n",
    "# Checkpoint 2 of 9\n",
    "## Now you try! \n",
    "\n",
    "### Let's go ahead and insert another record using the same `SQL` statement. Let's add in the `NYC Department of Education`. \n",
    "### First, let's reuse the `SQL` string from before:\n",
    "\n",
    "                   sql = \"INSERT INTO companies (name) VALUES (?)\"\n",
    "\n",
    "### But now add this new organization to the table `companies`. "
   ]
  },
  {
   "cell_type": "code",
   "execution_count": 13,
   "metadata": {
    "collapsed": true
   },
   "outputs": [],
   "source": [
    "sql = \"INSERT INTO companies (name) VALUES (?)\""
   ]
  },
  {
   "cell_type": "code",
   "execution_count": 14,
   "metadata": {
    "collapsed": false
   },
   "outputs": [
    {
     "data": {
      "text/plain": [
       "<sqlite3.Cursor at 0x7f1ff11d1420>"
      ]
     },
     "execution_count": 14,
     "metadata": {},
     "output_type": "execute_result"
    }
   ],
   "source": [
    "cursor.execute(sql, (\"NYC Department of Education\",))"
   ]
  },
  {
   "cell_type": "code",
   "execution_count": 15,
   "metadata": {
    "collapsed": true
   },
   "outputs": [],
   "source": [
    "conn.commit()"
   ]
  },
  {
   "cell_type": "code",
   "execution_count": null,
   "metadata": {
    "collapsed": true
   },
   "outputs": [],
   "source": []
  },
  {
   "cell_type": "code",
   "execution_count": null,
   "metadata": {
    "collapsed": true
   },
   "outputs": [],
   "source": []
  },
  {
   "cell_type": "markdown",
   "metadata": {},
   "source": [
    "***\n",
    "***\n",
    "\n",
    "# Selecting Records\n",
    "\n",
    "So, let's take a step back and first learn about the basic anatomy of a `SQL` statement. Let's examine a simple query that selects a column from a sample table. Look at the image below: \n",
    "\n",
    "![SQL_Statement](Images/05_anatomy-of-select-statement.png)\n",
    "\n",
    "The basic `SQL` statement always has two parts: a `SELECT` and a `FROM`. The `SELECT` are the columns from the tables you wish to query and return. The `FROM` is where the columns in the `SELECT` are coming from. \n",
    "\n",
    "In example above, we're selecting the `id` and `username` columns from the table called `users`. \n",
    "\n",
    "We can use `SELECT *` to select all fields from a table if so desired. \n",
    "\n",
    "While not required, we can also use a `WHERE` clause! Think of it like a \"subset\" of your table, where we pick the rows from the table that meet some criterion. In our example, we're only returning rows from the columns `id` and `username` if the column `enabeled` has the value `true`.\n",
    "\n",
    "**NOTE:** One ODD feature of `SQL` is that for boolean evaluations, whereas in `Python` and most other languages we could use the double `=` (==) to see if a value is equal to another, `SQL` only uses ONE `=`. \n",
    "\n",
    "**ALSO NOTE:** While `Python` is case and indent sensitive, most `SQL` languages aren't. However the clause commands like `SELECT` OR `WHERE` DO NOT need to be capitalized or indented in a particular way for the query to work, but are captialized (and sometimes indented) out of convention. \n",
    "\n",
    "Indeed, notice that in the `SQL` statement only ONE `=` is used in the `WHERE` clause. \n",
    "\n",
    "***\n",
    "\n",
    "Let's give it a try! \n",
    "\n",
    "Let's try and query the `id` column from the `companies` table. In other words, we're going to `SELECT` `id` coming FROM the table `companies`, and let's only select those rows `WHERE` the company's name is `Queens College`."
   ]
  },
  {
   "cell_type": "code",
   "execution_count": 16,
   "metadata": {
    "collapsed": true
   },
   "outputs": [],
   "source": [
    "sql_query_Select = '''\n",
    "            SELECT id\n",
    "            FROM companies\n",
    "            WHERE name = \"Queens College\"\n",
    "'''"
   ]
  },
  {
   "cell_type": "code",
   "execution_count": 17,
   "metadata": {
    "collapsed": false
   },
   "outputs": [
    {
     "data": {
      "text/plain": [
       "<sqlite3.Cursor at 0x7f1ff11d1420>"
      ]
     },
     "execution_count": 17,
     "metadata": {},
     "output_type": "execute_result"
    }
   ],
   "source": [
    "cursor.execute(sql_query_Select)"
   ]
  },
  {
   "cell_type": "markdown",
   "metadata": {},
   "source": [
    "Now, let's fetch the results from the query using `cursor.fetchall()` and printing it to the screen. \n",
    "\n",
    "Alternatively, you could also use the `fetchone()` statement, which goes and gets the first record it finds. Note that the name of companies are not constrained uniqueness, therefore there could be multiple \"Queens College\" records fetched from this query. \n",
    "\n",
    "If you wanted all of them, you would use `fetchall()`. Since in our table there is only one row with the name \"Queens College\" we can use either one.\n",
    "\n",
    "In either case, since \"Queens College\" was the first entry in the table, it should have an id of 1. "
   ]
  },
  {
   "cell_type": "code",
   "execution_count": 18,
   "metadata": {
    "collapsed": false
   },
   "outputs": [
    {
     "name": "stdout",
     "output_type": "stream",
     "text": [
      "[(1,), (4,), (7,), (10,), (13,), (16,)]\n"
     ]
    }
   ],
   "source": [
    "print(cursor.fetchall())"
   ]
  },
  {
   "cell_type": "markdown",
   "metadata": {},
   "source": [
    "***\n",
    "***\n",
    "\n",
    "# Checkpoint 3 of 9\n",
    "## Now you try!\n",
    "\n",
    "### Write your own `SQL` query that returns the ID of the \"`NYC Department of Education`\" from the previous checkpoint. \n",
    "### Run the query and return the results. The ID should be `2`, as it's the second value in the table `companies`. "
   ]
  },
  {
   "cell_type": "code",
   "execution_count": 19,
   "metadata": {
    "collapsed": true
   },
   "outputs": [],
   "source": [
    "sql_query_Select = '''\n",
    "            SELECT id\n",
    "            FROM companies\n",
    "            WHERE name = \"NYC Department of Education\"\n",
    "'''"
   ]
  },
  {
   "cell_type": "code",
   "execution_count": 20,
   "metadata": {
    "collapsed": false
   },
   "outputs": [
    {
     "data": {
      "text/plain": [
       "<sqlite3.Cursor at 0x7f1ff11d1420>"
      ]
     },
     "execution_count": 20,
     "metadata": {},
     "output_type": "execute_result"
    }
   ],
   "source": [
    "cursor.execute(sql_query_Select)"
   ]
  },
  {
   "cell_type": "code",
   "execution_count": 21,
   "metadata": {
    "collapsed": false
   },
   "outputs": [
    {
     "name": "stdout",
     "output_type": "stream",
     "text": [
      "[(2,), (5,), (8,), (11,), (14,), (17,)]\n"
     ]
    }
   ],
   "source": [
    "print(cursor.fetchall())"
   ]
  },
  {
   "cell_type": "code",
   "execution_count": null,
   "metadata": {
    "collapsed": true
   },
   "outputs": [],
   "source": []
  },
  {
   "cell_type": "code",
   "execution_count": null,
   "metadata": {
    "collapsed": true
   },
   "outputs": [],
   "source": []
  },
  {
   "cell_type": "markdown",
   "metadata": {},
   "source": [
    "***\n",
    "***"
   ]
  },
  {
   "cell_type": "markdown",
   "metadata": {},
   "source": [
    "***\n",
    "\n",
    "## Querying Using Tuples\n",
    "\n",
    "We can also write and execute our queries in a different way, by passing the value in the `WHERE` clause as a parameter into `cursor.execute()`. \n",
    "\n",
    "Using the same parameter statement in our predicate clause and passing in the tuple containing \"Queens College\" as an argument to `execute`, we can select the id that we need, which is returned as a `Row`. \n",
    "\n",
    "`Row`s present themselves as tuples, and since we only fetched the ID, it is the first element in the record. "
   ]
  },
  {
   "cell_type": "code",
   "execution_count": 22,
   "metadata": {
    "collapsed": false
   },
   "outputs": [
    {
     "data": {
      "text/plain": [
       "<sqlite3.Cursor at 0x7f1ff11d1420>"
      ]
     },
     "execution_count": 22,
     "metadata": {},
     "output_type": "execute_result"
    }
   ],
   "source": [
    "cursor.execute(\"SELECT id FROM companies WHERE name=?\", (\"Queens College\",))"
   ]
  },
  {
   "cell_type": "code",
   "execution_count": 23,
   "metadata": {
    "collapsed": false
   },
   "outputs": [
    {
     "name": "stdout",
     "output_type": "stream",
     "text": [
      "(1,)\n"
     ]
    }
   ],
   "source": [
    "print(cursor.fetchone())"
   ]
  },
  {
   "cell_type": "markdown",
   "metadata": {},
   "source": [
    "***\n",
    "\n",
    "## Inserting Multiple Values (Rows)\n",
    "\n",
    "Now to insert a person (me!) who works for Queens College you would write a statement similar to:"
   ]
  },
  {
   "cell_type": "code",
   "execution_count": 24,
   "metadata": {
    "collapsed": false
   },
   "outputs": [],
   "source": [
    "sql = \"INSERT INTO contacts (name, email, company_id) VALUES (?,?,?)\" \n",
    "cursor.execute(sql, (\"Charles J. Gomez\", \"charles.gomez@qc.cuny.edu\", 1)) #ID of 1 b/c it's at QC\n",
    "conn.commit()"
   ]
  },
  {
   "cell_type": "markdown",
   "metadata": {},
   "source": [
    "***\n",
    "***\n",
    "\n",
    "# Checkpoint 4 of 9\n",
    "## Now you try!\n",
    "\n",
    "### Using the same method above, insert some contacts into the `contacts` table and insert some new `companies` into the `companies` table. \n",
    "\n",
    "### Note that in the `contacts` table, you need to include a `company_id` for each record. Be sure to keep track of who works where! For instance, a value of `1` is \"Queens College\" and a value of `2` is the \"NYC Department of Education\".  So, you'll first need to add company values and then add contacts to keep track of who works where. \n",
    "\n",
    "### For instance, if you add a new organization, it'll have a value of `3`, and any `contact` you add who works in `3` will need to have the ID of `3`. Whereas any person you add who works at \"Queens College\" should have an ID of `1`. \n",
    "\n",
    "### Add about two to three records in each table. (Be creative!)"
   ]
  },
  {
   "cell_type": "code",
   "execution_count": 25,
   "metadata": {
    "collapsed": true
   },
   "outputs": [],
   "source": [
    "sql = \"INSERT INTO companies (name) VALUES (?)\""
   ]
  },
  {
   "cell_type": "code",
   "execution_count": 26,
   "metadata": {
    "collapsed": false
   },
   "outputs": [
    {
     "data": {
      "text/plain": [
       "<sqlite3.Cursor at 0x7f1ff11d1420>"
      ]
     },
     "execution_count": 26,
     "metadata": {},
     "output_type": "execute_result"
    }
   ],
   "source": [
    "cursor.execute(sql, (\"NYC Department of Buildings\",))"
   ]
  },
  {
   "cell_type": "code",
   "execution_count": 27,
   "metadata": {
    "collapsed": true
   },
   "outputs": [],
   "source": [
    "conn.commit()"
   ]
  },
  {
   "cell_type": "code",
   "execution_count": 28,
   "metadata": {
    "collapsed": true
   },
   "outputs": [],
   "source": [
    "sql_query_Select = '''\n",
    "            SELECT id\n",
    "            FROM companies\n",
    "            WHERE name = \"NYC Department of Buildings\"\n",
    "'''"
   ]
  },
  {
   "cell_type": "code",
   "execution_count": 29,
   "metadata": {
    "collapsed": false
   },
   "outputs": [
    {
     "data": {
      "text/plain": [
       "<sqlite3.Cursor at 0x7f1ff11d1420>"
      ]
     },
     "execution_count": 29,
     "metadata": {},
     "output_type": "execute_result"
    }
   ],
   "source": [
    "cursor.execute(sql_query_Select)"
   ]
  },
  {
   "cell_type": "code",
   "execution_count": 30,
   "metadata": {
    "collapsed": false
   },
   "outputs": [
    {
     "name": "stdout",
     "output_type": "stream",
     "text": [
      "[(3,), (6,), (9,), (12,), (15,), (18,)]\n"
     ]
    }
   ],
   "source": [
    "print(cursor.fetchall())"
   ]
  },
  {
   "cell_type": "code",
   "execution_count": 31,
   "metadata": {
    "collapsed": true
   },
   "outputs": [],
   "source": [
    "#Queens College ID#1"
   ]
  },
  {
   "cell_type": "code",
   "execution_count": 32,
   "metadata": {
    "collapsed": true
   },
   "outputs": [],
   "source": [
    "sql = \"INSERT INTO contacts (name, email, company_id) VALUES (?,?,?)\" \n",
    "cursor.execute(sql, (\"John Doe\", \"john.doe@qc.cuny.edu\", 1)) \n",
    "conn.commit()"
   ]
  },
  {
   "cell_type": "code",
   "execution_count": 33,
   "metadata": {
    "collapsed": true
   },
   "outputs": [],
   "source": [
    "sql = \"INSERT INTO contacts (name, email, company_id) VALUES (?,?,?)\" \n",
    "cursor.execute(sql, (\"Ana He Gu\", \"ana.hegu78@qc.cuny.edu\", 1)) \n",
    "conn.commit()"
   ]
  },
  {
   "cell_type": "code",
   "execution_count": 34,
   "metadata": {
    "collapsed": true
   },
   "outputs": [],
   "source": [
    "#NYC Department of Education ID#2"
   ]
  },
  {
   "cell_type": "code",
   "execution_count": 35,
   "metadata": {
    "collapsed": true
   },
   "outputs": [],
   "source": [
    "sql = \"INSERT INTO contacts (name, email, company_id) VALUES (?,?,?)\" \n",
    "cursor.execute(sql, (\"Kate Smith\", \"kate.smith@education.nyc.gov\", 2)) \n",
    "conn.commit()"
   ]
  },
  {
   "cell_type": "code",
   "execution_count": 36,
   "metadata": {
    "collapsed": true
   },
   "outputs": [],
   "source": [
    "sql = \"INSERT INTO contacts (name, email, company_id) VALUES (?,?,?)\" \n",
    "cursor.execute(sql, (\"Jack Miller\", \"jack.miller@education.nyc.gov\", 2)) \n",
    "conn.commit()"
   ]
  },
  {
   "cell_type": "code",
   "execution_count": 37,
   "metadata": {
    "collapsed": true
   },
   "outputs": [],
   "source": [
    "sql = \"INSERT INTO contacts (name, email, company_id) VALUES (?,?,?)\" \n",
    "cursor.execute(sql, (\"Gina Johnson\", \"gina.johnson@education.nyc.gov\", 2)) \n",
    "conn.commit()"
   ]
  },
  {
   "cell_type": "code",
   "execution_count": 38,
   "metadata": {
    "collapsed": true
   },
   "outputs": [],
   "source": [
    "#NYC Department of Buildings ID#3"
   ]
  },
  {
   "cell_type": "code",
   "execution_count": 39,
   "metadata": {
    "collapsed": true
   },
   "outputs": [],
   "source": [
    "sql = \"INSERT INTO contacts (name, email, company_id) VALUES (?,?,?)\" \n",
    "cursor.execute(sql, (\"Mary Jane\", \"mary.jane@buildings.nyc.gov\", 3)) \n",
    "conn.commit()"
   ]
  },
  {
   "cell_type": "code",
   "execution_count": 40,
   "metadata": {
    "collapsed": true
   },
   "outputs": [],
   "source": [
    "sql = \"INSERT INTO contacts (name, email, company_id) VALUES (?,?,?)\" \n",
    "cursor.execute(sql, (\"George Brown\", \"george.brown@buildings.nyc.gov\", 3)) \n",
    "conn.commit()"
   ]
  },
  {
   "cell_type": "code",
   "execution_count": 41,
   "metadata": {
    "collapsed": true
   },
   "outputs": [],
   "source": [
    "sql = \"INSERT INTO contacts (name, email, company_id) VALUES (?,?,?)\" \n",
    "cursor.execute(sql, (\"Luke Davis\", \"luke.davis@buildings.nyc.gov\", 3)) \n",
    "conn.commit()"
   ]
  },
  {
   "cell_type": "markdown",
   "metadata": {},
   "source": [
    "***\n",
    "***"
   ]
  },
  {
   "cell_type": "markdown",
   "metadata": {},
   "source": [
    "# Joins with `SQL`\n",
    "\n",
    "`SQL` handles relationships through the use of `JOIN`s. `JOIN`s are clauses in `SQL` statements that link two tables based on one or more fields. \n",
    "\n",
    "With `JOINs`, relational databases can reduce redundancy. A table doesn't have to contain all the fields related to its rows, and table data can be used in multiple places. In other words, when information is stored in separate tables, the way to recombine the information is to do a join. In `SQL`, `JOIN` is a means of combining fields from two tables by using values common to each.\n",
    "\n",
    "\n",
    "There are several types of JOINs. To describe these different types, we need to add some data to our database so we can show the characteristics of each type. We commonly use Venn diagrams to represent the behavior of `SQL` joins, such as this one:   \n",
    "![SQL Joins](Images/05_sqljoins.jpg)\n",
    "\n",
    "Here are some additional resources that you may find helpful as you are learning about and practicing SQL JOINS (and using `sqlite`):\n",
    "\n",
    "\n",
    "- [Tutorials point on Joins](http://www.tutorialspoint.com/sql/sql-using-joins.htm)\n",
    "    - [Tutorials point specifically for sqlite](http://www.tutorialspoint.com/sqlite/)    \n",
    "    \n",
    "- [W3 schools on Joins](http://www.w3schools.com/sql/sql_join.asp)\n",
    "    - [W3 schools resources specifically for sqlite](http://www.w3resource.com/sqlite/index.php)    \n",
    "    \n",
    "- [A visual explanation of sql joins](http://blog.codinghorror.com/a-visual-explanation-of-sql-joins/)\n"
   ]
  },
  {
   "cell_type": "markdown",
   "metadata": {},
   "source": [
    "***\n",
    "***\n",
    "\n",
    "Joins are just the `SQL` name for `merges` in `Pandas` (or `R`). There's nothing really too unfamiliar about them. The underlying principles are the same. \n",
    "\n",
    "Let's start with a simple `JOIN`. We have two tables: `contacts` and `companies`. They are connected by the key `company_id`. You added a few records in the previous checkpoints. So now let's join these tables together using the `company_id`. \n",
    "\n"
   ]
  },
  {
   "cell_type": "code",
   "execution_count": 42,
   "metadata": {
    "collapsed": true
   },
   "outputs": [],
   "source": [
    "sql_join = '''\n",
    "            SELECT companies.name AS company_name,\n",
    "                    contacts.name AS contact_name,\n",
    "                    contacts.email\n",
    "            FROM companies\n",
    "            JOIN contacts\n",
    "            ON companies.id = contacts.company_id\n",
    "'''"
   ]
  },
  {
   "cell_type": "markdown",
   "metadata": {},
   "source": [
    "Let's see what this code is doing step by step. \n",
    "\n",
    "***\n",
    "\n",
    "```Python \n",
    "            SELECT companies.name AS company_name,\n",
    "                    contacts.name AS contact_name,\n",
    "```\n",
    "\n",
    "When we select columns from specific tables, we use the format `TABLE`.`COLUMN_NAME` in the query. So, since we want `name` from `companies` and `name` from `contacts` we use `companies.name` and `contacts.name` in `SELECT` to query these columns. So, our query is merely selecting from the tables `companies` and `contacts` the names of the companies and personnel we've added, respectively. \n",
    "\n",
    "**However**, it's generally a best practice for column names to be distinct. Here, `name` is the `companies` table refers to a company name, while `name` in `contacts` is a person's name. This sort of annoying naming convention will pop up a lot in data tables. \n",
    "\n",
    "Using `AS`, we can rename the columns of the resulting query. So, I re-label `name` from companies as `company_name` and `name` from `contacts` as `contact_name`. \n",
    "\n",
    "***\n",
    "\n",
    "```Python\n",
    "            contacts.email\n",
    "```\n",
    "I'm also going to select the emails of the contacts from the `contact` table. \n",
    "***NOTE*** that I do not include another comma here, as this is the last column we're selecting. \n",
    "\n",
    "***\n",
    "\n",
    "```Python\n",
    "            FROM companies\n",
    "```\n",
    "\n",
    "Next, I define my `FROM` statement. I'm going pull from the table `companies`. \n",
    "\n",
    "***\n",
    "\n",
    "```Python\n",
    "            JOIN contacts\n",
    "```\n",
    "\n",
    "Then, I'm going to `JOIN` `companies` on a new table `contacts`. (Again, this is what `SQL` calls a `merge`.) \n",
    "\n",
    "Since this is just a simple `JOIN`, I can swap `companies` and `contacts` in the `FROM` and the `JOIN` clauses, as the order doesn't matter for `JOIN` operations. **THIS IS NOT THE CASE FOR OTHER JOINS, WHERE ORDER MATTERS.**\n",
    "\n",
    "***\n",
    "```Python\n",
    "            ON companies.id = contacts.company_id\n",
    "```\n",
    "\n",
    "Finally, I need to define what the name of the keys by which we will join these tables. **NOTE** that the names of the same ID are **_DIFFERENT_** in the two tables, `id` in `companies` and `company_id` in `contacts`. Also **note** that `id` nor `company_id` are in the `SELECT` clause, as you don't need them. `SELECT` _just_ returns what you want!\n"
   ]
  },
  {
   "cell_type": "code",
   "execution_count": 43,
   "metadata": {
    "collapsed": false
   },
   "outputs": [
    {
     "data": {
      "text/plain": [
       "<sqlite3.Cursor at 0x7f1ff11d1420>"
      ]
     },
     "execution_count": 43,
     "metadata": {},
     "output_type": "execute_result"
    }
   ],
   "source": [
    "cursor.execute(sql_join)"
   ]
  },
  {
   "cell_type": "markdown",
   "metadata": {},
   "source": [
    "Let's see what we got! "
   ]
  },
  {
   "cell_type": "code",
   "execution_count": 44,
   "metadata": {
    "collapsed": false
   },
   "outputs": [
    {
     "name": "stdout",
     "output_type": "stream",
     "text": [
      "[('Queens College', 'Charles J. Gomez', 'charles.gomez@qc.cuny.edu'), ('Queens College', 'John Doe', 'john.doe@qc.cuny.edu'), ('Queens College', 'Ana He Gu', 'ana.hegu78@qc.cuny.edu'), ('NYC Department of Education', 'Kate Smith', 'kate.smith@education.nyc.gov'), ('NYC Department of Education', 'Jack Miller', 'jack.miller@education.nyc.gov'), ('NYC Department of Education', 'Gina Johnson', 'gina.johnson@education.nyc.gov'), ('NYC Department of Buildings', 'Mary Jane', 'mary.jane@buildings.nyc.gov'), ('NYC Department of Buildings', 'George Brown', 'george.brown@buildings.nyc.gov'), ('NYC Department of Buildings', 'Luke Davis', 'luke.davis@buildings.nyc.gov'), ('Queens College', 'Charles J. Gomez', 'charles.gomez@qc.cuny.edu'), ('Queens College', 'John Doe', 'john.doe@qc.cuny.edu'), ('Queens College', 'Ana He Gu', 'ana.hegu78@qc.cuny.edu'), ('NYC Department of Education', 'Kate Smith', 'kate.smith@education.nyc.gov'), ('NYC Department of Education', 'Jack Miller', 'jack.miller@education.nyc.gov'), ('NYC Department of Education', 'Gina Johnson', 'gina.johnson@education.nyc.gov'), ('NYC Department of Buildings', 'Mary Jane', 'mary.jane@buildings.nyc.gov'), ('NYC Department of Buildings', 'George Brown', 'george.brown@buildings.nyc.gov'), ('NYC Department of Buildings', 'Luke Davis', 'luke.davis@buildings.nyc.gov'), ('Queens College', 'Charles J. Gomez', 'charles.gomez@qc.cuny.edu'), ('Queens College', 'John Doe', 'john.doe@qc.cuny.edu'), ('Queens College', 'Ana He Gu', 'ana.hegu78@qc.cuny.edu'), ('NYC Department of Education', 'Kate Smith', 'kate.smith@education.nyc.gov'), ('NYC Department of Education', 'Jack Miller', 'jack.miller@education.nyc.gov'), ('NYC Department of Education', 'Gina Johnson', 'gina.johnson@education.nyc.gov'), ('NYC Department of Buildings', 'Mary Jane', 'mary.jane@buildings.nyc.gov'), ('NYC Department of Buildings', 'George Brown', 'george.brown@buildings.nyc.gov'), ('NYC Department of Buildings', 'Luke Davis', 'luke.davis@buildings.nyc.gov'), ('Queens College', 'Charles J. Gomez', 'charles.gomez@qc.cuny.edu'), ('Queens College', 'John Doe', 'john.doe@qc.cuny.edu'), ('Queens College', 'Ana He Gu', 'ana.hegu78@qc.cuny.edu'), ('NYC Department of Education', 'Kate Smith', 'kate.smith@education.nyc.gov'), ('NYC Department of Education', 'Jack Miller', 'jack.miller@education.nyc.gov'), ('NYC Department of Education', 'Gina Johnson', 'gina.johnson@education.nyc.gov'), ('NYC Department of Buildings', 'Mary Jane', 'mary.jane@buildings.nyc.gov'), ('NYC Department of Buildings', 'George Brown', 'george.brown@buildings.nyc.gov'), ('NYC Department of Buildings', 'Luke Davis', 'luke.davis@buildings.nyc.gov'), ('Queens College', 'Charles J. Gomez', 'charles.gomez@qc.cuny.edu'), ('Queens College', 'John Doe', 'john.doe@qc.cuny.edu'), ('Queens College', 'Ana He Gu', 'ana.hegu78@qc.cuny.edu'), ('NYC Department of Education', 'Kate Smith', 'kate.smith@education.nyc.gov'), ('NYC Department of Education', 'Jack Miller', 'jack.miller@education.nyc.gov'), ('NYC Department of Education', 'Gina Johnson', 'gina.johnson@education.nyc.gov'), ('NYC Department of Buildings', 'Mary Jane', 'mary.jane@buildings.nyc.gov'), ('NYC Department of Buildings', 'George Brown', 'george.brown@buildings.nyc.gov'), ('NYC Department of Buildings', 'Luke Davis', 'luke.davis@buildings.nyc.gov'), ('Queens College', 'Charles J. Gomez', 'charles.gomez@qc.cuny.edu'), ('Queens College', 'John Doe', 'john.doe@qc.cuny.edu'), ('Queens College', 'Ana He Gu', 'ana.hegu78@qc.cuny.edu'), ('NYC Department of Education', 'Kate Smith', 'kate.smith@education.nyc.gov'), ('NYC Department of Education', 'Jack Miller', 'jack.miller@education.nyc.gov'), ('NYC Department of Education', 'Gina Johnson', 'gina.johnson@education.nyc.gov'), ('NYC Department of Buildings', 'Mary Jane', 'mary.jane@buildings.nyc.gov'), ('NYC Department of Buildings', 'George Brown', 'george.brown@buildings.nyc.gov'), ('NYC Department of Buildings', 'Luke Davis', 'luke.davis@buildings.nyc.gov')]\n"
     ]
    }
   ],
   "source": [
    "print(cursor.fetchall())"
   ]
  },
  {
   "cell_type": "markdown",
   "metadata": {},
   "source": [
    "The output format isn't exactly great for us humans to read. \n",
    "\n",
    "So, let's bring in `Pandas` and convert this output into a `DataFrame`. "
   ]
  },
  {
   "cell_type": "code",
   "execution_count": 45,
   "metadata": {
    "collapsed": true
   },
   "outputs": [],
   "source": [
    "import pandas as pd"
   ]
  },
  {
   "cell_type": "markdown",
   "metadata": {},
   "source": [
    "Lucky for us, `Pandas` has already has this solved for us! \n",
    "\n",
    "All we have to do is use the function `pd.read_sql()` and input in our `SQL` code and the connection to the database. \n",
    "\n",
    "Here, our `SQL` code in `sql_leftjoin` and our connection is `conn`. "
   ]
  },
  {
   "cell_type": "code",
   "execution_count": 46,
   "metadata": {
    "collapsed": false
   },
   "outputs": [],
   "source": [
    "Contact_Company_Join_df = pd.read_sql(sql_join, conn)"
   ]
  },
  {
   "cell_type": "markdown",
   "metadata": {},
   "source": [
    "Let's check it out!"
   ]
  },
  {
   "cell_type": "code",
   "execution_count": 47,
   "metadata": {
    "collapsed": false
   },
   "outputs": [
    {
     "data": {
      "text/html": [
       "<div>\n",
       "<style scoped>\n",
       "    .dataframe tbody tr th:only-of-type {\n",
       "        vertical-align: middle;\n",
       "    }\n",
       "\n",
       "    .dataframe tbody tr th {\n",
       "        vertical-align: top;\n",
       "    }\n",
       "\n",
       "    .dataframe thead th {\n",
       "        text-align: right;\n",
       "    }\n",
       "</style>\n",
       "<table border=\"1\" class=\"dataframe\">\n",
       "  <thead>\n",
       "    <tr style=\"text-align: right;\">\n",
       "      <th></th>\n",
       "      <th>company_name</th>\n",
       "      <th>contact_name</th>\n",
       "      <th>email</th>\n",
       "    </tr>\n",
       "  </thead>\n",
       "  <tbody>\n",
       "    <tr>\n",
       "      <th>0</th>\n",
       "      <td>Queens College</td>\n",
       "      <td>Charles J. Gomez</td>\n",
       "      <td>charles.gomez@qc.cuny.edu</td>\n",
       "    </tr>\n",
       "    <tr>\n",
       "      <th>1</th>\n",
       "      <td>Queens College</td>\n",
       "      <td>John Doe</td>\n",
       "      <td>john.doe@qc.cuny.edu</td>\n",
       "    </tr>\n",
       "    <tr>\n",
       "      <th>2</th>\n",
       "      <td>Queens College</td>\n",
       "      <td>Ana He Gu</td>\n",
       "      <td>ana.hegu78@qc.cuny.edu</td>\n",
       "    </tr>\n",
       "    <tr>\n",
       "      <th>3</th>\n",
       "      <td>NYC Department of Education</td>\n",
       "      <td>Kate Smith</td>\n",
       "      <td>kate.smith@education.nyc.gov</td>\n",
       "    </tr>\n",
       "    <tr>\n",
       "      <th>4</th>\n",
       "      <td>NYC Department of Education</td>\n",
       "      <td>Jack Miller</td>\n",
       "      <td>jack.miller@education.nyc.gov</td>\n",
       "    </tr>\n",
       "  </tbody>\n",
       "</table>\n",
       "</div>"
      ],
      "text/plain": [
       "                  company_name      contact_name  \\\n",
       "0               Queens College  Charles J. Gomez   \n",
       "1               Queens College          John Doe   \n",
       "2               Queens College         Ana He Gu   \n",
       "3  NYC Department of Education        Kate Smith   \n",
       "4  NYC Department of Education       Jack Miller   \n",
       "\n",
       "                           email  \n",
       "0      charles.gomez@qc.cuny.edu  \n",
       "1           john.doe@qc.cuny.edu  \n",
       "2         ana.hegu78@qc.cuny.edu  \n",
       "3   kate.smith@education.nyc.gov  \n",
       "4  jack.miller@education.nyc.gov  "
      ]
     },
     "execution_count": 47,
     "metadata": {},
     "output_type": "execute_result"
    }
   ],
   "source": [
    "Contact_Company_Join_df.head()"
   ]
  },
  {
   "cell_type": "markdown",
   "metadata": {},
   "source": [
    "Way better! \n",
    "\n",
    "We'll use `Pandas` from now on to query in data. \n",
    "\n",
    "**NOTE:** We can't create tables in our `SQL` database with `pd.read_sql()`, as it merely reads in data. "
   ]
  },
  {
   "cell_type": "markdown",
   "metadata": {},
   "source": [
    "***\n",
    "***\n",
    "\n",
    "# Checkpoint 5 of 9\n",
    "## Now you try! \n",
    "\n",
    "### Perform the same query as above, but name `companies.name` and `contacts.name` as something different than  `company_name` or `contact_name`. \n",
    "### In addition, add a `WHERE` clause at the end of your join query, and return rows where the contact DOES NOT work at \"Queens College\". \n",
    "### To peform a `NOT` operation, use `!=` operator. In `SQL`, you can also use its `NOT` operator `<>`  as well. \n",
    "\n",
    "### Finally, use `Pandas` and read in your query into a `DataFrame` to capture the results. \n",
    "\n",
    "### **NOTE:** What `name` (from the table `companies`) do you use in the `WHERE` clause, the full name `companies.name` or your new alias? In `sqlite`, you can use either, but not for all versions of `SQL`. "
   ]
  },
  {
   "cell_type": "code",
   "execution_count": 48,
   "metadata": {
    "collapsed": true
   },
   "outputs": [],
   "source": [
    "sql_join = '''\n",
    "            SELECT companies.name AS entity_name,\n",
    "                    contacts.name AS contact_info,\n",
    "                    contacts.email\n",
    "            FROM companies\n",
    "            JOIN contacts\n",
    "            ON companies.id = contacts.company_id\n",
    "            WHERE entity_name != \"Queens College\"\n",
    "'''"
   ]
  },
  {
   "cell_type": "code",
   "execution_count": 49,
   "metadata": {
    "collapsed": false
   },
   "outputs": [
    {
     "data": {
      "text/plain": [
       "<sqlite3.Cursor at 0x7f1ff11d1420>"
      ]
     },
     "execution_count": 49,
     "metadata": {},
     "output_type": "execute_result"
    }
   ],
   "source": [
    "cursor.execute(sql_join)"
   ]
  },
  {
   "cell_type": "code",
   "execution_count": 50,
   "metadata": {
    "collapsed": false
   },
   "outputs": [
    {
     "name": "stdout",
     "output_type": "stream",
     "text": [
      "[('NYC Department of Education', 'Kate Smith', 'kate.smith@education.nyc.gov'), ('NYC Department of Education', 'Jack Miller', 'jack.miller@education.nyc.gov'), ('NYC Department of Education', 'Gina Johnson', 'gina.johnson@education.nyc.gov'), ('NYC Department of Buildings', 'Mary Jane', 'mary.jane@buildings.nyc.gov'), ('NYC Department of Buildings', 'George Brown', 'george.brown@buildings.nyc.gov'), ('NYC Department of Buildings', 'Luke Davis', 'luke.davis@buildings.nyc.gov'), ('NYC Department of Education', 'Kate Smith', 'kate.smith@education.nyc.gov'), ('NYC Department of Education', 'Jack Miller', 'jack.miller@education.nyc.gov'), ('NYC Department of Education', 'Gina Johnson', 'gina.johnson@education.nyc.gov'), ('NYC Department of Buildings', 'Mary Jane', 'mary.jane@buildings.nyc.gov'), ('NYC Department of Buildings', 'George Brown', 'george.brown@buildings.nyc.gov'), ('NYC Department of Buildings', 'Luke Davis', 'luke.davis@buildings.nyc.gov'), ('NYC Department of Education', 'Kate Smith', 'kate.smith@education.nyc.gov'), ('NYC Department of Education', 'Jack Miller', 'jack.miller@education.nyc.gov'), ('NYC Department of Education', 'Gina Johnson', 'gina.johnson@education.nyc.gov'), ('NYC Department of Buildings', 'Mary Jane', 'mary.jane@buildings.nyc.gov'), ('NYC Department of Buildings', 'George Brown', 'george.brown@buildings.nyc.gov'), ('NYC Department of Buildings', 'Luke Davis', 'luke.davis@buildings.nyc.gov'), ('NYC Department of Education', 'Kate Smith', 'kate.smith@education.nyc.gov'), ('NYC Department of Education', 'Jack Miller', 'jack.miller@education.nyc.gov'), ('NYC Department of Education', 'Gina Johnson', 'gina.johnson@education.nyc.gov'), ('NYC Department of Buildings', 'Mary Jane', 'mary.jane@buildings.nyc.gov'), ('NYC Department of Buildings', 'George Brown', 'george.brown@buildings.nyc.gov'), ('NYC Department of Buildings', 'Luke Davis', 'luke.davis@buildings.nyc.gov'), ('NYC Department of Education', 'Kate Smith', 'kate.smith@education.nyc.gov'), ('NYC Department of Education', 'Jack Miller', 'jack.miller@education.nyc.gov'), ('NYC Department of Education', 'Gina Johnson', 'gina.johnson@education.nyc.gov'), ('NYC Department of Buildings', 'Mary Jane', 'mary.jane@buildings.nyc.gov'), ('NYC Department of Buildings', 'George Brown', 'george.brown@buildings.nyc.gov'), ('NYC Department of Buildings', 'Luke Davis', 'luke.davis@buildings.nyc.gov'), ('NYC Department of Education', 'Kate Smith', 'kate.smith@education.nyc.gov'), ('NYC Department of Education', 'Jack Miller', 'jack.miller@education.nyc.gov'), ('NYC Department of Education', 'Gina Johnson', 'gina.johnson@education.nyc.gov'), ('NYC Department of Buildings', 'Mary Jane', 'mary.jane@buildings.nyc.gov'), ('NYC Department of Buildings', 'George Brown', 'george.brown@buildings.nyc.gov'), ('NYC Department of Buildings', 'Luke Davis', 'luke.davis@buildings.nyc.gov')]\n"
     ]
    }
   ],
   "source": [
    "print(cursor.fetchall())"
   ]
  },
  {
   "cell_type": "code",
   "execution_count": 51,
   "metadata": {
    "collapsed": true
   },
   "outputs": [],
   "source": [
    "Contact_Company_Join_df2 = pd.read_sql(sql_join, conn)"
   ]
  },
  {
   "cell_type": "code",
   "execution_count": 52,
   "metadata": {
    "collapsed": false
   },
   "outputs": [
    {
     "data": {
      "text/html": [
       "<div>\n",
       "<style scoped>\n",
       "    .dataframe tbody tr th:only-of-type {\n",
       "        vertical-align: middle;\n",
       "    }\n",
       "\n",
       "    .dataframe tbody tr th {\n",
       "        vertical-align: top;\n",
       "    }\n",
       "\n",
       "    .dataframe thead th {\n",
       "        text-align: right;\n",
       "    }\n",
       "</style>\n",
       "<table border=\"1\" class=\"dataframe\">\n",
       "  <thead>\n",
       "    <tr style=\"text-align: right;\">\n",
       "      <th></th>\n",
       "      <th>entity_name</th>\n",
       "      <th>contact_info</th>\n",
       "      <th>email</th>\n",
       "    </tr>\n",
       "  </thead>\n",
       "  <tbody>\n",
       "    <tr>\n",
       "      <th>0</th>\n",
       "      <td>NYC Department of Education</td>\n",
       "      <td>Kate Smith</td>\n",
       "      <td>kate.smith@education.nyc.gov</td>\n",
       "    </tr>\n",
       "    <tr>\n",
       "      <th>1</th>\n",
       "      <td>NYC Department of Education</td>\n",
       "      <td>Jack Miller</td>\n",
       "      <td>jack.miller@education.nyc.gov</td>\n",
       "    </tr>\n",
       "    <tr>\n",
       "      <th>2</th>\n",
       "      <td>NYC Department of Education</td>\n",
       "      <td>Gina Johnson</td>\n",
       "      <td>gina.johnson@education.nyc.gov</td>\n",
       "    </tr>\n",
       "    <tr>\n",
       "      <th>3</th>\n",
       "      <td>NYC Department of Buildings</td>\n",
       "      <td>Mary Jane</td>\n",
       "      <td>mary.jane@buildings.nyc.gov</td>\n",
       "    </tr>\n",
       "    <tr>\n",
       "      <th>4</th>\n",
       "      <td>NYC Department of Buildings</td>\n",
       "      <td>George Brown</td>\n",
       "      <td>george.brown@buildings.nyc.gov</td>\n",
       "    </tr>\n",
       "  </tbody>\n",
       "</table>\n",
       "</div>"
      ],
      "text/plain": [
       "                   entity_name  contact_info                           email\n",
       "0  NYC Department of Education    Kate Smith    kate.smith@education.nyc.gov\n",
       "1  NYC Department of Education   Jack Miller   jack.miller@education.nyc.gov\n",
       "2  NYC Department of Education  Gina Johnson  gina.johnson@education.nyc.gov\n",
       "3  NYC Department of Buildings     Mary Jane     mary.jane@buildings.nyc.gov\n",
       "4  NYC Department of Buildings  George Brown  george.brown@buildings.nyc.gov"
      ]
     },
     "execution_count": 52,
     "metadata": {},
     "output_type": "execute_result"
    }
   ],
   "source": [
    "Contact_Company_Join_df2.head()"
   ]
  },
  {
   "cell_type": "markdown",
   "metadata": {},
   "source": [
    "***\n",
    "***"
   ]
  },
  {
   "cell_type": "markdown",
   "metadata": {},
   "source": [
    "***\n",
    "***\n",
    "\n",
    "# `SQL` with `Pandas` and Complex Joins with Marvel Superheroes \n",
    "\n",
    "Now, let's do something fun! Let's explore the Marvel Superhero Universe using the concept of `SQL` `JOINS` (in particular, we'll be using `sqlite`). \n",
    "\n",
    "![Marvel Superheroes](Images/05_marvel.png) (from http://vignette1.wikia.nocookie.net/marveldatabase/images/e/e1/The_Marvel_Universe.png/revision/latest?cb=20110513164401)\n",
    "\n",
    "There are a **lot** of superheroes in the Marvel Universe, and a **lot** of superhero movies, so we'll just be examining a small portion today. \n",
    "\n",
    "As you'll see, we are storing the information about the superheroes separately from the information about the superhero movies. In addition, since superheroes frequently use aliases rather than their real names, it makes sense that we might want to store those real names separately from their superhero personae. \n",
    "\n",
    "Ok, let's get started. We've already imported `sqlite`, so we'll need to establish a connection to the database. \n",
    "\n",
    "In this case however, we've already built a database for you called \"superheroes.db\" in your `Data` folder, and it will be your job to implement different kinds of joins in order to answer the questions below."
   ]
  },
  {
   "cell_type": "code",
   "execution_count": 53,
   "metadata": {
    "collapsed": true
   },
   "outputs": [],
   "source": [
    "DBPATH_MSU = 'Data/superheroes.db'"
   ]
  },
  {
   "cell_type": "code",
   "execution_count": 54,
   "metadata": {
    "collapsed": true
   },
   "outputs": [],
   "source": [
    "conn_MSU = sqlite3.connect(DBPATH_MSU)"
   ]
  },
  {
   "cell_type": "markdown",
   "metadata": {},
   "source": [
    "Here is what the database looks like:\n",
    "\n",
    "![SuperheroesDB](Images/05_superheroesDB.png)\n",
    "\n",
    "Next we'll create a cursor object to help us execute our `SQL` statements:"
   ]
  },
  {
   "cell_type": "code",
   "execution_count": 55,
   "metadata": {
    "collapsed": true
   },
   "outputs": [],
   "source": [
    "cursor_MSU = conn_MSU.cursor()"
   ]
  },
  {
   "cell_type": "markdown",
   "metadata": {},
   "source": [
    "The `JOIN` statements we write will all follow roughly the same pattern that our `SELECT` statements followed in this morning's workshop. That is to say they will look something like:\n",
    "\n",
    "```python\n",
    "cursor.execute(\"SELECT [information] FROM [first_table] [SOME JOIN] [second_table] ON firsttable.id = secondtable.id\")\n",
    "print(cursor.fetchall())\n",
    "```\n",
    "\n",
    "***\n",
    "***\n",
    "\n",
    "## Who's the star of the movie?\n",
    "\n",
    "How can we query our database to determine who is the star of the movie? \n",
    "\n",
    "In this case, let's use `LEFT JOIN` to pair the title of each movie with the name of its main character.\n",
    "\n",
    "Look at the query below. Here I'm going to use the `*` symbol in the `SELECT` statement to return ALL of the columns in both tables. \n",
    "\n",
    "However, when I want to select specific columns from specific tables, I again use the format `TABLE`.`COLUMN_NAME` in the `ON` clause in the query. \n",
    "\n",
    "Here, I'm selecting all columns from `Movies` and `Superheroes` using the `*`, and then I'm joining these two tables on their joint `key` column, in this case `superhero_id`. I'm doing this with the `ON` clause. "
   ]
  },
  {
   "cell_type": "code",
   "execution_count": 56,
   "metadata": {
    "collapsed": true
   },
   "outputs": [],
   "source": [
    "sql_leftjoin = '''\n",
    "            Select * \n",
    "                FROM Movies\n",
    "            LEFT JOIN RealNames\n",
    "            ON Movies.superhero_id = RealNames.superhero_id\n",
    "        '''"
   ]
  },
  {
   "cell_type": "code",
   "execution_count": 57,
   "metadata": {
    "collapsed": false
   },
   "outputs": [
    {
     "data": {
      "text/plain": [
       "<sqlite3.Cursor at 0x7f1ff013d880>"
      ]
     },
     "execution_count": 57,
     "metadata": {},
     "output_type": "execute_result"
    }
   ],
   "source": [
    "cursor_MSU.execute(sql_leftjoin)"
   ]
  },
  {
   "cell_type": "code",
   "execution_count": 58,
   "metadata": {
    "collapsed": false
   },
   "outputs": [
    {
     "name": "stdout",
     "output_type": "stream",
     "text": [
      "[(1, 'Iron Man', 1, 1, 'Tony Stark', 1), (2, 'Iron Man 2', 1, 1, 'Tony Stark', 1), (3, 'Iron Man 3', 1, 1, 'Tony Stark', 1), (4, 'Guardians of the Galaxy', 8, 9, 'Peter Quill', 8), (5, 'Ant-Man', 2, 5, 'Hank Pym', 2), (5, 'Ant-Man', 2, 4, 'Scott Lang', 2), (6, 'Deadpool', 3, 8, 'Wade Wilson', 3), (7, 'The Incredible Hulk', 7, 2, 'Bruce Banner', 7), (8, 'Captain America: The First Avenger', 5, 6, 'Steve Rogers', 5)]\n"
     ]
    }
   ],
   "source": [
    "print(cursor_MSU.fetchall())"
   ]
  },
  {
   "cell_type": "markdown",
   "metadata": {},
   "source": [
    "***\n",
    "***\n",
    "\n",
    "The format isn't exactly great for us humans. \n",
    "\n",
    "So, let's bring in `Pandas` and convert this output into a `DataFrame`. "
   ]
  },
  {
   "cell_type": "code",
   "execution_count": 59,
   "metadata": {
    "collapsed": true
   },
   "outputs": [],
   "source": [
    "import pandas as pd"
   ]
  },
  {
   "cell_type": "markdown",
   "metadata": {},
   "source": [
    "Lucky for us, `Pandas` has already has this solved for us! \n",
    "\n",
    "All we have to do is use the function `pd.read_sql()` and input in our `SQL` code and the connection to the database. \n",
    "\n",
    "Here, our `SQL` code in `sql_leftjoin` and our connection is `conn`. "
   ]
  },
  {
   "cell_type": "code",
   "execution_count": 60,
   "metadata": {
    "collapsed": false
   },
   "outputs": [],
   "source": [
    "Marvel_df = pd.read_sql(sql_leftjoin, conn_MSU)"
   ]
  },
  {
   "cell_type": "markdown",
   "metadata": {},
   "source": [
    "Let's check it out!"
   ]
  },
  {
   "cell_type": "code",
   "execution_count": 61,
   "metadata": {
    "collapsed": false
   },
   "outputs": [
    {
     "data": {
      "text/html": [
       "<div>\n",
       "<style scoped>\n",
       "    .dataframe tbody tr th:only-of-type {\n",
       "        vertical-align: middle;\n",
       "    }\n",
       "\n",
       "    .dataframe tbody tr th {\n",
       "        vertical-align: top;\n",
       "    }\n",
       "\n",
       "    .dataframe thead th {\n",
       "        text-align: right;\n",
       "    }\n",
       "</style>\n",
       "<table border=\"1\" class=\"dataframe\">\n",
       "  <thead>\n",
       "    <tr style=\"text-align: right;\">\n",
       "      <th></th>\n",
       "      <th>id</th>\n",
       "      <th>title</th>\n",
       "      <th>superhero_id</th>\n",
       "      <th>id</th>\n",
       "      <th>name</th>\n",
       "      <th>superhero_id</th>\n",
       "    </tr>\n",
       "  </thead>\n",
       "  <tbody>\n",
       "    <tr>\n",
       "      <th>0</th>\n",
       "      <td>1</td>\n",
       "      <td>Iron Man</td>\n",
       "      <td>1</td>\n",
       "      <td>1</td>\n",
       "      <td>Tony Stark</td>\n",
       "      <td>1</td>\n",
       "    </tr>\n",
       "    <tr>\n",
       "      <th>1</th>\n",
       "      <td>2</td>\n",
       "      <td>Iron Man 2</td>\n",
       "      <td>1</td>\n",
       "      <td>1</td>\n",
       "      <td>Tony Stark</td>\n",
       "      <td>1</td>\n",
       "    </tr>\n",
       "    <tr>\n",
       "      <th>2</th>\n",
       "      <td>3</td>\n",
       "      <td>Iron Man 3</td>\n",
       "      <td>1</td>\n",
       "      <td>1</td>\n",
       "      <td>Tony Stark</td>\n",
       "      <td>1</td>\n",
       "    </tr>\n",
       "    <tr>\n",
       "      <th>3</th>\n",
       "      <td>4</td>\n",
       "      <td>Guardians of the Galaxy</td>\n",
       "      <td>8</td>\n",
       "      <td>9</td>\n",
       "      <td>Peter Quill</td>\n",
       "      <td>8</td>\n",
       "    </tr>\n",
       "    <tr>\n",
       "      <th>4</th>\n",
       "      <td>5</td>\n",
       "      <td>Ant-Man</td>\n",
       "      <td>2</td>\n",
       "      <td>5</td>\n",
       "      <td>Hank Pym</td>\n",
       "      <td>2</td>\n",
       "    </tr>\n",
       "  </tbody>\n",
       "</table>\n",
       "</div>"
      ],
      "text/plain": [
       "   id                    title  superhero_id  id         name  superhero_id\n",
       "0   1                 Iron Man             1   1   Tony Stark             1\n",
       "1   2               Iron Man 2             1   1   Tony Stark             1\n",
       "2   3               Iron Man 3             1   1   Tony Stark             1\n",
       "3   4  Guardians of the Galaxy             8   9  Peter Quill             8\n",
       "4   5                  Ant-Man             2   5     Hank Pym             2"
      ]
     },
     "execution_count": 61,
     "metadata": {},
     "output_type": "execute_result"
    }
   ],
   "source": [
    "Marvel_df.head()"
   ]
  },
  {
   "cell_type": "markdown",
   "metadata": {},
   "source": [
    "Cool, it worked! Notice that while both `superhero_id` columns from both tables are fully aligned because the `JOIN`, we now have two columns! This is both redundant (and a waste of hard drive space) and may be confusing for future joins with this new table. \n",
    "\n",
    "Futhermore, `id` is a row id of their respective tables that doesn't provide any useful information. \n",
    "\n",
    "How do we clean this up a bit?"
   ]
  },
  {
   "cell_type": "markdown",
   "metadata": {},
   "source": [
    "***\n",
    "***\n",
    "\n",
    "# Checkpoint 6 of 9\n",
    "## Now you try!\n",
    "\n",
    "### Repeat the same `LEFT JOIN` merge as before, but now select specific columns from each table:\n",
    "    - title and superhero_id from the table Movies\n",
    "    - name from the table RealNames\n",
    "### Write the query in `SQL` and read it in with `Pandas`. \n",
    "\n",
    "### *Hint:* You don't need to have the column in the `SELECT` statement in order for you to do a join!"
   ]
  },
  {
   "cell_type": "code",
   "execution_count": 62,
   "metadata": {
    "collapsed": true
   },
   "outputs": [],
   "source": [
    "DBPATH_MSU2 = 'Data/superheroes.db'"
   ]
  },
  {
   "cell_type": "code",
   "execution_count": 63,
   "metadata": {
    "collapsed": true
   },
   "outputs": [],
   "source": [
    "conn_MSU2 = sqlite3.connect(DBPATH_MSU)"
   ]
  },
  {
   "cell_type": "code",
   "execution_count": 64,
   "metadata": {
    "collapsed": true
   },
   "outputs": [],
   "source": [
    "cursor_MSU2 = conn_MSU2.cursor()"
   ]
  },
  {
   "cell_type": "code",
   "execution_count": 65,
   "metadata": {
    "collapsed": true
   },
   "outputs": [],
   "source": [
    "sql_leftjoin = '''\n",
    "            Select Movies.superhero_id, Movies.title, Realnames.name\n",
    "            FROM Movies\n",
    "            LEFT JOIN RealNames\n",
    "            ON Movies.superhero_id = RealNames.superhero_id\n",
    "        '''"
   ]
  },
  {
   "cell_type": "code",
   "execution_count": 66,
   "metadata": {
    "collapsed": false
   },
   "outputs": [
    {
     "data": {
      "text/plain": [
       "<sqlite3.Cursor at 0x7f1fc7479490>"
      ]
     },
     "execution_count": 66,
     "metadata": {},
     "output_type": "execute_result"
    }
   ],
   "source": [
    "cursor_MSU2.execute(sql_leftjoin)"
   ]
  },
  {
   "cell_type": "code",
   "execution_count": 67,
   "metadata": {
    "collapsed": false
   },
   "outputs": [
    {
     "name": "stdout",
     "output_type": "stream",
     "text": [
      "[]\n"
     ]
    }
   ],
   "source": [
    "print(cursor_MSU.fetchall())"
   ]
  },
  {
   "cell_type": "code",
   "execution_count": 68,
   "metadata": {
    "collapsed": true
   },
   "outputs": [],
   "source": [
    "Marvel_df = pd.read_sql(sql_leftjoin, conn_MSU)"
   ]
  },
  {
   "cell_type": "code",
   "execution_count": 69,
   "metadata": {
    "collapsed": false
   },
   "outputs": [
    {
     "data": {
      "text/html": [
       "<div>\n",
       "<style scoped>\n",
       "    .dataframe tbody tr th:only-of-type {\n",
       "        vertical-align: middle;\n",
       "    }\n",
       "\n",
       "    .dataframe tbody tr th {\n",
       "        vertical-align: top;\n",
       "    }\n",
       "\n",
       "    .dataframe thead th {\n",
       "        text-align: right;\n",
       "    }\n",
       "</style>\n",
       "<table border=\"1\" class=\"dataframe\">\n",
       "  <thead>\n",
       "    <tr style=\"text-align: right;\">\n",
       "      <th></th>\n",
       "      <th>superhero_id</th>\n",
       "      <th>title</th>\n",
       "      <th>name</th>\n",
       "    </tr>\n",
       "  </thead>\n",
       "  <tbody>\n",
       "    <tr>\n",
       "      <th>0</th>\n",
       "      <td>1</td>\n",
       "      <td>Iron Man</td>\n",
       "      <td>Tony Stark</td>\n",
       "    </tr>\n",
       "    <tr>\n",
       "      <th>1</th>\n",
       "      <td>1</td>\n",
       "      <td>Iron Man 2</td>\n",
       "      <td>Tony Stark</td>\n",
       "    </tr>\n",
       "    <tr>\n",
       "      <th>2</th>\n",
       "      <td>1</td>\n",
       "      <td>Iron Man 3</td>\n",
       "      <td>Tony Stark</td>\n",
       "    </tr>\n",
       "    <tr>\n",
       "      <th>3</th>\n",
       "      <td>8</td>\n",
       "      <td>Guardians of the Galaxy</td>\n",
       "      <td>Peter Quill</td>\n",
       "    </tr>\n",
       "    <tr>\n",
       "      <th>4</th>\n",
       "      <td>2</td>\n",
       "      <td>Ant-Man</td>\n",
       "      <td>Hank Pym</td>\n",
       "    </tr>\n",
       "  </tbody>\n",
       "</table>\n",
       "</div>"
      ],
      "text/plain": [
       "   superhero_id                    title         name\n",
       "0             1                 Iron Man   Tony Stark\n",
       "1             1               Iron Man 2   Tony Stark\n",
       "2             1               Iron Man 3   Tony Stark\n",
       "3             8  Guardians of the Galaxy  Peter Quill\n",
       "4             2                  Ant-Man     Hank Pym"
      ]
     },
     "execution_count": 69,
     "metadata": {},
     "output_type": "execute_result"
    }
   ],
   "source": [
    "Marvel_df.head()"
   ]
  },
  {
   "cell_type": "markdown",
   "metadata": {},
   "source": [
    "***\n",
    "***\n",
    "\n",
    "## Note on Right Joins and Full Outer Joins\n",
    "\n",
    "In `sqlite` you cannot perform them. Again, we're using `sqlite` as a pedagogical tool. The various `SQL` platforms you'll use will be very similar to `sqlite` and your queries will allow you to use both sorts of `JOINs`. Since we're restricted by CPU and memory-usage, we cannot use them here. \n",
    "\n",
    "***\n",
    "***"
   ]
  },
  {
   "cell_type": "markdown",
   "metadata": {},
   "source": [
    "***\n",
    "***\n",
    "\n",
    "# Nested Joins\n",
    "\n",
    "We can also run nested joins, or joins within joins. So, instead of running two joins at once, we can run and construct our output all in one large query. \n",
    "\n",
    "Let's look at our original query. \n",
    "\n",
    "```Python\n",
    "            Select * \n",
    "                FROM Movies\n",
    "            LEFT JOIN RealNames\n",
    "            ON Movies.superhero_id = RealNames.superhero_id\n",
    "```\n",
    "\n",
    "This essentially produces a table. If so, we can query from it! If so, then we can treat this query as a table and perform other query operations on it! In the query above, we `LEFT JOINed` `Movies` with `RealNames`. \n",
    "\n",
    "Say we now want to know their superhero names. We can nest this query and treat it as a table in a NEW query and join it with the superhero names. \n",
    "\n",
    "**NOTE:** The superhero id in the table `Superheroes` is just `id` and not `superhero_id` as it is in the other tables. \n",
    "\n",
    "```Python\n",
    "        Select *\n",
    "            From Superheroes\n",
    "        JOIN (\n",
    "              Select * \n",
    "                FROM Movies\n",
    "              LEFT JOIN RealNames\n",
    "              ON Movies.superhero_id = RealNames.superhero_id\n",
    "              ) AS Movies_RealNames\n",
    "        ON Movies_RealNames.superhero_id = Superheores.id\n",
    "```        \n",
    "\n",
    "This nested query looks scary at first, but look at what it just really is:\n",
    "\n",
    "```Python\n",
    "        Select *\n",
    "            From Superheroes\n",
    "        JOIN Movies_RealNames\n",
    "        ON Movies_RealNames.superhero_id = Superheores.id\n",
    "``` \n",
    "\n",
    "It's just a regular join with a new table we made! We just need to use `AS` to rename the table. Here, I called our nested query table `Movies_RealNames` as it's the merge between the tables `Movie` and `RealNames`. \n",
    "\n",
    "Let's read it in and check it out! "
   ]
  },
  {
   "cell_type": "code",
   "execution_count": 70,
   "metadata": {
    "collapsed": true
   },
   "outputs": [],
   "source": [
    "sql_nested = '''\n",
    "        Select *\n",
    "            From Superheroes\n",
    "        JOIN (\n",
    "              Select * \n",
    "                FROM Movies\n",
    "              LEFT JOIN RealNames\n",
    "              ON Movies.superhero_id = RealNames.superhero_id\n",
    "              ) AS Movies_RealNames\n",
    "        ON Movies_RealNames.superhero_id = Superheroes.id\n",
    "'''"
   ]
  },
  {
   "cell_type": "code",
   "execution_count": 71,
   "metadata": {
    "collapsed": false
   },
   "outputs": [],
   "source": [
    "Marvel_Nested_df = pd.read_sql(sql_nested, conn_MSU)"
   ]
  },
  {
   "cell_type": "code",
   "execution_count": 72,
   "metadata": {
    "collapsed": false
   },
   "outputs": [
    {
     "data": {
      "text/html": [
       "<div>\n",
       "<style scoped>\n",
       "    .dataframe tbody tr th:only-of-type {\n",
       "        vertical-align: middle;\n",
       "    }\n",
       "\n",
       "    .dataframe tbody tr th {\n",
       "        vertical-align: top;\n",
       "    }\n",
       "\n",
       "    .dataframe thead th {\n",
       "        text-align: right;\n",
       "    }\n",
       "</style>\n",
       "<table border=\"1\" class=\"dataframe\">\n",
       "  <thead>\n",
       "    <tr style=\"text-align: right;\">\n",
       "      <th></th>\n",
       "      <th>id</th>\n",
       "      <th>name</th>\n",
       "      <th>id</th>\n",
       "      <th>title</th>\n",
       "      <th>superhero_id</th>\n",
       "      <th>id:1</th>\n",
       "      <th>name</th>\n",
       "      <th>superhero_id:1</th>\n",
       "    </tr>\n",
       "  </thead>\n",
       "  <tbody>\n",
       "    <tr>\n",
       "      <th>0</th>\n",
       "      <td>1</td>\n",
       "      <td>Iron Man</td>\n",
       "      <td>1</td>\n",
       "      <td>Iron Man</td>\n",
       "      <td>1</td>\n",
       "      <td>1</td>\n",
       "      <td>Tony Stark</td>\n",
       "      <td>1</td>\n",
       "    </tr>\n",
       "    <tr>\n",
       "      <th>1</th>\n",
       "      <td>1</td>\n",
       "      <td>Iron Man</td>\n",
       "      <td>2</td>\n",
       "      <td>Iron Man 2</td>\n",
       "      <td>1</td>\n",
       "      <td>1</td>\n",
       "      <td>Tony Stark</td>\n",
       "      <td>1</td>\n",
       "    </tr>\n",
       "    <tr>\n",
       "      <th>2</th>\n",
       "      <td>1</td>\n",
       "      <td>Iron Man</td>\n",
       "      <td>3</td>\n",
       "      <td>Iron Man 3</td>\n",
       "      <td>1</td>\n",
       "      <td>1</td>\n",
       "      <td>Tony Stark</td>\n",
       "      <td>1</td>\n",
       "    </tr>\n",
       "    <tr>\n",
       "      <th>3</th>\n",
       "      <td>8</td>\n",
       "      <td>Starlord</td>\n",
       "      <td>4</td>\n",
       "      <td>Guardians of the Galaxy</td>\n",
       "      <td>8</td>\n",
       "      <td>9</td>\n",
       "      <td>Peter Quill</td>\n",
       "      <td>8</td>\n",
       "    </tr>\n",
       "    <tr>\n",
       "      <th>4</th>\n",
       "      <td>2</td>\n",
       "      <td>Ant-Man</td>\n",
       "      <td>5</td>\n",
       "      <td>Ant-Man</td>\n",
       "      <td>2</td>\n",
       "      <td>5</td>\n",
       "      <td>Hank Pym</td>\n",
       "      <td>2</td>\n",
       "    </tr>\n",
       "  </tbody>\n",
       "</table>\n",
       "</div>"
      ],
      "text/plain": [
       "   id      name  id                    title  superhero_id  id:1         name  \\\n",
       "0   1  Iron Man   1                 Iron Man             1     1   Tony Stark   \n",
       "1   1  Iron Man   2               Iron Man 2             1     1   Tony Stark   \n",
       "2   1  Iron Man   3               Iron Man 3             1     1   Tony Stark   \n",
       "3   8  Starlord   4  Guardians of the Galaxy             8     9  Peter Quill   \n",
       "4   2   Ant-Man   5                  Ant-Man             2     5     Hank Pym   \n",
       "\n",
       "   superhero_id:1  \n",
       "0               1  \n",
       "1               1  \n",
       "2               1  \n",
       "3               8  \n",
       "4               2  "
      ]
     },
     "execution_count": 72,
     "metadata": {},
     "output_type": "execute_result"
    }
   ],
   "source": [
    "Marvel_Nested_df.head()"
   ]
  },
  {
   "cell_type": "markdown",
   "metadata": {
    "collapsed": true
   },
   "source": [
    "***\n",
    "***\n",
    "\n",
    "# Checkpoint 7 of 9\n",
    "## Now you try!\n",
    "\n",
    "### Create a run your own nested query! Don't merely copy-and-paste the one we went through here. Create your own (i.e., change the order of the joins). \n",
    "\n",
    "### Use the three tables from the Marvel Superhero Universe database. \n",
    "\n",
    "### Again, use `Pandas` to read in and store the query as a `DataFrame`. "
   ]
  },
  {
   "cell_type": "code",
   "execution_count": 73,
   "metadata": {
    "collapsed": true
   },
   "outputs": [],
   "source": [
    "sql_nested_2 = '''\n",
    "        Select *\n",
    "            From RealNames\n",
    "        JOIN (\n",
    "              Select *\n",
    "                FROM Movies\n",
    "              LEFT JOIN Superheroes\n",
    "              ON Movies.superhero_id = Superheroes.id\n",
    "              ) AS Movies_Superheroes\n",
    "        ON Movies_Superheroes.superhero_id = RealNames.superhero_id\n",
    "'''"
   ]
  },
  {
   "cell_type": "code",
   "execution_count": 74,
   "metadata": {
    "collapsed": false
   },
   "outputs": [
    {
     "data": {
      "text/plain": [
       "<sqlite3.Cursor at 0x7f1fc7479490>"
      ]
     },
     "execution_count": 74,
     "metadata": {},
     "output_type": "execute_result"
    }
   ],
   "source": [
    "cursor_MSU2.execute(sql_nested_2)"
   ]
  },
  {
   "cell_type": "code",
   "execution_count": 75,
   "metadata": {
    "collapsed": false
   },
   "outputs": [],
   "source": [
    "Marvel_Nested_df2 = pd.read_sql(sql_nested_2, conn_MSU)"
   ]
  },
  {
   "cell_type": "code",
   "execution_count": 76,
   "metadata": {
    "collapsed": false
   },
   "outputs": [
    {
     "data": {
      "text/html": [
       "<div>\n",
       "<style scoped>\n",
       "    .dataframe tbody tr th:only-of-type {\n",
       "        vertical-align: middle;\n",
       "    }\n",
       "\n",
       "    .dataframe tbody tr th {\n",
       "        vertical-align: top;\n",
       "    }\n",
       "\n",
       "    .dataframe thead th {\n",
       "        text-align: right;\n",
       "    }\n",
       "</style>\n",
       "<table border=\"1\" class=\"dataframe\">\n",
       "  <thead>\n",
       "    <tr style=\"text-align: right;\">\n",
       "      <th></th>\n",
       "      <th>id</th>\n",
       "      <th>name</th>\n",
       "      <th>superhero_id</th>\n",
       "      <th>id</th>\n",
       "      <th>title</th>\n",
       "      <th>superhero_id</th>\n",
       "      <th>id:1</th>\n",
       "      <th>name</th>\n",
       "    </tr>\n",
       "  </thead>\n",
       "  <tbody>\n",
       "    <tr>\n",
       "      <th>0</th>\n",
       "      <td>1</td>\n",
       "      <td>Tony Stark</td>\n",
       "      <td>1</td>\n",
       "      <td>1</td>\n",
       "      <td>Iron Man</td>\n",
       "      <td>1</td>\n",
       "      <td>1</td>\n",
       "      <td>Iron Man</td>\n",
       "    </tr>\n",
       "    <tr>\n",
       "      <th>1</th>\n",
       "      <td>1</td>\n",
       "      <td>Tony Stark</td>\n",
       "      <td>1</td>\n",
       "      <td>2</td>\n",
       "      <td>Iron Man 2</td>\n",
       "      <td>1</td>\n",
       "      <td>1</td>\n",
       "      <td>Iron Man</td>\n",
       "    </tr>\n",
       "    <tr>\n",
       "      <th>2</th>\n",
       "      <td>1</td>\n",
       "      <td>Tony Stark</td>\n",
       "      <td>1</td>\n",
       "      <td>3</td>\n",
       "      <td>Iron Man 3</td>\n",
       "      <td>1</td>\n",
       "      <td>1</td>\n",
       "      <td>Iron Man</td>\n",
       "    </tr>\n",
       "    <tr>\n",
       "      <th>3</th>\n",
       "      <td>2</td>\n",
       "      <td>Bruce Banner</td>\n",
       "      <td>7</td>\n",
       "      <td>7</td>\n",
       "      <td>The Incredible Hulk</td>\n",
       "      <td>7</td>\n",
       "      <td>7</td>\n",
       "      <td>Hulk</td>\n",
       "    </tr>\n",
       "    <tr>\n",
       "      <th>4</th>\n",
       "      <td>4</td>\n",
       "      <td>Scott Lang</td>\n",
       "      <td>2</td>\n",
       "      <td>5</td>\n",
       "      <td>Ant-Man</td>\n",
       "      <td>2</td>\n",
       "      <td>2</td>\n",
       "      <td>Ant-Man</td>\n",
       "    </tr>\n",
       "  </tbody>\n",
       "</table>\n",
       "</div>"
      ],
      "text/plain": [
       "   id          name  superhero_id  id                title  superhero_id  \\\n",
       "0   1    Tony Stark             1   1             Iron Man             1   \n",
       "1   1    Tony Stark             1   2           Iron Man 2             1   \n",
       "2   1    Tony Stark             1   3           Iron Man 3             1   \n",
       "3   2  Bruce Banner             7   7  The Incredible Hulk             7   \n",
       "4   4    Scott Lang             2   5              Ant-Man             2   \n",
       "\n",
       "   id:1      name  \n",
       "0     1  Iron Man  \n",
       "1     1  Iron Man  \n",
       "2     1  Iron Man  \n",
       "3     7      Hulk  \n",
       "4     2   Ant-Man  "
      ]
     },
     "execution_count": 76,
     "metadata": {},
     "output_type": "execute_result"
    }
   ],
   "source": [
    "Marvel_Nested_df2.head()"
   ]
  },
  {
   "cell_type": "code",
   "execution_count": null,
   "metadata": {
    "collapsed": true
   },
   "outputs": [],
   "source": []
  },
  {
   "cell_type": "code",
   "execution_count": null,
   "metadata": {
    "collapsed": true
   },
   "outputs": [],
   "source": []
  },
  {
   "cell_type": "markdown",
   "metadata": {},
   "source": [
    "***\n",
    "***"
   ]
  },
  {
   "cell_type": "markdown",
   "metadata": {},
   "source": [
    "# Multiprocessing in Python\n",
    "\n",
    "You'll likely want to speed up your code at some in your career. Thankfully multiprocessing is here to help. \n",
    "\n",
    "CPUs with multiple cores have become the standard in the recent development of modern computer architectures and we can not only find them in supercomputer facilities but also in our desktop machines at home, and our laptops!\n",
    "\n",
    "However, the default `Python` interpreter was designed with simplicity in mind and has a thread-safe mechanism: the “GIL” (Global Interpreter Lock). In order to prevent conflicts between threads, it executes only one statement at a time. This is called \"serial processing,\" or \"single-threading.\"\n",
    "\n",
    "To get around, we'll use the `multiprocessing` module and we will see how we can spawn multiple subprocesses to avoid some of the GIL’s disadvantages.\n",
    "\n",
    "The image below distinguishes between serial processing, what we've been doing up to this point, and parallel processing. \n",
    "    - Serial memory processing is the act of attending to and processing one item at a time. \n",
    "    - Parallel memory processing, by constract, is the act of attending to and processing all items simultaneously.\n"
   ]
  },
  {
   "cell_type": "markdown",
   "metadata": {},
   "source": [
    "![serial vs multiprocessing](Images/05_multiprocessing_scheme.png)\n",
    "\n",
    "\n",
    "***\n",
    "***\n",
    "\n",
    "Another way of visualizing this is shown below for both serial and multiprocessing. \n",
    "Serial processing with the GIL is shown here: \n",
    "\n",
    "![serial vs multiprocessing](Images/05_serial_processing.jpeg)\n",
    "\n",
    "***\n",
    "***\n",
    "\n",
    "Multiprocessing that subverts the GIL is shown here: \n",
    "\n",
    "![serial vs multiprocessing](Images/05_multi_processing.jpeg)\n",
    "\n",
    "***\n",
    "***\n",
    "\n",
    "# Multi-Threading vs. Multi-Processing\n",
    "\n",
    "Depending on the application, two common approaches in parallel programming are either to run code via _threads_ or _multiple processes_. \n",
    "\n",
    "## On Threads (Shared Memory)\n",
    "\n",
    "If we submit “jobs” to different threads, those jobs can be pictured as “sub-tasks” of a single process. However, those threads will usually have access to the same memory areas (i.e., shared memory). As such, this approach can easily lead to conflicts where there is if processes are writing to the same memory location at the same time. (Like outputting to a CSV, for instance.)\n",
    "\n",
    "## Multiple Processes (Distributed Memory)\n",
    "\n",
    "A safer approach (although it comes with an additional overhead due to the communication overhead between separate processes) is to submit _multiple processes_ to completely separate memory locations (i.e., distributed memory): **Every process will run completely independent from each other.**\n",
    "\n",
    "Here, we will take a look at `Python`’s multiprocessing module and how we can use it to submit multiple processes that can run independently from each other in order to make best use of our CPU cores.\n",
    "\n",
    "***\n",
    "***\n",
    "\n",
    "# The `multiprocessing` module\n",
    "The multiprocessing module in Python’s Standard Library has a lot of powerful features. If you want to read about all the nitty-gritty tips, tricks, and details, I would recommend to use the official documentation as an entry point.\n",
    "\n",
    "Let's go through a brief overview of different approaches to show how the multiprocessing module can be used for parallel programming.\n",
    "\n",
    "## The `Process` class and the `Pool` class\n",
    "The `multiprocessing Python` module contains two classes capable of handling tasks. \n",
    "\n",
    "The `Process` class sends each task to a different processor, and the `Pool` class sends sets of tasks to different processors.\n",
    "\n",
    "While both classes provide a similar speed increase, the `Process` class is more efficient when there are not many processes to execute. Using Pythonanywhere we normally only have 4 CPUs, so this is our case. \n",
    "\n",
    "**Key Take-away:**\n",
    "`Pool` is most useful for **LARGE** number of processes and where each process can execute quickly.\n",
    "`Process` is most useful for a **SMALL** number of processes where each process takes a longer time to execute.\n",
    "\n",
    "***\n",
    "***\n",
    "\n",
    "## The `Pool` class\n",
    "The convenient approach for simple parallel processing tasks is provided by the `Pool` class.\n",
    "\n",
    "There are four methods that are particularly interesting:\n",
    "    - Pool.apply\n",
    "    - Pool.map\n",
    "    - Pool.apply_async\n",
    "    - Pool.map_async\n",
    "\n",
    "The `Pool.apply` and `Pool.map` methods are basically equivalents to `Python`’s in-built `apply` and `map` functions."
   ]
  },
  {
   "cell_type": "code",
   "execution_count": 77,
   "metadata": {
    "collapsed": false
   },
   "outputs": [],
   "source": [
    "from multiprocessing import Pool\n",
    "import multiprocessing"
   ]
  },
  {
   "cell_type": "markdown",
   "metadata": {},
   "source": [
    "First, we need to create some sort of function. This is called a \"worker.\" It's a function which will be executed in parallel. \n",
    "\n",
    "Here, let's define a worker (i.e., function) called `worker` that takes in one parameter. Let's make it simple and let's say it takes in some number and returns its square. \n",
    "\n",
    "**Note:** You don't need to call your function `worker`, you can call it whatever you'd like. "
   ]
  },
  {
   "cell_type": "code",
   "execution_count": 78,
   "metadata": {
    "collapsed": true
   },
   "outputs": [],
   "source": [
    "def worker(x):\n",
    "    return x*x"
   ]
  },
  {
   "cell_type": "markdown",
   "metadata": {},
   "source": [
    "Now, how many processors are we going to use? We can first find out how many processors are available to us using the function `cpu_count()`. "
   ]
  },
  {
   "cell_type": "code",
   "execution_count": 79,
   "metadata": {
    "collapsed": false
   },
   "outputs": [
    {
     "data": {
      "text/plain": [
       "2"
      ]
     },
     "execution_count": 79,
     "metadata": {},
     "output_type": "execute_result"
    }
   ],
   "source": [
    "multiprocessing.cpu_count()"
   ]
  },
  {
   "cell_type": "markdown",
   "metadata": {},
   "source": [
    "Note that with `pythonanywhere.com`, you can increase the alloted number of CPUs. It should default for most of us to 4, however you can increase this to even more, if you want! You'll just need to pay a bit more per month. \n",
    "\n",
    "Okay, so let's set the number of processors to be the maximum number possible, or 1 minus `cpu_count()`. \n",
    "\n",
    "Why minus 1? If **EVERY CPU** were allocated to your process, there's nothing else left for your computer to run its most basic functions (i.e., the OS, etc.). \n",
    "\n",
    "**NEVER SET THE NUMBER OF PROCESSORS TO THE NUMBER OF CORES AVAILABLE. At most, it MUST be 1 less.** "
   ]
  },
  {
   "cell_type": "code",
   "execution_count": 80,
   "metadata": {
    "collapsed": true
   },
   "outputs": [],
   "source": [
    "num_processors = multiprocessing.cpu_count() - 1"
   ]
  },
  {
   "cell_type": "markdown",
   "metadata": {},
   "source": [
    "Next, let's create a pool of processors. "
   ]
  },
  {
   "cell_type": "code",
   "execution_count": 81,
   "metadata": {
    "collapsed": true
   },
   "outputs": [],
   "source": [
    "p=Pool(processes = num_processors)"
   ]
  },
  {
   "cell_type": "markdown",
   "metadata": {},
   "source": [
    "Okay, now let's get them to work in parallel! For each worker, it will work on the function with one particular parameter. \n",
    "\n",
    "Let's create a list of parameters that we'll pass. Since our function squares the value, let's square the values for the numbers 0, 1, 2, 3, and 4. "
   ]
  },
  {
   "cell_type": "code",
   "execution_count": 82,
   "metadata": {
    "collapsed": true
   },
   "outputs": [],
   "source": [
    "parameters = [0,1,2,3,4]"
   ]
  },
  {
   "cell_type": "markdown",
   "metadata": {},
   "source": [
    "Now, let's use the method `.map()` to map these parameters to our workers. \n",
    "\n",
    "Note that we have five parameters (0 through 4) and only three workers. That's okay! Workers will each be assigned one parameter to work on, and then when they're done and available, get the next value. In this way, it's a bit like enhanced serial processing. "
   ]
  },
  {
   "cell_type": "code",
   "execution_count": 83,
   "metadata": {
    "collapsed": true
   },
   "outputs": [],
   "source": [
    "output = p.map(worker,parameters)"
   ]
  },
  {
   "cell_type": "markdown",
   "metadata": {},
   "source": [
    "Finally, let's close out the pool using the method `.close()`."
   ]
  },
  {
   "cell_type": "code",
   "execution_count": 84,
   "metadata": {
    "collapsed": true
   },
   "outputs": [],
   "source": [
    "p.close()"
   ]
  },
  {
   "cell_type": "markdown",
   "metadata": {},
   "source": [
    "Let's see the output. It should return a list of values, each of which are the respective squares of the inputs. "
   ]
  },
  {
   "cell_type": "code",
   "execution_count": 85,
   "metadata": {
    "collapsed": false
   },
   "outputs": [
    {
     "data": {
      "text/plain": [
       "[0, 1, 4, 9, 16]"
      ]
     },
     "execution_count": 85,
     "metadata": {},
     "output_type": "execute_result"
    }
   ],
   "source": [
    "output"
   ]
  },
  {
   "cell_type": "markdown",
   "metadata": {},
   "source": [
    "One **BIG** caveat about using parallel processing in any form of interactive Python (Jupyter Notebooks or terminal-based iPython) is that it might not always work as we've written it here. \n",
    "\n",
    "The reasons are a bit complicated. However, if you're expecting to write more complicated you'll need to add a \n",
    "\n",
    "```python \n",
    "    if __name == '__main__'\n",
    "``` \n",
    "\n",
    "clause before calling your workers. \n",
    "\n",
    "The example below should work just as it did above. "
   ]
  },
  {
   "cell_type": "code",
   "execution_count": 86,
   "metadata": {
    "collapsed": false
   },
   "outputs": [
    {
     "name": "stdout",
     "output_type": "stream",
     "text": [
      "[0, 1, 4, 9, 16]\n"
     ]
    }
   ],
   "source": [
    "if __name__ ==  '__main__': \n",
    "    num_processors = multiprocessing.cpu_count() - 1\n",
    "    p=Pool(processes = num_processors)\n",
    "    output = p.map(worker,parameters)\n",
    "    p.close()\n",
    "    print(output)"
   ]
  },
  {
   "cell_type": "markdown",
   "metadata": {},
   "source": [
    "***\n",
    "***\n",
    "\n",
    "# Checkpoint 8 of 9\n",
    "## Now you try!\n",
    "\n",
    "### Write-up your own simple function (maybe it takes a number a raises it to some n-power or does something else rather basic) and use multiprocessing to print out some output, just as you did here. \n",
    "### Input a short list of a few test numbers. \n",
    "\n",
    "### **BONUS**--What would you need to do to pass in more than one set of parameters? For example, what if you wrote a function that took in both a number and the n-th power you wanted to raise that number to as parameters? **Hint:** Consider using a list of `tuples`."
   ]
  },
  {
   "cell_type": "code",
   "execution_count": 87,
   "metadata": {
    "collapsed": false
   },
   "outputs": [],
   "source": [
    "def apple(x):\n",
    "    return x**3\n"
   ]
  },
  {
   "cell_type": "code",
   "execution_count": 88,
   "metadata": {
    "collapsed": false
   },
   "outputs": [],
   "source": [
    "parameters = [i for i in range(0,6)]"
   ]
  },
  {
   "cell_type": "code",
   "execution_count": 89,
   "metadata": {
    "collapsed": false
   },
   "outputs": [
    {
     "data": {
      "text/plain": [
       "list"
      ]
     },
     "execution_count": 89,
     "metadata": {},
     "output_type": "execute_result"
    }
   ],
   "source": [
    "type(parameters)"
   ]
  },
  {
   "cell_type": "code",
   "execution_count": 90,
   "metadata": {
    "collapsed": false
   },
   "outputs": [],
   "source": [
    "tup=tuple(parameters)"
   ]
  },
  {
   "cell_type": "code",
   "execution_count": 91,
   "metadata": {
    "collapsed": false
   },
   "outputs": [
    {
     "data": {
      "text/plain": [
       "tuple"
      ]
     },
     "execution_count": 91,
     "metadata": {},
     "output_type": "execute_result"
    }
   ],
   "source": [
    "type(tup)"
   ]
  },
  {
   "cell_type": "code",
   "execution_count": 92,
   "metadata": {
    "collapsed": false
   },
   "outputs": [
    {
     "name": "stdout",
     "output_type": "stream",
     "text": [
      "[0, 1, 8, 27, 64, 125]\n"
     ]
    }
   ],
   "source": [
    "if __name__ ==  '__main__': \n",
    "    num_processors = multiprocessing.cpu_count() - 1\n",
    "    p=Pool(processes = num_processors)\n",
    "    output = p.map(apple,tup)\n",
    "    p.close()\n",
    "    print(output)"
   ]
  },
  {
   "cell_type": "code",
   "execution_count": 93,
   "metadata": {
    "collapsed": false
   },
   "outputs": [],
   "source": [
    "output=tuple(output)"
   ]
  },
  {
   "cell_type": "code",
   "execution_count": 94,
   "metadata": {
    "collapsed": false
   },
   "outputs": [
    {
     "data": {
      "text/plain": [
       "tuple"
      ]
     },
     "execution_count": 94,
     "metadata": {},
     "output_type": "execute_result"
    }
   ],
   "source": [
    "type(output)"
   ]
  },
  {
   "cell_type": "markdown",
   "metadata": {},
   "source": [
    "***\n",
    "***"
   ]
  },
  {
   "cell_type": "markdown",
   "metadata": {},
   "source": [
    "***\n",
    "***"
   ]
  },
  {
   "cell_type": "markdown",
   "metadata": {},
   "source": [
    "We can define our multiprocessing code as a function itself! In other words, we can pass in the parameters into a function that are then passed in to the `map()` method.\n",
    "\n",
    "Let's try it out. I'm taking the code we just wrote and putting it into its own function. **Note** that I changed `parameters` to `my_parameters` to avoid confusing a local versus a global parameter. "
   ]
  },
  {
   "cell_type": "code",
   "execution_count": 95,
   "metadata": {
    "collapsed": true
   },
   "outputs": [],
   "source": [
    "def multiprocessing_function(my_parameters):\n",
    "    if __name__ ==  '__main__': \n",
    "        num_processors = multiprocessing.cpu_count() - 1\n",
    "        p=Pool(processes = num_processors)\n",
    "        output = p.map(worker,my_parameters)\n",
    "        p.close()\n",
    "        return(output)"
   ]
  },
  {
   "cell_type": "markdown",
   "metadata": {},
   "source": [
    "Now I'm going to pass in `parameters` into our new function `multiprocessing_function` and return our original `output`. You'll see we get the same result. "
   ]
  },
  {
   "cell_type": "code",
   "execution_count": 96,
   "metadata": {
    "collapsed": false
   },
   "outputs": [
    {
     "data": {
      "text/plain": [
       "[0, 1, 4, 9, 16, 25]"
      ]
     },
     "execution_count": 96,
     "metadata": {},
     "output_type": "execute_result"
    }
   ],
   "source": [
    "multiprocessing_function(parameters)"
   ]
  },
  {
   "cell_type": "markdown",
   "metadata": {},
   "source": [
    "***\n",
    "\n",
    "### Performance?\n",
    "\n",
    "So, how long does this actually take?\n",
    "\n",
    "Let's try it with a 1000 numbers, instead of just five. Now, let's use the `time` module to track how long it takes with different number of processes. So far, we've used 1 minus the total number of processors. \n",
    "\n",
    "On my machine, that's 3. \n",
    "\n",
    "So, let's see how long it takes with 1, 2, and 3 dedicated processors. \n",
    "\n",
    "First, let's create a list of new parameters that goes from 0 to 999. "
   ]
  },
  {
   "cell_type": "code",
   "execution_count": 97,
   "metadata": {
    "collapsed": true
   },
   "outputs": [],
   "source": [
    "new_parameters = [i for i in range(0,1000)]"
   ]
  },
  {
   "cell_type": "markdown",
   "metadata": {},
   "source": [
    "Now, let's run our code in a `for loop`, where we pass in different numbers of available processors the pool can use. Here we're only going to use 1, 2, or 3 CPUs. \n",
    "\n",
    "For each time we use a different number of CPUs, we're going to output how long it takes in seconds. "
   ]
  },
  {
   "cell_type": "code",
   "execution_count": 98,
   "metadata": {
    "collapsed": false
   },
   "outputs": [
    {
     "name": "stdout",
     "output_type": "stream",
     "text": [
      "1 0.008086604000000053\n",
      "2 0.012885641000000003\n",
      "3 0.01848359799999999\n"
     ]
    }
   ],
   "source": [
    "import time \n",
    "for num_worker_processors in [1,2,3]:\n",
    "    if __name__ ==  '__main__': \n",
    "        start_time = time.process_time()\n",
    "        p=Pool(processes = num_worker_processors)\n",
    "        output = p.map(worker,new_parameters)\n",
    "        end_time = time.process_time() - start_time\n",
    "        print(num_worker_processors,end_time)"
   ]
  },
  {
   "cell_type": "markdown",
   "metadata": {},
   "source": [
    "So, with only one processor, it takes about 0.01 seconds, but with two processors, it takes longer, 0.02, and even longer with three, or about 0.03. \n",
    "\n",
    "Why is this the case? Recall the discussion earlier about `pool` and `process`. \n",
    "\n",
    "***\n",
    "***\n",
    "\n",
    "# The `Process` Class\n",
    "\n",
    "Let's now turn our attention to the `process class`. Let's import it from `multiprocessing`. "
   ]
  },
  {
   "cell_type": "code",
   "execution_count": 99,
   "metadata": {
    "collapsed": true
   },
   "outputs": [],
   "source": [
    "from multiprocessing import Process"
   ]
  },
  {
   "cell_type": "markdown",
   "metadata": {},
   "source": [
    "Let's first create two new functions that are a bit more complex: `basic_function()` and `some_complex_func()`.\n",
    "\n",
    "With `some_complex_func()`, we square the number that was passed in and print out if it's even or odd by calling `basic_func()`. "
   ]
  },
  {
   "cell_type": "code",
   "execution_count": 100,
   "metadata": {
    "collapsed": true
   },
   "outputs": [],
   "source": [
    "def basic_func(x):\n",
    "    if x == 0:\n",
    "        return 'zero'\n",
    "    elif x%2 == 0:\n",
    "        return 'even'\n",
    "    else:\n",
    "        return 'odd'"
   ]
  },
  {
   "cell_type": "code",
   "execution_count": 101,
   "metadata": {
    "collapsed": true
   },
   "outputs": [],
   "source": [
    "def some_complex_func(x):\n",
    "    y = x*x\n",
    "    time.sleep(2)\n",
    "    print('{} squared results in a/an {} number'.format(x, basic_func(y)))"
   ]
  },
  {
   "cell_type": "markdown",
   "metadata": {},
   "source": [
    "Now, let's use the `Process` class.\n",
    "\n",
    "We've already import `Process` and created a complicated function called `some_complex_func()`. I\n",
    "\n",
    "```python\n",
    "    processes_list = []\n",
    "    for i in range(0,10):\n",
    "        p = Process(target=some_complex_func, args=(i,))\n",
    "        processes_list.append(p)\n",
    "        p.start()\n",
    "```\n",
    "\n",
    "In the first `for loop`, shown above, we create a series of `Processes`. We pass in the `target`, or our function called `some_complex_func()`. We also pass in the arguments given as a `tuple`. These are the numbers we're going to square and return if it's even or odd. We're just going to go through numbers 0 through 9. \n",
    "\n",
    "Then, we append them together in a list called `processes_list`, which we define before the `for loop`. \n",
    "\n",
    "Finally, we start them using the method `.start()`. \n",
    "\n",
    "```python\n",
    "    for process in processes_list:\n",
    "        process.join()\n",
    "```\n",
    "\n",
    "Now, we can join them together! The last loop just calls the `.join()` method on each process in the list `process_list`. This tells `Python` to wait for the process to terminate. "
   ]
  },
  {
   "cell_type": "code",
   "execution_count": 102,
   "metadata": {
    "collapsed": false
   },
   "outputs": [
    {
     "name": "stdout",
     "output_type": "stream",
     "text": [
      "0 squared results in a/an zero number\n",
      "1 squared results in a/an odd number\n",
      "2 squared results in a/an even number\n",
      "3 squared results in a/an odd number\n",
      "4 squared results in a/an even number\n",
      "5 squared results in a/an odd number\n",
      "6 squared results in a/an even number\n",
      "7 squared results in a/an odd number\n",
      "8 squared results in a/an even number\n",
      "9 squared results in a/an odd number\n",
      "That took 2.0548713207244873 seconds\n"
     ]
    }
   ],
   "source": [
    "if __name__ == '__main__':\n",
    "    starttime = time.time()\n",
    "    processes_list = []\n",
    "    for i in range(0,10):\n",
    "        p = Process(target=some_complex_func, args=(i,))\n",
    "        processes_list.append(p)\n",
    "        p.start()\n",
    "        \n",
    "    for process in processes_list:\n",
    "        process.join()\n",
    "        \n",
    "    print('That took {} seconds'.format(time.time() - starttime))"
   ]
  },
  {
   "cell_type": "markdown",
   "metadata": {},
   "source": [
    "All of this looks fine! \n",
    "\n",
    "And it only took 2 seconds! So, let's try this now with `Pool`. Below, I use the same code we went through before, but now use our new function `some_complex_func()`. Let's see how long it takes. "
   ]
  },
  {
   "cell_type": "code",
   "execution_count": 103,
   "metadata": {
    "collapsed": false
   },
   "outputs": [
    {
     "name": "stdout",
     "output_type": "stream",
     "text": [
      "0 squared results in a/an zero number\n",
      "1 squared results in a/an odd number\n",
      "2 squared results in a/an even number\n",
      "3 squared results in a/an odd number\n",
      "4 squared results in a/an even number\n",
      "5 squared results in a/an odd number\n",
      "6 squared results in a/an even number\n",
      "7 squared results in a/an odd number\n",
      "8 squared results in a/an even number\n",
      "9 squared results in a/an odd number\n",
      "That took 8.06085753440857 seconds\n"
     ]
    }
   ],
   "source": [
    "if __name__ == '__main__':\n",
    "    \n",
    "    starttime = time.time()\n",
    "    pool = Pool(processes = num_worker_processors)\n",
    "    pool.map(some_complex_func, range(0,10))\n",
    "    pool.close()\n",
    "    print('That took {} seconds'.format(time.time() - starttime))"
   ]
  },
  {
   "cell_type": "markdown",
   "metadata": {},
   "source": [
    "Unless you are running a machine with more than 10 processors, the `Process` code should run faster than the Pool code. \n",
    "\n",
    "We can see that's the case here: 2 seconds (`Process`) versus 8 seconds (`Pool`)\n",
    "\n",
    "This is because `Process` sends code to a processor as soon as the process is started. \n",
    "\n",
    "`Pool` instead sends a code to each available processor and doesn’t send any more until a processor has finished computing the first section of code. \n",
    "\n",
    "`Pool` does this so that processes don’t have to compete for computing resources, but this makes it slower than `Process` in cases where each process is lengthy."
   ]
  },
  {
   "cell_type": "markdown",
   "metadata": {},
   "source": [
    "***\n",
    "***\n",
    "\n",
    "# Working with Data\n",
    "\n",
    "Let's use `multiprocessing` to work with data. You can do a lot of things when you parallelize things! However, for our purposes, let's get you set up with a simple example. Reading in lots of data. \n",
    "\n",
    "Since `Pool` is better for more computational heavy tasks, we'll focus on using `Pool` rather than `Process`. "
   ]
  },
  {
   "cell_type": "markdown",
   "metadata": {},
   "source": [
    "***\n",
    "\n",
    "First, let's perform a simple task. \n",
    "\n",
    "Let's read in a bunch of files and combine them together into one large `DataFrame`. For simplicity, let's focus on `DataFrames` that have the same format, but are split up into different CSVs. \n",
    "\n",
    "So the function we'll use is `Pandas`'s `read_csv` and we're going to pass in as our parameter a list of the file names with their path directories. \n",
    "\n",
    "To begin, let's get the list of file names and their directories to read in. How about we read in every file in your `/Data/` directory in `/Class_Materials/` that starts with the filename `gapminder_gdp_`. Specifically, there should be five CSV files total.\n",
    "\n",
    "Let's use the module `glob` to find these filenames based on a partial `string` match. "
   ]
  },
  {
   "cell_type": "code",
   "execution_count": 104,
   "metadata": {
    "collapsed": true
   },
   "outputs": [],
   "source": [
    "import glob"
   ]
  },
  {
   "cell_type": "markdown",
   "metadata": {},
   "source": [
    "Next make sure you're in `Class_Materials`. If you're not, add a cell (of code) here and `cd` into it. Check your present working directory with `%pwd`. "
   ]
  },
  {
   "cell_type": "code",
   "execution_count": 105,
   "metadata": {
    "collapsed": false
   },
   "outputs": [
    {
     "data": {
      "text/plain": [
       "'/home/ahegu/Class_Materials'"
      ]
     },
     "execution_count": 105,
     "metadata": {},
     "output_type": "execute_result"
    }
   ],
   "source": [
    "%pwd"
   ]
  },
  {
   "cell_type": "markdown",
   "metadata": {},
   "source": [
    "Using `glob.glob()`, we're going to go into our `Data/` folder and find the filenames and paths of all files that start with `gapminder_gdp`, where the `*` is a catch-all for anything that comes after the string. We'll learn more about it in a few lessons!"
   ]
  },
  {
   "cell_type": "code",
   "execution_count": 106,
   "metadata": {
    "collapsed": false
   },
   "outputs": [],
   "source": [
    "file_list = glob.glob('Data/gapminder_gdp*')"
   ]
  },
  {
   "cell_type": "markdown",
   "metadata": {},
   "source": [
    "Let's take a look at the contents of the list. \n",
    "\n",
    "We should see five CSV files all beginning with `gapminder_gdp`. "
   ]
  },
  {
   "cell_type": "code",
   "execution_count": 107,
   "metadata": {
    "collapsed": false
   },
   "outputs": [
    {
     "data": {
      "text/plain": [
       "['Data/gapminder_gdp_europe.csv',\n",
       " 'Data/gapminder_gdp_oceania.csv',\n",
       " 'Data/gapminder_gdp_americas.csv',\n",
       " 'Data/gapminder_gdp_africa.csv',\n",
       " 'Data/gapminder_gdp_asia.csv']"
      ]
     },
     "execution_count": 107,
     "metadata": {},
     "output_type": "execute_result"
    }
   ],
   "source": [
    "file_list"
   ]
  },
  {
   "cell_type": "markdown",
   "metadata": {},
   "source": [
    "Just like before, we need to put all of our desired operations into a function we'll pass in!\n",
    "\n",
    "I'm going to create a function called `my_read_csv()`, which just uses `Pandas`'s `read_csv()` function. Even if your function does only one task, it needs to be defined in a function in order for it to be mapped. "
   ]
  },
  {
   "cell_type": "code",
   "execution_count": 108,
   "metadata": {
    "collapsed": true
   },
   "outputs": [],
   "source": [
    "def my_read_csv(filename):\n",
    "    return pd.read_csv(filename)"
   ]
  },
  {
   "cell_type": "markdown",
   "metadata": {},
   "source": [
    "Now, let's have our `pool` map the file names to `DataFrames` using our new function `my_read_csv()`. \n",
    "\n",
    "Let's first set up our `pool` just as we did before and use the `.map()` method from `pool`. \n",
    "\n",
    "The only difference is this line of code:\n",
    "\n",
    "```Python\n",
    "        df_list = pool.map(my_read_csv, file_list)\n",
    "```\n",
    "\n",
    "This maps our function `my_read_csv` to the passed in parameters `file_list`, which contains the file names of each file we're reading in. \n",
    "\n",
    "(Don't forget to close your `pool`.)"
   ]
  },
  {
   "cell_type": "code",
   "execution_count": 109,
   "metadata": {
    "collapsed": false
   },
   "outputs": [],
   "source": [
    "if __name__ == '__main__':    \n",
    "    num_processors = multiprocessing.cpu_count() - 1\n",
    "    pool = Pool(processes = num_processors)\n",
    "    df_list = pool.map(my_read_csv, file_list)\n",
    "    pool.close()"
   ]
  },
  {
   "cell_type": "markdown",
   "metadata": {},
   "source": [
    "Let's see what you did! Run the cell below. \n",
    "\n",
    "It's really long! Essentially, it's a `list` of `DataFrames`. Since we read in five `DataFrames` the `list` has five entries, one for each CSV. \n",
    "\n",
    "Let's check this out and verify."
   ]
  },
  {
   "cell_type": "code",
   "execution_count": 110,
   "metadata": {
    "collapsed": false
   },
   "outputs": [
    {
     "data": {
      "text/plain": [
       "[                   country          2006          2007          2008  \\\n",
       " 0                  Albania   1601.056136   1942.284244   2312.888958   \n",
       " 1                  Austria   6137.076492   8842.598030  10750.721110   \n",
       " 2                  Belgium   8343.105127   9714.960623  10991.206760   \n",
       " 3   Bosnia and Herzegovina    973.533195   1353.989176   1709.683679   \n",
       " 4                 Bulgaria   2444.286648   3008.670727   4254.337839   \n",
       " 5                  Croatia   3119.236520   4338.231617   5477.890018   \n",
       " 6           Czech Republic   6876.140250   8256.343918  10136.867130   \n",
       " 7                  Denmark   9692.385245  11099.659350  13583.313510   \n",
       " 8                  Finland   6424.519071   7545.415386   9371.842561   \n",
       " 9                   France   7029.809327   8662.834898  10560.485530   \n",
       " 10                 Germany   7144.114393  10187.826650  12902.462910   \n",
       " 11                  Greece   3530.690067   4916.299889   6017.190733   \n",
       " 12                 Hungary   5263.673816   6040.180011   7550.359877   \n",
       " 13                 Iceland   7267.688428   9244.001412  10350.159060   \n",
       " 14                 Ireland   5210.280328   5599.077872   6631.597314   \n",
       " 15                   Italy   4931.404155   6248.656232   8243.582340   \n",
       " 16              Montenegro   2647.585601   3682.259903   4649.593785   \n",
       " 17             Netherlands   8941.571858  11276.193440  12790.849560   \n",
       " 18                  Norway  10095.421720  11653.973040  13450.401510   \n",
       " 19                  Poland   4029.329699   4734.253019   5338.752143   \n",
       " 20                Portugal   3068.319867   3774.571743   4727.954889   \n",
       " 21                 Romania   3144.613186   3943.370225   4734.997586   \n",
       " 22                  Serbia   3581.459448   4981.090891   6289.629157   \n",
       " 23         Slovak Republic   5074.659104   6093.262980   7481.107598   \n",
       " 24                Slovenia   4215.041741   5862.276629   7402.303395   \n",
       " 25                   Spain   3834.034742   4564.802410   5693.843879   \n",
       " 26                  Sweden   8527.844662   9911.878226  12329.441920   \n",
       " 27             Switzerland  14734.232750  17909.489730  20431.092700   \n",
       " 28                  Turkey   1969.100980   2218.754257   2322.869908   \n",
       " 29          United Kingdom   9979.508487  11283.177950  12477.177070   \n",
       " \n",
       "             2009          2010          2011          2012          2013  \\\n",
       " 0    2760.196931   3313.422188   3533.003910   3630.880722   3738.932735   \n",
       " 1   12834.602400  16661.625600  19749.422300  21597.083620  23687.826070   \n",
       " 2   13149.041190  16672.143560  19117.974480  20979.845890  22525.563080   \n",
       " 3    2172.352423   2860.169750   3528.481305   4126.613157   4314.114757   \n",
       " 4    5577.002800   6597.494398   7612.240438   8224.191647   8239.854824   \n",
       " 5    6960.297861   9164.090127  11305.385170  13221.821840  13822.583940   \n",
       " 6   11399.444890  13108.453600  14800.160620  15377.228550  16310.443400   \n",
       " 7   15937.211230  18866.207210  20422.901500  21688.040480  25116.175810   \n",
       " 8   10921.636260  14358.875900  15605.422830  18533.157610  21141.012230   \n",
       " 9   12999.917660  16107.191710  18292.635140  20293.897460  22066.442140   \n",
       " 10  14745.625610  18016.180270  20512.921230  22031.532740  24639.185660   \n",
       " 11   8513.097016  12724.829570  14195.524280  15268.420890  16120.528390   \n",
       " 12   9326.644670  10168.656110  11674.837370  12545.990660  12986.479980   \n",
       " 13  13319.895680  15798.063620  19654.962470  23269.607500  26923.206280   \n",
       " 14   7655.568963   9530.772896  11150.981130  12618.321410  13872.866520   \n",
       " 15  10022.401310  12269.273780  14255.984750  16537.483500  19207.234820   \n",
       " 16   5907.850937   7778.414017   9595.929905  11222.587620  11732.510170   \n",
       " 17  15363.251360  18794.745670  21209.059200  21399.460460  23651.323610   \n",
       " 18  16361.876470  18965.055510  23311.349390  26298.635310  31540.974800   \n",
       " 19   6557.152776   8006.506993   9508.141454   8451.531004   9082.351172   \n",
       " 20   6361.517993   9022.247417  10172.485720  11753.842910  13039.308760   \n",
       " 21   6470.866545   8011.414402   9356.397240   9605.314053   9696.273295   \n",
       " 22   7991.707066  10522.067490  12980.669560  15181.092700  15870.878510   \n",
       " 23   8412.902397   9674.167626  10922.664040  11348.545850  12037.267580   \n",
       " 24   9405.489397  12383.486200  15277.030170  17866.721750  18678.534920   \n",
       " 25   7993.512294  10638.751310  13236.921170  13926.169970  15764.983130   \n",
       " 26  15258.296970  17832.024640  18855.725210  20667.381250  23586.929270   \n",
       " 27  22966.144320  27195.113040  26982.290520  28397.715120  30281.704590   \n",
       " 28   2826.356387   3450.696380   4269.122326   4241.356344   5089.043686   \n",
       " 29  14142.850890  15895.116410  17428.748460  18232.424520  21664.787670   \n",
       " \n",
       "             2014          2015          2016          2017  \n",
       " 0    2497.437901   3193.054604   4604.211737   5937.029526  \n",
       " 1   27042.018680  29095.920660  32417.607690  36126.492700  \n",
       " 2   25575.570690  27561.196630  30485.883750  33692.605080  \n",
       " 3    2546.781445   4766.355904   6018.975239   7446.298803  \n",
       " 4    6302.623438   5970.388760   7696.777725  10680.792820  \n",
       " 5    8447.794873   9875.604515  11628.388950  14619.222720  \n",
       " 6   14297.021220  16048.514240  17596.210220  22833.308510  \n",
       " 7   26406.739850  29804.345670  32166.500060  35278.418740  \n",
       " 8   20647.164990  23723.950200  28204.590570  33207.084400  \n",
       " 9   24703.796150  25889.784870  28926.032340  30470.016700  \n",
       " 10  26505.303170  27788.884160  30035.801980  32170.374420  \n",
       " 11  17541.496340  18747.698140  22514.254800  27538.411880  \n",
       " 12  10535.628550  11712.776800  14843.935560  18008.944440  \n",
       " 13  25144.392010  28061.099660  31163.201960  36180.789190  \n",
       " 14  17558.815550  24521.947130  34077.049390  40675.996350  \n",
       " 15  22013.644860  24675.024460  27968.098170  28569.719700  \n",
       " 16   7003.339037   6465.613349   6557.194282   9253.896111  \n",
       " 17  26790.949610  30246.130630  33724.757780  36797.933320  \n",
       " 18  33965.661150  41283.164330  44683.975250  49357.190170  \n",
       " 19   7738.881247  10159.583680  12002.239080  15389.924680  \n",
       " 20  16207.266630  17641.031560  19970.907870  20509.647770  \n",
       " 21   6598.409903   7346.547557   7885.360081  10808.475610  \n",
       " 22   9325.068238   7914.320304   7236.075251   9786.534714  \n",
       " 23   9498.467723  12126.230650  13638.778370  18678.314350  \n",
       " 24  14214.716810  17161.107350  20660.019360  25768.257590  \n",
       " 25  18603.064520  20445.298960  24835.471660  28821.063700  \n",
       " 26  23880.016830  25266.594990  29341.630930  33859.748350  \n",
       " 27  31871.530300  32135.323010  34480.957710  37506.419070  \n",
       " 28   5678.348271   6601.429915   6508.085718   8458.276384  \n",
       " 29  22705.092540  26074.531360  29478.999190  33203.261280  ,\n",
       "        country         2006         2007         2008         2009  \\\n",
       " 0    Australia  10039.59564  10949.64959  12217.22686  14526.12465   \n",
       " 1  New Zealand  10556.57566  12247.39532  13175.67800  14463.91893   \n",
       " \n",
       "           2010         2011         2012         2013         2014  \\\n",
       " 0  16788.62948  18334.19751  19477.00928  21888.88903  23424.76683   \n",
       " 1  16046.03728  16233.71770  17632.41040  19007.19129  18363.32494   \n",
       " \n",
       "           2015         2016         2017  \n",
       " 0  26997.93657  30687.75473  34435.36744  \n",
       " 1  21050.41377  23189.80135  25185.00911  ,\n",
       "    continent              country          2006          2007          2008  \\\n",
       " 0   Americas            Argentina   5911.315053   6856.856212   7133.166023   \n",
       " 1   Americas              Bolivia   2677.326347   2127.686326   2180.972546   \n",
       " 2   Americas               Brazil   2108.944355   2487.365989   3336.585802   \n",
       " 3   Americas               Canada  11367.161120  12489.950060  13462.485550   \n",
       " 4   Americas                Chile   3939.978789   4315.622723   4519.094331   \n",
       " 5   Americas             Colombia   2144.115096   2323.805581   2492.351109   \n",
       " 6   Americas           Costa Rica   2627.009471   2990.010802   3460.937025   \n",
       " 7   Americas                 Cuba   5586.538780   6092.174359   5180.755910   \n",
       " 8   Americas   Dominican Republic   1397.717137   1544.402995   1662.137359   \n",
       " 9   Americas              Ecuador   3522.110717   3780.546651   4086.114078   \n",
       " 10  Americas          El Salvador   3048.302900   3421.523218   3776.803627   \n",
       " 11  Americas            Guatemala   2428.237769   2617.155967   2750.364446   \n",
       " 12  Americas                Haiti   1840.366939   1726.887882   1796.589032   \n",
       " 13  Americas             Honduras   2194.926204   2220.487682   2291.156835   \n",
       " 14  Americas              Jamaica   2898.530881   4756.525781   5246.107524   \n",
       " 15  Americas               Mexico   3478.125529   4131.546641   4581.609385   \n",
       " 16  Americas            Nicaragua   3112.363948   3457.415947   3634.364406   \n",
       " 17  Americas               Panama   2480.380334   2961.800905   3536.540301   \n",
       " 18  Americas             Paraguay   1952.308701   2046.154706   2148.027146   \n",
       " 19  Americas                 Peru   3758.523437   4245.256698   4957.037982   \n",
       " 20  Americas          Puerto Rico   3081.959785   3907.156189   5108.344630   \n",
       " 21  Americas  Trinidad and Tobago   3023.271928   4100.393400   4997.523971   \n",
       " 22  Americas        United States  13990.482080  14847.127120  16173.145860   \n",
       " 23  Americas              Uruguay   5716.766744   6150.772969   5603.357717   \n",
       " 24  Americas            Venezuela   7689.799761   9802.466526   8422.974165   \n",
       " \n",
       "             2009          2010          2011          2012          2013  \\\n",
       " 0    8052.953021   9443.038526  10079.026740   8997.897412   9139.671389   \n",
       " 1    2586.886053   2980.331339   3548.097832   3156.510452   2753.691490   \n",
       " 2    3429.864357   4985.711467   6660.118654   7030.835878   7807.095818   \n",
       " 3   16076.588030  18970.570860  22090.883060  22898.792140  26626.515030   \n",
       " 4    5106.654313   5494.024437   4756.763836   5095.665738   5547.063754   \n",
       " 5    2678.729839   3264.660041   3815.807870   4397.575659   4903.219100   \n",
       " 6    4161.727834   5118.146939   5926.876967   5262.734751   5629.915318   \n",
       " 7    5690.268015   5305.445256   6380.494966   7316.918107   7532.924763   \n",
       " 8    1653.723003   2189.874499   2681.988900   2861.092386   2899.842175   \n",
       " 9    4579.074215   5280.994710   6679.623260   7213.791267   6481.776993   \n",
       " 10   4358.595393   4520.246008   5138.922374   4098.344175   4140.442097   \n",
       " 11   3242.531147   4031.408271   4879.992748   4820.494790   4246.485974   \n",
       " 12   1452.057666   1654.456946   1874.298931   2011.159549   1823.015995   \n",
       " 13   2538.269358   2529.842345   3203.208066   3121.760794   3023.096699   \n",
       " 14   6124.703451   7433.889293   6650.195573   6068.051350   6351.237495   \n",
       " 15   5754.733883   6809.406690   7674.929108   9611.147541   8688.156003   \n",
       " 16   4643.393534   4688.593267   5486.371089   3470.338156   2955.984375   \n",
       " 17   4421.009084   5364.249663   5351.912144   7009.601598   7034.779161   \n",
       " 18   2299.376311   2523.337977   3248.373311   4258.503604   3998.875695   \n",
       " 19   5788.093330   5937.827283   6281.290855   6434.501797   6360.943444   \n",
       " 20   6929.277714   9123.041742   9770.524921  10330.989150  12281.341910   \n",
       " 21   5621.368472   6619.551419   7899.554209   9119.528607   7388.597823   \n",
       " 22  19530.365570  21806.035940  24072.632130  25009.559140  29884.350410   \n",
       " 23   5444.619620   5703.408898   6504.339663   6920.223051   7452.398969   \n",
       " 24   9541.474188  10505.259660  13143.950950  11152.410110   9883.584648   \n",
       " \n",
       "             2014          2015          2016          2017  \n",
       " 0    9308.418710  10967.281950   8797.640716  12779.379640  \n",
       " 1    2961.699694   3326.143191   3413.262690   3822.137084  \n",
       " 2    6950.283021   7957.980824   8131.212843   9065.800825  \n",
       " 3   26342.884260  28954.925890  33328.965070  36319.235010  \n",
       " 4    7596.125964  10118.053180  10778.783850  13171.638850  \n",
       " 5    5444.648617   6117.361746   5755.259962   7006.580419  \n",
       " 6    6160.416317   6677.045314   7723.447195   9645.061420  \n",
       " 7    5592.843963   5431.990415   6340.646683   8948.102923  \n",
       " 8    3044.214214   3614.101285   4563.808154   6025.374752  \n",
       " 9    7103.702595   7429.455877   5773.044512   6873.262326  \n",
       " 10   4444.231700   5154.825496   5351.568666   5728.353514  \n",
       " 11   4439.450840   4684.313807   4858.347495   5186.050003  \n",
       " 12   1456.309517   1341.726931   1270.364932   1201.637154  \n",
       " 13   3081.694603   3160.454906   3099.728660   3548.330846  \n",
       " 14   7404.923685   7121.924704   6994.774861   7320.880262  \n",
       " 15   9472.384295   9767.297530  10742.440530  11977.574960  \n",
       " 16   2170.151724   2253.023004   2474.548819   2749.320965  \n",
       " 17   6618.743050   7113.692252   7356.031934   9809.185636  \n",
       " 18   4196.411078   4247.400261   3783.674243   4172.838464  \n",
       " 19   4446.380924   5838.347657   5909.020073   7408.905561  \n",
       " 20  14641.587110  16999.433300  18855.606180  19328.709010  \n",
       " 21   7370.990932   8792.573126  11460.600230  18008.509240  \n",
       " 22  32003.932240  35767.433030  39097.099550  42951.653090  \n",
       " 23   8137.004775   9230.240708   7727.002004  10611.462990  \n",
       " 24  10733.926310  10165.495180   8605.047831  11415.805690  ,\n",
       "                      country         2006         2007         2008  \\\n",
       " 0                    Algeria  2449.008185  3013.976023  2550.816880   \n",
       " 1                     Angola  3520.610273  3827.940465  4269.276742   \n",
       " 2                      Benin  1062.752200   959.601080   949.499064   \n",
       " 3                   Botswana   851.241141   918.232535   983.653976   \n",
       " 4               Burkina Faso   543.255241   617.183465   722.512021   \n",
       " 5                    Burundi   339.296459   379.564628   355.203227   \n",
       " 6                   Cameroon  1172.667655  1313.048099  1399.607441   \n",
       " 7   Central African Republic  1071.310713  1190.844328  1193.068753   \n",
       " 8                       Chad  1178.665927  1308.495577  1389.817618   \n",
       " 9                    Comoros  1102.990936  1211.148548  1406.648278   \n",
       " 10           Congo Dem. Rep.   780.542326   905.860230   896.314634   \n",
       " 11                Congo Rep.  2125.621418  2315.056572  2464.783157   \n",
       " 12             Cote d'Ivoire  1388.594732  1500.895925  1728.869428   \n",
       " 13                  Djibouti  2669.529475  2864.969076  3020.989263   \n",
       " 14                     Egypt  1418.822445  1458.915272  1693.335853   \n",
       " 15         Equatorial Guinea   375.643123   426.096408   582.841971   \n",
       " 16                   Eritrea   328.940557   344.161886   380.995843   \n",
       " 17                  Ethiopia   362.146280   378.904163   419.456416   \n",
       " 18                     Gabon  4293.476475  4976.198099  6631.459222   \n",
       " 19                    Gambia   485.230659   520.926711   599.650276   \n",
       " 20                     Ghana   911.298937  1043.561537  1190.041118   \n",
       " 21                    Guinea   510.196492   576.267025   686.373674   \n",
       " 22             Guinea-Bissau   299.850319   431.790457   522.034373   \n",
       " 23                     Kenya   853.540919   944.438315   896.966373   \n",
       " 24                   Lesotho   298.846212   335.997115   411.800627   \n",
       " 25                   Liberia   575.572996   620.969990   634.195163   \n",
       " 26                     Libya  2387.548060  3448.284395  6757.030816   \n",
       " 27                Madagascar  1443.011715  1589.202750  1643.387110   \n",
       " 28                    Malawi   369.165080   416.369806   427.901086   \n",
       " 29                      Mali   452.336981   490.382187   496.174343   \n",
       " 30                Mauritania   743.115910   846.120261  1055.896036   \n",
       " 31                 Mauritius  1967.955707  2034.037981  2529.067487   \n",
       " 32                   Morocco  1688.203570  1642.002314  1566.353493   \n",
       " 33                Mozambique   468.526038   495.586833   556.686354   \n",
       " 34                   Namibia  2423.780443  2621.448058  3173.215595   \n",
       " 35                     Niger   761.879376   835.523403   997.766113   \n",
       " 36                   Nigeria  1077.281856  1100.592563  1150.927478   \n",
       " 37                   Reunion  2718.885295  2769.451844  3173.723340   \n",
       " 38                    Rwanda   493.323875   540.289398   597.473073   \n",
       " 39     Sao Tome and Principe   879.583586   860.736903  1071.551119   \n",
       " 40                   Senegal  1450.356983  1567.653006  1654.988723   \n",
       " 41              Sierra Leone   879.787736  1004.484437  1116.639877   \n",
       " 42                   Somalia  1135.749842  1258.147413  1369.488336   \n",
       " 43              South Africa  4725.295531  5487.104219  5768.729717   \n",
       " 44                     Sudan  1615.991129  1770.337074  1959.593767   \n",
       " 45                 Swaziland  1148.376626  1244.708364  1856.182125   \n",
       " 46                  Tanzania   716.650072   698.535607   722.003807   \n",
       " 47                      Togo   859.808657   925.908320  1067.534810   \n",
       " 48                   Tunisia  1468.475631  1395.232468  1660.303210   \n",
       " 49                    Uganda   734.753484   774.371069   767.271740   \n",
       " 50                    Zambia  1147.388831  1311.956766  1452.725766   \n",
       " 51                  Zimbabwe   406.884115   518.764268   527.272182   \n",
       " \n",
       "             2009          2010          2011          2012          2013  \\\n",
       " 0    3246.991771   4182.663766   4910.416756   5745.160213   5681.358539   \n",
       " 1    5522.776375   5473.288005   3008.647355   2756.953672   2430.208311   \n",
       " 2    1035.831411   1085.796879   1029.161251   1277.897616   1225.856010   \n",
       " 3    1214.709294   2263.611114   3214.857818   4551.142150   6205.883850   \n",
       " 4     794.826560    854.735976    743.387037    807.198586    912.063142   \n",
       " 5     412.977514    464.099504    556.103265    559.603231    621.818819   \n",
       " 6    1508.453148   1684.146528   1783.432873   2367.983282   2602.664206   \n",
       " 7    1136.056615   1070.013275   1109.374338    956.752991    844.876350   \n",
       " 8    1196.810565   1104.103987   1133.984950    797.908101    952.386129   \n",
       " 9    1876.029643   1937.577675   1172.603047   1267.100083   1315.980812   \n",
       " 10    861.593242    904.896069    795.757282    673.747818    672.774812   \n",
       " 11   2677.939642   3213.152683   3259.178978   4879.507522   4201.194937   \n",
       " 12   2052.050473   2378.201111   2517.736547   2602.710169   2156.956069   \n",
       " 13   3020.050513   3694.212352   3081.761022   2879.468067   2880.102568   \n",
       " 14   1814.880728   2024.008147   2785.493582   3503.729636   3885.460710   \n",
       " 15    915.596003    672.412257    958.566812    927.825343    966.896815   \n",
       " 16    468.794970    514.324208    505.753808    524.875849    521.134133   \n",
       " 17    516.118644    566.243944    556.808383    577.860747    573.741314   \n",
       " 18   8358.761987  11401.948410  21745.573280  15113.361940  11864.408440   \n",
       " 19    734.782912    756.086836    884.755251    835.809611    611.658861   \n",
       " 20   1125.697160   1178.223708    993.223957    876.032569    847.006113   \n",
       " 21    708.759541    741.666231    874.685864    857.250358    805.572472   \n",
       " 22    715.580640    820.224588    764.725963    838.123967    736.415392   \n",
       " 23   1056.736457   1222.359968   1267.613204   1348.225791   1361.936856   \n",
       " 24    498.639026    496.581592    745.369541    797.263107    773.993214   \n",
       " 25    713.603648    803.005454    640.322438    572.199569    506.113857   \n",
       " 26  18772.751690  21011.497210  21951.211760  17364.275380  11770.589800   \n",
       " 27   1634.047282   1748.562982   1544.228586   1302.878658   1155.441948   \n",
       " 28    495.514781    584.621971    663.223677    632.803921    635.517363   \n",
       " 29    545.009887    581.368876    686.395269    618.014064    684.171558   \n",
       " 30   1421.145193   1586.851781   1497.492223   1481.150189   1421.603576   \n",
       " 31   2475.387562   2575.484158   3710.982963   3688.037739   4783.586903   \n",
       " 32   1711.044770   1930.194975   2370.619976   2702.620356   2755.046991   \n",
       " 33    566.669154    724.917804    502.319733    462.211415    389.876185   \n",
       " 34   3793.694753   3746.080948   3876.485958   4191.100511   3693.731337   \n",
       " 35   1054.384891    954.209236    808.897073    909.722135    668.300023   \n",
       " 36   1014.514104   1698.388838   1981.951806   1576.973750   1385.029563   \n",
       " 37   4021.175739   5047.658563   4319.804067   5267.219353   5303.377488   \n",
       " 38    510.963714    590.580664    670.080601    881.570647    847.991217   \n",
       " 39   1384.840593   1532.985254   1737.561657   1890.218117   1516.525457   \n",
       " 40   1612.404632   1597.712056   1561.769116   1518.479984   1441.720720   \n",
       " 41   1206.043465   1353.759762   1348.285159   1465.010784   1294.447788   \n",
       " 42   1284.733180   1254.576127   1450.992513   1176.807031   1093.244963   \n",
       " 43   7114.477971   7765.962636   8028.651439   8568.266228   7825.823398   \n",
       " 44   1687.997641   1659.652775   2202.988423   1895.544073   1507.819159   \n",
       " 45   2613.101665   3364.836625   3781.410618   3895.384018   3984.839812   \n",
       " 46    848.218657    915.985059    962.492293    874.242607    831.822079   \n",
       " 47   1477.596760   1649.660188   1532.776998   1344.577953   1202.201361   \n",
       " 48   1932.360167   2753.285994   3120.876811   3560.233174   3810.419296   \n",
       " 49    908.918522    950.735869    843.733137    682.266227    617.724406   \n",
       " 50   1777.077318   1773.498265   1588.688299   1408.678565   1213.315116   \n",
       " 51    569.795071    799.362176    685.587682    788.855041    706.157306   \n",
       " \n",
       "             2014          2015          2016          2017  \n",
       " 0    5023.216647   4797.295051   5288.040382   6223.367465  \n",
       " 1    2627.845685   2277.140884   2773.287312   4797.231267  \n",
       " 2    1191.207681   1232.975292   1372.877931   1441.284873  \n",
       " 3    7954.111645   8647.142313  11003.605080  12569.851770  \n",
       " 4     931.752773    946.294962   1037.645221   1217.032994  \n",
       " 5     631.699878    463.115148    446.403513    430.070692  \n",
       " 6    1793.163278   1694.337469   1934.011449   2042.095240  \n",
       " 7     747.905525    740.506332    738.690607    706.016537  \n",
       " 8    1058.064300   1004.961353   1156.181860   1704.063724  \n",
       " 9    1246.907370   1173.618235   1075.811558    986.147879  \n",
       " 10    457.719181    312.188423    241.165877    277.551859  \n",
       " 11   4016.239529   3484.164376   3484.061970   3632.557798  \n",
       " 12   1648.073791   1786.265407   1648.800823   1544.750112  \n",
       " 13   2377.156192   1895.016984   1908.260867   2082.481567  \n",
       " 14   3794.755195   4173.181797   4754.604414   5581.180998  \n",
       " 15   1132.055034   2814.480755   7703.495900  12154.089750  \n",
       " 16    582.858510    913.470790    765.350001    641.369524  \n",
       " 17    421.353465    515.889401    530.053532    690.805576  \n",
       " 18  13522.157520  14722.841880  12521.713920  13206.484520  \n",
       " 19    665.624413    653.730170    660.585600    752.749726  \n",
       " 20    925.060154   1005.245812   1111.984578   1327.608910  \n",
       " 21    794.348438    869.449767    945.583584    942.654211  \n",
       " 22    745.539871    796.664468    575.704718    579.231743  \n",
       " 23   1341.921721   1360.485021   1287.514732   1463.249282  \n",
       " 24    977.486272   1186.147994   1275.184575   1569.331442  \n",
       " 25    636.622919    609.173951    531.482368    414.507341  \n",
       " 26   9640.138501   9467.446056   9534.677467  12057.499280  \n",
       " 27   1040.676190    986.295896    894.637082   1044.770126  \n",
       " 28    563.200014    692.275810    665.423119    759.349910  \n",
       " 29    739.014375    790.257985    951.409752   1042.581557  \n",
       " 30   1361.369784   1483.136136   1579.019543   1803.151496  \n",
       " 31   6058.253846   7425.705295   9021.815894  10956.991120  \n",
       " 32   2948.047252   2982.101858   3258.495584   3820.175230  \n",
       " 33    410.896824    472.346077    633.617947    823.685621  \n",
       " 34   3804.537999   3899.524260   4072.324751   4811.060429  \n",
       " 35    581.182725    580.305209    601.074501    619.676892  \n",
       " 36   1619.848217   1624.941275   1615.286395   2013.977305  \n",
       " 37   6101.255823   6071.941411   6316.165200   7670.122558  \n",
       " 38    737.068595    589.944505    785.653765    863.088464  \n",
       " 39   1428.777814   1339.076036   1353.092390   1598.435089  \n",
       " 40   1367.899369   1392.368347   1519.635262   1712.472136  \n",
       " 41   1068.696278    574.648158    699.489713    862.540756  \n",
       " 42    926.960296    930.596428    882.081822    926.141068  \n",
       " 43   7225.069258   7479.188244   7710.946444   9269.657808  \n",
       " 44   1492.197043   1632.210764   1993.398314   2602.394995  \n",
       " 45   3553.022400   3876.768460   4128.116943   4513.480643  \n",
       " 46    825.682454    789.186223    899.074211   1107.482182  \n",
       " 47   1034.298904    982.286924    886.220577    882.969944  \n",
       " 48   4332.720164   4876.798614   5722.895655   7092.923025  \n",
       " 49    644.170797    816.559081    927.721002   1056.380121  \n",
       " 50   1210.884633   1071.353818   1071.613938   1271.211593  \n",
       " 51    693.420786    792.449960    672.038623    469.709298  ,\n",
       "                country           2006           2007          2008  \\\n",
       " 0          Afghanistan     779.445314     820.853030    853.100710   \n",
       " 1              Bahrain    9867.084765   11635.799450  12753.275140   \n",
       " 2           Bangladesh     684.244172     661.637458    686.341554   \n",
       " 3             Cambodia     368.469286     434.038336    496.913648   \n",
       " 4                China     400.448611     575.987001    487.674018   \n",
       " 5      Hong Kong China    3054.421209    3629.076457   4692.648272   \n",
       " 6                India     546.565749     590.061996    658.347151   \n",
       " 7            Indonesia     749.681655     858.900271    849.289770   \n",
       " 8                 Iran    3035.326002    3290.257643   4187.329802   \n",
       " 9                 Iraq    4129.766056    6229.333562   8341.737815   \n",
       " 10              Israel    4086.522128    5385.278451   7105.630706   \n",
       " 11               Japan    3216.956347    4317.694365   6576.649461   \n",
       " 12              Jordan    1546.907807    1886.080591   2348.009158   \n",
       " 13     Korea Dem. Rep.    1088.277758    1571.134655   1621.693598   \n",
       " 14          Korea Rep.    1030.592226    1487.593537   1536.344387   \n",
       " 15              Kuwait  108382.352900  113523.132900  95458.111760   \n",
       " 16             Lebanon    4834.804067    6089.786934   5714.560611   \n",
       " 17            Malaysia    1831.132894    1810.066992   2036.884944   \n",
       " 18            Mongolia     786.566857     912.662609   1056.353958   \n",
       " 19             Myanmar     331.000000     350.000000    388.000000   \n",
       " 20               Nepal     545.865723     597.936356    652.396859   \n",
       " 21                Oman    1828.230307    2242.746551   2924.638113   \n",
       " 22            Pakistan     684.597144     747.083529    803.342742   \n",
       " 23         Philippines    1272.880995    1547.944844   1649.552153   \n",
       " 24        Saudi Arabia    6459.554823    8157.591248  11626.419750   \n",
       " 25           Singapore    2315.138227    2843.104409   3674.735572   \n",
       " 26           Sri Lanka    1083.532030    1072.546602   1074.471960   \n",
       " 27               Syria    1643.485354    2117.234893   2193.037133   \n",
       " 28              Taiwan    1206.947913    1507.861290   1822.879028   \n",
       " 29            Thailand     757.797418     793.577415   1002.199172   \n",
       " 30             Vietnam     605.066492     676.285448    772.049160   \n",
       " 31  West Bank and Gaza    1515.592329    1827.067742   2198.956312   \n",
       " 32          Yemen Rep.     781.717576     804.830455    825.623201   \n",
       " \n",
       "             2009           2010          2011          2012          2013  \\\n",
       " 0     836.197138     739.981106    786.113360    978.011439    852.395945   \n",
       " 1   14804.672700   18268.658390  19340.101960  19211.147310  18524.024060   \n",
       " 2     721.186086     630.233627    659.877232    676.981866    751.979403   \n",
       " 3     523.432314     421.624026    524.972183    624.475478    683.895573   \n",
       " 4     612.705693     676.900092    741.237470    962.421380   1378.904018   \n",
       " 5    6197.962814    8315.928145  11186.141250  14560.530510  20038.472690   \n",
       " 6     700.770611     724.032527    813.337323    855.723538    976.512676   \n",
       " 7     762.431772    1111.107907   1382.702056   1516.872988   1748.356961   \n",
       " 8    5906.731805    9613.818607  11888.595080   7608.334602   6642.881371   \n",
       " 9    8931.459811    9576.037596  14688.235070  14517.907110  11643.572680   \n",
       " 10   8393.741404   12786.932230  13306.619210  15367.029200  17122.479860   \n",
       " 11   9847.788607   14778.786360  16610.377010  19384.105710  22375.941890   \n",
       " 12   2741.796252    2110.856309   2852.351568   4161.415959   4448.679912   \n",
       " 13   2143.540609    3701.621503   4106.301249   4106.525293   4106.492315   \n",
       " 14   2029.228142    3030.876650   4657.221020   5622.942464   8533.088805   \n",
       " 15  80894.883260  109347.867000  59265.477140  31354.035730  28118.429980   \n",
       " 16   6006.983042    7486.384341   8659.696836   7640.519521   5377.091329   \n",
       " 17   2277.742396    2849.094780   3827.921571   4920.355951   5249.802653   \n",
       " 18   1226.041130    1421.741975   1647.511665   2000.603139   2338.008304   \n",
       " 19    349.000000     357.000000    371.000000    424.000000    385.000000   \n",
       " 20    676.442225     674.788130    694.112440    718.373095    775.632450   \n",
       " 21   4720.942687   10618.038550  11848.343920  12954.791010  18115.223130   \n",
       " 22    942.408259    1049.938981   1175.921193   1443.429832   1704.686583   \n",
       " 23   1814.127430    1989.374070   2373.204287   2603.273765   2189.634995   \n",
       " 24  16903.048860   24837.428650  34167.762600  33693.175250  21198.261360   \n",
       " 25   4977.418540    8597.756202  11210.089480  15169.161120  18861.530810   \n",
       " 26   1135.514326    1213.395530   1348.775651   1648.079789   1876.766827   \n",
       " 27   1881.923632    2571.423014   3195.484582   3761.837715   3116.774285   \n",
       " 28   2643.858681    4062.523897   5596.519826   7426.354774  11054.561750   \n",
       " 29   1295.460660    1524.358936   1961.224635   2393.219781   2982.653773   \n",
       " 30    637.123289     699.501644    713.537120    707.235786    820.799445   \n",
       " 31   2649.715007    3133.409277   3682.831494   4336.032082   5107.197384   \n",
       " 32    862.442146    1265.047031   1829.765177   1977.557010   1971.741538   \n",
       " \n",
       "             2014          2015          2016          2017  \n",
       " 0     649.341395    635.341351    726.734055    974.580338  \n",
       " 1   19035.579170  20292.016790  23403.559270  29796.048340  \n",
       " 2     837.810164    972.770035   1136.390430   1391.253792  \n",
       " 3     682.303175    734.285170    896.226015   1713.778686  \n",
       " 4    1655.784158   2289.234136   3119.280896   4959.114854  \n",
       " 5   24757.603010  28377.632190  30209.015160  39724.978670  \n",
       " 6    1164.406809   1458.817442   1746.769454   2452.210407  \n",
       " 7    2383.140898   3119.335603   2873.912870   3540.651564  \n",
       " 8    7235.653188   8263.590301   9240.761975  11605.714490  \n",
       " 9    3745.640687   3076.239795   4390.717312   4471.061906  \n",
       " 10  18051.522540  20896.609240  21905.595140  25523.277100  \n",
       " 11  26824.895110  28816.584990  28604.591900  31656.068060  \n",
       " 12   3431.593647   3645.379572   3844.917194   4519.461171  \n",
       " 13   3726.063507   1690.756814   1646.758151   1593.065480  \n",
       " 14  12104.278720  15993.527960  19233.988180  23348.139730  \n",
       " 15  34932.919590  40300.619960  35110.105660  47306.989780  \n",
       " 16   6890.806854   8754.963850   9313.938830  10461.058680  \n",
       " 17   7277.912802  10132.909640  10206.977940  12451.655800  \n",
       " 18   1785.402016   1902.252100   2140.739323   3095.772271  \n",
       " 19    347.000000    415.000000    611.000000    944.000000  \n",
       " 20    897.740360   1010.892138   1057.206311   1091.359778  \n",
       " 21  18616.706910  19702.055810  19774.836870  22316.192870  \n",
       " 22   1971.829464   2049.350521   2092.712441   2605.947580  \n",
       " 23   2279.324017   2536.534925   2650.921068   3190.481016  \n",
       " 24  24841.617770  20586.690190  19014.541180  21654.831940  \n",
       " 25  24769.891200  33519.476600  36023.105400  47143.179640  \n",
       " 26   2153.739222   2664.477257   3015.378833   3970.095407  \n",
       " 27   3340.542768   4014.238972   4090.925331   4184.548089  \n",
       " 28  15215.657900  20206.820980  23235.423290  28718.276840  \n",
       " 29   4616.896545   5852.625497   5913.187529   7458.396327  \n",
       " 30    989.023149   1385.896769   1764.456677   2441.576404  \n",
       " 31   6017.654756   7110.667619   4515.487575   3025.349798  \n",
       " 32   1879.496673   2117.484526   2234.820827   2280.769906  ]"
      ]
     },
     "execution_count": 110,
     "metadata": {},
     "output_type": "execute_result"
    }
   ],
   "source": [
    "df_list"
   ]
  },
  {
   "cell_type": "code",
   "execution_count": 111,
   "metadata": {
    "collapsed": false
   },
   "outputs": [
    {
     "data": {
      "text/plain": [
       "5"
      ]
     },
     "execution_count": 111,
     "metadata": {},
     "output_type": "execute_result"
    }
   ],
   "source": [
    "len(df_list) #Should be five"
   ]
  },
  {
   "cell_type": "markdown",
   "metadata": {},
   "source": [
    "We can combine these `DataFrames` together into one large `DataFrame` using `pd.concat()`. \n",
    "\n",
    "Let's see what this results with. "
   ]
  },
  {
   "cell_type": "code",
   "execution_count": 112,
   "metadata": {
    "collapsed": false
   },
   "outputs": [
    {
     "name": "stderr",
     "output_type": "stream",
     "text": [
      "/usr/lib/python3.6/site-packages/IPython/kernel/__main__.py:1: FutureWarning: Sorting because non-concatenation axis is not aligned. A future version\n",
      "of pandas will change to not sort by default.\n",
      "\n",
      "To accept the future behavior, pass 'sort=False'.\n",
      "\n",
      "To retain the current behavior and silence the warning, pass 'sort=True'.\n",
      "\n",
      "  if __name__ == '__main__':\n"
     ]
    }
   ],
   "source": [
    "df_final = pd.concat(df_list)"
   ]
  },
  {
   "cell_type": "markdown",
   "metadata": {},
   "source": [
    "If we take a peak at our new `DataFrame`, we'll see that we created one large `DataFrame`. "
   ]
  },
  {
   "cell_type": "code",
   "execution_count": 113,
   "metadata": {
    "collapsed": false
   },
   "outputs": [
    {
     "data": {
      "text/html": [
       "<div>\n",
       "<style scoped>\n",
       "    .dataframe tbody tr th:only-of-type {\n",
       "        vertical-align: middle;\n",
       "    }\n",
       "\n",
       "    .dataframe tbody tr th {\n",
       "        vertical-align: top;\n",
       "    }\n",
       "\n",
       "    .dataframe thead th {\n",
       "        text-align: right;\n",
       "    }\n",
       "</style>\n",
       "<table border=\"1\" class=\"dataframe\">\n",
       "  <thead>\n",
       "    <tr style=\"text-align: right;\">\n",
       "      <th></th>\n",
       "      <th>2006</th>\n",
       "      <th>2007</th>\n",
       "      <th>2008</th>\n",
       "      <th>2009</th>\n",
       "      <th>2010</th>\n",
       "      <th>2011</th>\n",
       "      <th>2012</th>\n",
       "      <th>2013</th>\n",
       "      <th>2014</th>\n",
       "      <th>2015</th>\n",
       "      <th>2016</th>\n",
       "      <th>2017</th>\n",
       "      <th>continent</th>\n",
       "      <th>country</th>\n",
       "    </tr>\n",
       "  </thead>\n",
       "  <tbody>\n",
       "    <tr>\n",
       "      <th>0</th>\n",
       "      <td>1601.056136</td>\n",
       "      <td>1942.284244</td>\n",
       "      <td>2312.888958</td>\n",
       "      <td>2760.196931</td>\n",
       "      <td>3313.422188</td>\n",
       "      <td>3533.003910</td>\n",
       "      <td>3630.880722</td>\n",
       "      <td>3738.932735</td>\n",
       "      <td>2497.437901</td>\n",
       "      <td>3193.054604</td>\n",
       "      <td>4604.211737</td>\n",
       "      <td>5937.029526</td>\n",
       "      <td>NaN</td>\n",
       "      <td>Albania</td>\n",
       "    </tr>\n",
       "    <tr>\n",
       "      <th>1</th>\n",
       "      <td>6137.076492</td>\n",
       "      <td>8842.598030</td>\n",
       "      <td>10750.721110</td>\n",
       "      <td>12834.602400</td>\n",
       "      <td>16661.625600</td>\n",
       "      <td>19749.422300</td>\n",
       "      <td>21597.083620</td>\n",
       "      <td>23687.826070</td>\n",
       "      <td>27042.018680</td>\n",
       "      <td>29095.920660</td>\n",
       "      <td>32417.607690</td>\n",
       "      <td>36126.492700</td>\n",
       "      <td>NaN</td>\n",
       "      <td>Austria</td>\n",
       "    </tr>\n",
       "    <tr>\n",
       "      <th>2</th>\n",
       "      <td>8343.105127</td>\n",
       "      <td>9714.960623</td>\n",
       "      <td>10991.206760</td>\n",
       "      <td>13149.041190</td>\n",
       "      <td>16672.143560</td>\n",
       "      <td>19117.974480</td>\n",
       "      <td>20979.845890</td>\n",
       "      <td>22525.563080</td>\n",
       "      <td>25575.570690</td>\n",
       "      <td>27561.196630</td>\n",
       "      <td>30485.883750</td>\n",
       "      <td>33692.605080</td>\n",
       "      <td>NaN</td>\n",
       "      <td>Belgium</td>\n",
       "    </tr>\n",
       "    <tr>\n",
       "      <th>3</th>\n",
       "      <td>973.533195</td>\n",
       "      <td>1353.989176</td>\n",
       "      <td>1709.683679</td>\n",
       "      <td>2172.352423</td>\n",
       "      <td>2860.169750</td>\n",
       "      <td>3528.481305</td>\n",
       "      <td>4126.613157</td>\n",
       "      <td>4314.114757</td>\n",
       "      <td>2546.781445</td>\n",
       "      <td>4766.355904</td>\n",
       "      <td>6018.975239</td>\n",
       "      <td>7446.298803</td>\n",
       "      <td>NaN</td>\n",
       "      <td>Bosnia and Herzegovina</td>\n",
       "    </tr>\n",
       "    <tr>\n",
       "      <th>4</th>\n",
       "      <td>2444.286648</td>\n",
       "      <td>3008.670727</td>\n",
       "      <td>4254.337839</td>\n",
       "      <td>5577.002800</td>\n",
       "      <td>6597.494398</td>\n",
       "      <td>7612.240438</td>\n",
       "      <td>8224.191647</td>\n",
       "      <td>8239.854824</td>\n",
       "      <td>6302.623438</td>\n",
       "      <td>5970.388760</td>\n",
       "      <td>7696.777725</td>\n",
       "      <td>10680.792820</td>\n",
       "      <td>NaN</td>\n",
       "      <td>Bulgaria</td>\n",
       "    </tr>\n",
       "    <tr>\n",
       "      <th>5</th>\n",
       "      <td>3119.236520</td>\n",
       "      <td>4338.231617</td>\n",
       "      <td>5477.890018</td>\n",
       "      <td>6960.297861</td>\n",
       "      <td>9164.090127</td>\n",
       "      <td>11305.385170</td>\n",
       "      <td>13221.821840</td>\n",
       "      <td>13822.583940</td>\n",
       "      <td>8447.794873</td>\n",
       "      <td>9875.604515</td>\n",
       "      <td>11628.388950</td>\n",
       "      <td>14619.222720</td>\n",
       "      <td>NaN</td>\n",
       "      <td>Croatia</td>\n",
       "    </tr>\n",
       "    <tr>\n",
       "      <th>6</th>\n",
       "      <td>6876.140250</td>\n",
       "      <td>8256.343918</td>\n",
       "      <td>10136.867130</td>\n",
       "      <td>11399.444890</td>\n",
       "      <td>13108.453600</td>\n",
       "      <td>14800.160620</td>\n",
       "      <td>15377.228550</td>\n",
       "      <td>16310.443400</td>\n",
       "      <td>14297.021220</td>\n",
       "      <td>16048.514240</td>\n",
       "      <td>17596.210220</td>\n",
       "      <td>22833.308510</td>\n",
       "      <td>NaN</td>\n",
       "      <td>Czech Republic</td>\n",
       "    </tr>\n",
       "    <tr>\n",
       "      <th>7</th>\n",
       "      <td>9692.385245</td>\n",
       "      <td>11099.659350</td>\n",
       "      <td>13583.313510</td>\n",
       "      <td>15937.211230</td>\n",
       "      <td>18866.207210</td>\n",
       "      <td>20422.901500</td>\n",
       "      <td>21688.040480</td>\n",
       "      <td>25116.175810</td>\n",
       "      <td>26406.739850</td>\n",
       "      <td>29804.345670</td>\n",
       "      <td>32166.500060</td>\n",
       "      <td>35278.418740</td>\n",
       "      <td>NaN</td>\n",
       "      <td>Denmark</td>\n",
       "    </tr>\n",
       "    <tr>\n",
       "      <th>8</th>\n",
       "      <td>6424.519071</td>\n",
       "      <td>7545.415386</td>\n",
       "      <td>9371.842561</td>\n",
       "      <td>10921.636260</td>\n",
       "      <td>14358.875900</td>\n",
       "      <td>15605.422830</td>\n",
       "      <td>18533.157610</td>\n",
       "      <td>21141.012230</td>\n",
       "      <td>20647.164990</td>\n",
       "      <td>23723.950200</td>\n",
       "      <td>28204.590570</td>\n",
       "      <td>33207.084400</td>\n",
       "      <td>NaN</td>\n",
       "      <td>Finland</td>\n",
       "    </tr>\n",
       "    <tr>\n",
       "      <th>9</th>\n",
       "      <td>7029.809327</td>\n",
       "      <td>8662.834898</td>\n",
       "      <td>10560.485530</td>\n",
       "      <td>12999.917660</td>\n",
       "      <td>16107.191710</td>\n",
       "      <td>18292.635140</td>\n",
       "      <td>20293.897460</td>\n",
       "      <td>22066.442140</td>\n",
       "      <td>24703.796150</td>\n",
       "      <td>25889.784870</td>\n",
       "      <td>28926.032340</td>\n",
       "      <td>30470.016700</td>\n",
       "      <td>NaN</td>\n",
       "      <td>France</td>\n",
       "    </tr>\n",
       "    <tr>\n",
       "      <th>10</th>\n",
       "      <td>7144.114393</td>\n",
       "      <td>10187.826650</td>\n",
       "      <td>12902.462910</td>\n",
       "      <td>14745.625610</td>\n",
       "      <td>18016.180270</td>\n",
       "      <td>20512.921230</td>\n",
       "      <td>22031.532740</td>\n",
       "      <td>24639.185660</td>\n",
       "      <td>26505.303170</td>\n",
       "      <td>27788.884160</td>\n",
       "      <td>30035.801980</td>\n",
       "      <td>32170.374420</td>\n",
       "      <td>NaN</td>\n",
       "      <td>Germany</td>\n",
       "    </tr>\n",
       "    <tr>\n",
       "      <th>11</th>\n",
       "      <td>3530.690067</td>\n",
       "      <td>4916.299889</td>\n",
       "      <td>6017.190733</td>\n",
       "      <td>8513.097016</td>\n",
       "      <td>12724.829570</td>\n",
       "      <td>14195.524280</td>\n",
       "      <td>15268.420890</td>\n",
       "      <td>16120.528390</td>\n",
       "      <td>17541.496340</td>\n",
       "      <td>18747.698140</td>\n",
       "      <td>22514.254800</td>\n",
       "      <td>27538.411880</td>\n",
       "      <td>NaN</td>\n",
       "      <td>Greece</td>\n",
       "    </tr>\n",
       "    <tr>\n",
       "      <th>12</th>\n",
       "      <td>5263.673816</td>\n",
       "      <td>6040.180011</td>\n",
       "      <td>7550.359877</td>\n",
       "      <td>9326.644670</td>\n",
       "      <td>10168.656110</td>\n",
       "      <td>11674.837370</td>\n",
       "      <td>12545.990660</td>\n",
       "      <td>12986.479980</td>\n",
       "      <td>10535.628550</td>\n",
       "      <td>11712.776800</td>\n",
       "      <td>14843.935560</td>\n",
       "      <td>18008.944440</td>\n",
       "      <td>NaN</td>\n",
       "      <td>Hungary</td>\n",
       "    </tr>\n",
       "    <tr>\n",
       "      <th>13</th>\n",
       "      <td>7267.688428</td>\n",
       "      <td>9244.001412</td>\n",
       "      <td>10350.159060</td>\n",
       "      <td>13319.895680</td>\n",
       "      <td>15798.063620</td>\n",
       "      <td>19654.962470</td>\n",
       "      <td>23269.607500</td>\n",
       "      <td>26923.206280</td>\n",
       "      <td>25144.392010</td>\n",
       "      <td>28061.099660</td>\n",
       "      <td>31163.201960</td>\n",
       "      <td>36180.789190</td>\n",
       "      <td>NaN</td>\n",
       "      <td>Iceland</td>\n",
       "    </tr>\n",
       "    <tr>\n",
       "      <th>14</th>\n",
       "      <td>5210.280328</td>\n",
       "      <td>5599.077872</td>\n",
       "      <td>6631.597314</td>\n",
       "      <td>7655.568963</td>\n",
       "      <td>9530.772896</td>\n",
       "      <td>11150.981130</td>\n",
       "      <td>12618.321410</td>\n",
       "      <td>13872.866520</td>\n",
       "      <td>17558.815550</td>\n",
       "      <td>24521.947130</td>\n",
       "      <td>34077.049390</td>\n",
       "      <td>40675.996350</td>\n",
       "      <td>NaN</td>\n",
       "      <td>Ireland</td>\n",
       "    </tr>\n",
       "  </tbody>\n",
       "</table>\n",
       "</div>"
      ],
      "text/plain": [
       "           2006          2007          2008          2009          2010  \\\n",
       "0   1601.056136   1942.284244   2312.888958   2760.196931   3313.422188   \n",
       "1   6137.076492   8842.598030  10750.721110  12834.602400  16661.625600   \n",
       "2   8343.105127   9714.960623  10991.206760  13149.041190  16672.143560   \n",
       "3    973.533195   1353.989176   1709.683679   2172.352423   2860.169750   \n",
       "4   2444.286648   3008.670727   4254.337839   5577.002800   6597.494398   \n",
       "5   3119.236520   4338.231617   5477.890018   6960.297861   9164.090127   \n",
       "6   6876.140250   8256.343918  10136.867130  11399.444890  13108.453600   \n",
       "7   9692.385245  11099.659350  13583.313510  15937.211230  18866.207210   \n",
       "8   6424.519071   7545.415386   9371.842561  10921.636260  14358.875900   \n",
       "9   7029.809327   8662.834898  10560.485530  12999.917660  16107.191710   \n",
       "10  7144.114393  10187.826650  12902.462910  14745.625610  18016.180270   \n",
       "11  3530.690067   4916.299889   6017.190733   8513.097016  12724.829570   \n",
       "12  5263.673816   6040.180011   7550.359877   9326.644670  10168.656110   \n",
       "13  7267.688428   9244.001412  10350.159060  13319.895680  15798.063620   \n",
       "14  5210.280328   5599.077872   6631.597314   7655.568963   9530.772896   \n",
       "\n",
       "            2011          2012          2013          2014          2015  \\\n",
       "0    3533.003910   3630.880722   3738.932735   2497.437901   3193.054604   \n",
       "1   19749.422300  21597.083620  23687.826070  27042.018680  29095.920660   \n",
       "2   19117.974480  20979.845890  22525.563080  25575.570690  27561.196630   \n",
       "3    3528.481305   4126.613157   4314.114757   2546.781445   4766.355904   \n",
       "4    7612.240438   8224.191647   8239.854824   6302.623438   5970.388760   \n",
       "5   11305.385170  13221.821840  13822.583940   8447.794873   9875.604515   \n",
       "6   14800.160620  15377.228550  16310.443400  14297.021220  16048.514240   \n",
       "7   20422.901500  21688.040480  25116.175810  26406.739850  29804.345670   \n",
       "8   15605.422830  18533.157610  21141.012230  20647.164990  23723.950200   \n",
       "9   18292.635140  20293.897460  22066.442140  24703.796150  25889.784870   \n",
       "10  20512.921230  22031.532740  24639.185660  26505.303170  27788.884160   \n",
       "11  14195.524280  15268.420890  16120.528390  17541.496340  18747.698140   \n",
       "12  11674.837370  12545.990660  12986.479980  10535.628550  11712.776800   \n",
       "13  19654.962470  23269.607500  26923.206280  25144.392010  28061.099660   \n",
       "14  11150.981130  12618.321410  13872.866520  17558.815550  24521.947130   \n",
       "\n",
       "            2016          2017 continent                 country  \n",
       "0    4604.211737   5937.029526       NaN                 Albania  \n",
       "1   32417.607690  36126.492700       NaN                 Austria  \n",
       "2   30485.883750  33692.605080       NaN                 Belgium  \n",
       "3    6018.975239   7446.298803       NaN  Bosnia and Herzegovina  \n",
       "4    7696.777725  10680.792820       NaN                Bulgaria  \n",
       "5   11628.388950  14619.222720       NaN                 Croatia  \n",
       "6   17596.210220  22833.308510       NaN          Czech Republic  \n",
       "7   32166.500060  35278.418740       NaN                 Denmark  \n",
       "8   28204.590570  33207.084400       NaN                 Finland  \n",
       "9   28926.032340  30470.016700       NaN                  France  \n",
       "10  30035.801980  32170.374420       NaN                 Germany  \n",
       "11  22514.254800  27538.411880       NaN                  Greece  \n",
       "12  14843.935560  18008.944440       NaN                 Hungary  \n",
       "13  31163.201960  36180.789190       NaN                 Iceland  \n",
       "14  34077.049390  40675.996350       NaN                 Ireland  "
      ]
     },
     "execution_count": 113,
     "metadata": {},
     "output_type": "execute_result"
    }
   ],
   "source": [
    "df_final.head(15)"
   ]
  },
  {
   "cell_type": "markdown",
   "metadata": {},
   "source": [
    "Awesome!\n",
    "\n",
    "While this simple example, you now have the tools to write up and perform way more complicated functions and tasks, and apply them to your data in parallel. "
   ]
  },
  {
   "cell_type": "markdown",
   "metadata": {},
   "source": [
    "***\n",
    "***\n",
    "\n",
    "# Checkpoint 9 of 9\n",
    "## Now you try!\n",
    "\n",
    "### Now, let's re-read in the same set of data, but instead of just merely reading in these files, let's add one more step. Think back to your `Pandas` training and come up with one extra step to add to our `my_read_csv()` function. It can be as simple as just returning the first 10 rows of each `DataFrame` or you can subset the `DataFrame` such that it only returns rows from a specific `Country`, one of the columns in the `DataFrame`. \n",
    "\n",
    "### Create a new function (call it whatever you want) that still reads in a CSV, but also performs one additional task. \n",
    "\n",
    "### Use `Pool` to map your function to your workers and then use `pd.concat()` to combine the results into one large `DataFrame`. \n"
   ]
  },
  {
   "cell_type": "code",
   "execution_count": 114,
   "metadata": {
    "collapsed": true
   },
   "outputs": [],
   "source": [
    "file_list2 = glob.glob('Data/gapminder_gdp*')"
   ]
  },
  {
   "cell_type": "code",
   "execution_count": 115,
   "metadata": {
    "collapsed": false
   },
   "outputs": [
    {
     "data": {
      "text/plain": [
       "['Data/gapminder_gdp_europe.csv',\n",
       " 'Data/gapminder_gdp_oceania.csv',\n",
       " 'Data/gapminder_gdp_americas.csv',\n",
       " 'Data/gapminder_gdp_africa.csv',\n",
       " 'Data/gapminder_gdp_asia.csv']"
      ]
     },
     "execution_count": 115,
     "metadata": {},
     "output_type": "execute_result"
    }
   ],
   "source": [
    "file_list2"
   ]
  },
  {
   "cell_type": "code",
   "execution_count": 116,
   "metadata": {
    "collapsed": true
   },
   "outputs": [],
   "source": [
    "def my_read_csv(filename):\n",
    "    return pd.read_csv(filename,nrows=10)"
   ]
  },
  {
   "cell_type": "code",
   "execution_count": 117,
   "metadata": {
    "collapsed": true
   },
   "outputs": [],
   "source": [
    "if __name__ == '__main__':    \n",
    "    num_processors = multiprocessing.cpu_count() - 1\n",
    "    pool = Pool(processes = num_processors)\n",
    "    df_list2 = pool.map(my_read_csv, file_list2)\n",
    "    pool.close()"
   ]
  },
  {
   "cell_type": "code",
   "execution_count": 118,
   "metadata": {
    "collapsed": false
   },
   "outputs": [
    {
     "data": {
      "text/plain": [
       "[                  country         2006          2007          2008  \\\n",
       " 0                 Albania  1601.056136   1942.284244   2312.888958   \n",
       " 1                 Austria  6137.076492   8842.598030  10750.721110   \n",
       " 2                 Belgium  8343.105127   9714.960623  10991.206760   \n",
       " 3  Bosnia and Herzegovina   973.533195   1353.989176   1709.683679   \n",
       " 4                Bulgaria  2444.286648   3008.670727   4254.337839   \n",
       " 5                 Croatia  3119.236520   4338.231617   5477.890018   \n",
       " 6          Czech Republic  6876.140250   8256.343918  10136.867130   \n",
       " 7                 Denmark  9692.385245  11099.659350  13583.313510   \n",
       " 8                 Finland  6424.519071   7545.415386   9371.842561   \n",
       " 9                  France  7029.809327   8662.834898  10560.485530   \n",
       " \n",
       "            2009          2010          2011          2012          2013  \\\n",
       " 0   2760.196931   3313.422188   3533.003910   3630.880722   3738.932735   \n",
       " 1  12834.602400  16661.625600  19749.422300  21597.083620  23687.826070   \n",
       " 2  13149.041190  16672.143560  19117.974480  20979.845890  22525.563080   \n",
       " 3   2172.352423   2860.169750   3528.481305   4126.613157   4314.114757   \n",
       " 4   5577.002800   6597.494398   7612.240438   8224.191647   8239.854824   \n",
       " 5   6960.297861   9164.090127  11305.385170  13221.821840  13822.583940   \n",
       " 6  11399.444890  13108.453600  14800.160620  15377.228550  16310.443400   \n",
       " 7  15937.211230  18866.207210  20422.901500  21688.040480  25116.175810   \n",
       " 8  10921.636260  14358.875900  15605.422830  18533.157610  21141.012230   \n",
       " 9  12999.917660  16107.191710  18292.635140  20293.897460  22066.442140   \n",
       " \n",
       "            2014          2015          2016          2017  \n",
       " 0   2497.437901   3193.054604   4604.211737   5937.029526  \n",
       " 1  27042.018680  29095.920660  32417.607690  36126.492700  \n",
       " 2  25575.570690  27561.196630  30485.883750  33692.605080  \n",
       " 3   2546.781445   4766.355904   6018.975239   7446.298803  \n",
       " 4   6302.623438   5970.388760   7696.777725  10680.792820  \n",
       " 5   8447.794873   9875.604515  11628.388950  14619.222720  \n",
       " 6  14297.021220  16048.514240  17596.210220  22833.308510  \n",
       " 7  26406.739850  29804.345670  32166.500060  35278.418740  \n",
       " 8  20647.164990  23723.950200  28204.590570  33207.084400  \n",
       " 9  24703.796150  25889.784870  28926.032340  30470.016700  ,\n",
       "        country         2006         2007         2008         2009  \\\n",
       " 0    Australia  10039.59564  10949.64959  12217.22686  14526.12465   \n",
       " 1  New Zealand  10556.57566  12247.39532  13175.67800  14463.91893   \n",
       " \n",
       "           2010         2011         2012         2013         2014  \\\n",
       " 0  16788.62948  18334.19751  19477.00928  21888.88903  23424.76683   \n",
       " 1  16046.03728  16233.71770  17632.41040  19007.19129  18363.32494   \n",
       " \n",
       "           2015         2016         2017  \n",
       " 0  26997.93657  30687.75473  34435.36744  \n",
       " 1  21050.41377  23189.80135  25185.00911  ,\n",
       "   continent             country          2006          2007          2008  \\\n",
       " 0  Americas           Argentina   5911.315053   6856.856212   7133.166023   \n",
       " 1  Americas             Bolivia   2677.326347   2127.686326   2180.972546   \n",
       " 2  Americas              Brazil   2108.944355   2487.365989   3336.585802   \n",
       " 3  Americas              Canada  11367.161120  12489.950060  13462.485550   \n",
       " 4  Americas               Chile   3939.978789   4315.622723   4519.094331   \n",
       " 5  Americas            Colombia   2144.115096   2323.805581   2492.351109   \n",
       " 6  Americas          Costa Rica   2627.009471   2990.010802   3460.937025   \n",
       " 7  Americas                Cuba   5586.538780   6092.174359   5180.755910   \n",
       " 8  Americas  Dominican Republic   1397.717137   1544.402995   1662.137359   \n",
       " 9  Americas             Ecuador   3522.110717   3780.546651   4086.114078   \n",
       " \n",
       "            2009          2010          2011          2012          2013  \\\n",
       " 0   8052.953021   9443.038526  10079.026740   8997.897412   9139.671389   \n",
       " 1   2586.886053   2980.331339   3548.097832   3156.510452   2753.691490   \n",
       " 2   3429.864357   4985.711467   6660.118654   7030.835878   7807.095818   \n",
       " 3  16076.588030  18970.570860  22090.883060  22898.792140  26626.515030   \n",
       " 4   5106.654313   5494.024437   4756.763836   5095.665738   5547.063754   \n",
       " 5   2678.729839   3264.660041   3815.807870   4397.575659   4903.219100   \n",
       " 6   4161.727834   5118.146939   5926.876967   5262.734751   5629.915318   \n",
       " 7   5690.268015   5305.445256   6380.494966   7316.918107   7532.924763   \n",
       " 8   1653.723003   2189.874499   2681.988900   2861.092386   2899.842175   \n",
       " 9   4579.074215   5280.994710   6679.623260   7213.791267   6481.776993   \n",
       " \n",
       "            2014          2015          2016          2017  \n",
       " 0   9308.418710  10967.281950   8797.640716  12779.379640  \n",
       " 1   2961.699694   3326.143191   3413.262690   3822.137084  \n",
       " 2   6950.283021   7957.980824   8131.212843   9065.800825  \n",
       " 3  26342.884260  28954.925890  33328.965070  36319.235010  \n",
       " 4   7596.125964  10118.053180  10778.783850  13171.638850  \n",
       " 5   5444.648617   6117.361746   5755.259962   7006.580419  \n",
       " 6   6160.416317   6677.045314   7723.447195   9645.061420  \n",
       " 7   5592.843963   5431.990415   6340.646683   8948.102923  \n",
       " 8   3044.214214   3614.101285   4563.808154   6025.374752  \n",
       " 9   7103.702595   7429.455877   5773.044512   6873.262326  ,\n",
       "                     country         2006         2007         2008  \\\n",
       " 0                   Algeria  2449.008185  3013.976023  2550.816880   \n",
       " 1                    Angola  3520.610273  3827.940465  4269.276742   \n",
       " 2                     Benin  1062.752200   959.601080   949.499064   \n",
       " 3                  Botswana   851.241141   918.232535   983.653976   \n",
       " 4              Burkina Faso   543.255241   617.183465   722.512021   \n",
       " 5                   Burundi   339.296459   379.564628   355.203227   \n",
       " 6                  Cameroon  1172.667655  1313.048099  1399.607441   \n",
       " 7  Central African Republic  1071.310713  1190.844328  1193.068753   \n",
       " 8                      Chad  1178.665927  1308.495577  1389.817618   \n",
       " 9                   Comoros  1102.990936  1211.148548  1406.648278   \n",
       " \n",
       "           2009         2010         2011         2012         2013  \\\n",
       " 0  3246.991771  4182.663766  4910.416756  5745.160213  5681.358539   \n",
       " 1  5522.776375  5473.288005  3008.647355  2756.953672  2430.208311   \n",
       " 2  1035.831411  1085.796879  1029.161251  1277.897616  1225.856010   \n",
       " 3  1214.709294  2263.611114  3214.857818  4551.142150  6205.883850   \n",
       " 4   794.826560   854.735976   743.387037   807.198586   912.063142   \n",
       " 5   412.977514   464.099504   556.103265   559.603231   621.818819   \n",
       " 6  1508.453148  1684.146528  1783.432873  2367.983282  2602.664206   \n",
       " 7  1136.056615  1070.013275  1109.374338   956.752991   844.876350   \n",
       " 8  1196.810565  1104.103987  1133.984950   797.908101   952.386129   \n",
       " 9  1876.029643  1937.577675  1172.603047  1267.100083  1315.980812   \n",
       " \n",
       "           2014         2015          2016          2017  \n",
       " 0  5023.216647  4797.295051   5288.040382   6223.367465  \n",
       " 1  2627.845685  2277.140884   2773.287312   4797.231267  \n",
       " 2  1191.207681  1232.975292   1372.877931   1441.284873  \n",
       " 3  7954.111645  8647.142313  11003.605080  12569.851770  \n",
       " 4   931.752773   946.294962   1037.645221   1217.032994  \n",
       " 5   631.699878   463.115148    446.403513    430.070692  \n",
       " 6  1793.163278  1694.337469   1934.011449   2042.095240  \n",
       " 7   747.905525   740.506332    738.690607    706.016537  \n",
       " 8  1058.064300  1004.961353   1156.181860   1704.063724  \n",
       " 9  1246.907370  1173.618235   1075.811558    986.147879  ,\n",
       "            country         2006          2007          2008          2009  \\\n",
       " 0      Afghanistan   779.445314    820.853030    853.100710    836.197138   \n",
       " 1          Bahrain  9867.084765  11635.799450  12753.275140  14804.672700   \n",
       " 2       Bangladesh   684.244172    661.637458    686.341554    721.186086   \n",
       " 3         Cambodia   368.469286    434.038336    496.913648    523.432314   \n",
       " 4            China   400.448611    575.987001    487.674018    612.705693   \n",
       " 5  Hong Kong China  3054.421209   3629.076457   4692.648272   6197.962814   \n",
       " 6            India   546.565749    590.061996    658.347151    700.770611   \n",
       " 7        Indonesia   749.681655    858.900271    849.289770    762.431772   \n",
       " 8             Iran  3035.326002   3290.257643   4187.329802   5906.731805   \n",
       " 9             Iraq  4129.766056   6229.333562   8341.737815   8931.459811   \n",
       " \n",
       "            2010          2011          2012          2013          2014  \\\n",
       " 0    739.981106    786.113360    978.011439    852.395945    649.341395   \n",
       " 1  18268.658390  19340.101960  19211.147310  18524.024060  19035.579170   \n",
       " 2    630.233627    659.877232    676.981866    751.979403    837.810164   \n",
       " 3    421.624026    524.972183    624.475478    683.895573    682.303175   \n",
       " 4    676.900092    741.237470    962.421380   1378.904018   1655.784158   \n",
       " 5   8315.928145  11186.141250  14560.530510  20038.472690  24757.603010   \n",
       " 6    724.032527    813.337323    855.723538    976.512676   1164.406809   \n",
       " 7   1111.107907   1382.702056   1516.872988   1748.356961   2383.140898   \n",
       " 8   9613.818607  11888.595080   7608.334602   6642.881371   7235.653188   \n",
       " 9   9576.037596  14688.235070  14517.907110  11643.572680   3745.640687   \n",
       " \n",
       "            2015          2016          2017  \n",
       " 0    635.341351    726.734055    974.580338  \n",
       " 1  20292.016790  23403.559270  29796.048340  \n",
       " 2    972.770035   1136.390430   1391.253792  \n",
       " 3    734.285170    896.226015   1713.778686  \n",
       " 4   2289.234136   3119.280896   4959.114854  \n",
       " 5  28377.632190  30209.015160  39724.978670  \n",
       " 6   1458.817442   1746.769454   2452.210407  \n",
       " 7   3119.335603   2873.912870   3540.651564  \n",
       " 8   8263.590301   9240.761975  11605.714490  \n",
       " 9   3076.239795   4390.717312   4471.061906  ]"
      ]
     },
     "execution_count": 118,
     "metadata": {},
     "output_type": "execute_result"
    }
   ],
   "source": [
    "df_list2"
   ]
  },
  {
   "cell_type": "code",
   "execution_count": 119,
   "metadata": {
    "collapsed": false
   },
   "outputs": [
    {
     "data": {
      "text/plain": [
       "5"
      ]
     },
     "execution_count": 119,
     "metadata": {},
     "output_type": "execute_result"
    }
   ],
   "source": [
    "len(df_list2)"
   ]
  },
  {
   "cell_type": "code",
   "execution_count": 120,
   "metadata": {
    "collapsed": false
   },
   "outputs": [
    {
     "name": "stderr",
     "output_type": "stream",
     "text": [
      "/usr/lib/python3.6/site-packages/IPython/kernel/__main__.py:1: FutureWarning: Sorting because non-concatenation axis is not aligned. A future version\n",
      "of pandas will change to not sort by default.\n",
      "\n",
      "To accept the future behavior, pass 'sort=False'.\n",
      "\n",
      "To retain the current behavior and silence the warning, pass 'sort=True'.\n",
      "\n",
      "  if __name__ == '__main__':\n"
     ]
    }
   ],
   "source": [
    "df_final2 = pd.concat(df_list2)"
   ]
  },
  {
   "cell_type": "code",
   "execution_count": 121,
   "metadata": {
    "collapsed": false
   },
   "outputs": [
    {
     "data": {
      "text/html": [
       "<div>\n",
       "<style scoped>\n",
       "    .dataframe tbody tr th:only-of-type {\n",
       "        vertical-align: middle;\n",
       "    }\n",
       "\n",
       "    .dataframe tbody tr th {\n",
       "        vertical-align: top;\n",
       "    }\n",
       "\n",
       "    .dataframe thead th {\n",
       "        text-align: right;\n",
       "    }\n",
       "</style>\n",
       "<table border=\"1\" class=\"dataframe\">\n",
       "  <thead>\n",
       "    <tr style=\"text-align: right;\">\n",
       "      <th></th>\n",
       "      <th>2006</th>\n",
       "      <th>2007</th>\n",
       "      <th>2008</th>\n",
       "      <th>2009</th>\n",
       "      <th>2010</th>\n",
       "      <th>2011</th>\n",
       "      <th>2012</th>\n",
       "      <th>2013</th>\n",
       "      <th>2014</th>\n",
       "      <th>2015</th>\n",
       "      <th>2016</th>\n",
       "      <th>2017</th>\n",
       "      <th>continent</th>\n",
       "      <th>country</th>\n",
       "    </tr>\n",
       "  </thead>\n",
       "  <tbody>\n",
       "    <tr>\n",
       "      <th>0</th>\n",
       "      <td>1601.056136</td>\n",
       "      <td>1942.284244</td>\n",
       "      <td>2312.888958</td>\n",
       "      <td>2760.196931</td>\n",
       "      <td>3313.422188</td>\n",
       "      <td>3533.003910</td>\n",
       "      <td>3630.880722</td>\n",
       "      <td>3738.932735</td>\n",
       "      <td>2497.437901</td>\n",
       "      <td>3193.054604</td>\n",
       "      <td>4604.211737</td>\n",
       "      <td>5937.029526</td>\n",
       "      <td>NaN</td>\n",
       "      <td>Albania</td>\n",
       "    </tr>\n",
       "    <tr>\n",
       "      <th>0</th>\n",
       "      <td>5911.315053</td>\n",
       "      <td>6856.856212</td>\n",
       "      <td>7133.166023</td>\n",
       "      <td>8052.953021</td>\n",
       "      <td>9443.038526</td>\n",
       "      <td>10079.026740</td>\n",
       "      <td>8997.897412</td>\n",
       "      <td>9139.671389</td>\n",
       "      <td>9308.418710</td>\n",
       "      <td>10967.281950</td>\n",
       "      <td>8797.640716</td>\n",
       "      <td>12779.379640</td>\n",
       "      <td>Americas</td>\n",
       "      <td>Argentina</td>\n",
       "    </tr>\n",
       "    <tr>\n",
       "      <th>0</th>\n",
       "      <td>10039.595640</td>\n",
       "      <td>10949.649590</td>\n",
       "      <td>12217.226860</td>\n",
       "      <td>14526.124650</td>\n",
       "      <td>16788.629480</td>\n",
       "      <td>18334.197510</td>\n",
       "      <td>19477.009280</td>\n",
       "      <td>21888.889030</td>\n",
       "      <td>23424.766830</td>\n",
       "      <td>26997.936570</td>\n",
       "      <td>30687.754730</td>\n",
       "      <td>34435.367440</td>\n",
       "      <td>NaN</td>\n",
       "      <td>Australia</td>\n",
       "    </tr>\n",
       "    <tr>\n",
       "      <th>1</th>\n",
       "      <td>6137.076492</td>\n",
       "      <td>8842.598030</td>\n",
       "      <td>10750.721110</td>\n",
       "      <td>12834.602400</td>\n",
       "      <td>16661.625600</td>\n",
       "      <td>19749.422300</td>\n",
       "      <td>21597.083620</td>\n",
       "      <td>23687.826070</td>\n",
       "      <td>27042.018680</td>\n",
       "      <td>29095.920660</td>\n",
       "      <td>32417.607690</td>\n",
       "      <td>36126.492700</td>\n",
       "      <td>NaN</td>\n",
       "      <td>Austria</td>\n",
       "    </tr>\n",
       "    <tr>\n",
       "      <th>2</th>\n",
       "      <td>8343.105127</td>\n",
       "      <td>9714.960623</td>\n",
       "      <td>10991.206760</td>\n",
       "      <td>13149.041190</td>\n",
       "      <td>16672.143560</td>\n",
       "      <td>19117.974480</td>\n",
       "      <td>20979.845890</td>\n",
       "      <td>22525.563080</td>\n",
       "      <td>25575.570690</td>\n",
       "      <td>27561.196630</td>\n",
       "      <td>30485.883750</td>\n",
       "      <td>33692.605080</td>\n",
       "      <td>NaN</td>\n",
       "      <td>Belgium</td>\n",
       "    </tr>\n",
       "    <tr>\n",
       "      <th>1</th>\n",
       "      <td>2677.326347</td>\n",
       "      <td>2127.686326</td>\n",
       "      <td>2180.972546</td>\n",
       "      <td>2586.886053</td>\n",
       "      <td>2980.331339</td>\n",
       "      <td>3548.097832</td>\n",
       "      <td>3156.510452</td>\n",
       "      <td>2753.691490</td>\n",
       "      <td>2961.699694</td>\n",
       "      <td>3326.143191</td>\n",
       "      <td>3413.262690</td>\n",
       "      <td>3822.137084</td>\n",
       "      <td>Americas</td>\n",
       "      <td>Bolivia</td>\n",
       "    </tr>\n",
       "    <tr>\n",
       "      <th>3</th>\n",
       "      <td>973.533195</td>\n",
       "      <td>1353.989176</td>\n",
       "      <td>1709.683679</td>\n",
       "      <td>2172.352423</td>\n",
       "      <td>2860.169750</td>\n",
       "      <td>3528.481305</td>\n",
       "      <td>4126.613157</td>\n",
       "      <td>4314.114757</td>\n",
       "      <td>2546.781445</td>\n",
       "      <td>4766.355904</td>\n",
       "      <td>6018.975239</td>\n",
       "      <td>7446.298803</td>\n",
       "      <td>NaN</td>\n",
       "      <td>Bosnia and Herzegovina</td>\n",
       "    </tr>\n",
       "    <tr>\n",
       "      <th>2</th>\n",
       "      <td>2108.944355</td>\n",
       "      <td>2487.365989</td>\n",
       "      <td>3336.585802</td>\n",
       "      <td>3429.864357</td>\n",
       "      <td>4985.711467</td>\n",
       "      <td>6660.118654</td>\n",
       "      <td>7030.835878</td>\n",
       "      <td>7807.095818</td>\n",
       "      <td>6950.283021</td>\n",
       "      <td>7957.980824</td>\n",
       "      <td>8131.212843</td>\n",
       "      <td>9065.800825</td>\n",
       "      <td>Americas</td>\n",
       "      <td>Brazil</td>\n",
       "    </tr>\n",
       "    <tr>\n",
       "      <th>4</th>\n",
       "      <td>2444.286648</td>\n",
       "      <td>3008.670727</td>\n",
       "      <td>4254.337839</td>\n",
       "      <td>5577.002800</td>\n",
       "      <td>6597.494398</td>\n",
       "      <td>7612.240438</td>\n",
       "      <td>8224.191647</td>\n",
       "      <td>8239.854824</td>\n",
       "      <td>6302.623438</td>\n",
       "      <td>5970.388760</td>\n",
       "      <td>7696.777725</td>\n",
       "      <td>10680.792820</td>\n",
       "      <td>NaN</td>\n",
       "      <td>Bulgaria</td>\n",
       "    </tr>\n",
       "    <tr>\n",
       "      <th>5</th>\n",
       "      <td>3119.236520</td>\n",
       "      <td>4338.231617</td>\n",
       "      <td>5477.890018</td>\n",
       "      <td>6960.297861</td>\n",
       "      <td>9164.090127</td>\n",
       "      <td>11305.385170</td>\n",
       "      <td>13221.821840</td>\n",
       "      <td>13822.583940</td>\n",
       "      <td>8447.794873</td>\n",
       "      <td>9875.604515</td>\n",
       "      <td>11628.388950</td>\n",
       "      <td>14619.222720</td>\n",
       "      <td>NaN</td>\n",
       "      <td>Croatia</td>\n",
       "    </tr>\n",
       "    <tr>\n",
       "      <th>6</th>\n",
       "      <td>6876.140250</td>\n",
       "      <td>8256.343918</td>\n",
       "      <td>10136.867130</td>\n",
       "      <td>11399.444890</td>\n",
       "      <td>13108.453600</td>\n",
       "      <td>14800.160620</td>\n",
       "      <td>15377.228550</td>\n",
       "      <td>16310.443400</td>\n",
       "      <td>14297.021220</td>\n",
       "      <td>16048.514240</td>\n",
       "      <td>17596.210220</td>\n",
       "      <td>22833.308510</td>\n",
       "      <td>NaN</td>\n",
       "      <td>Czech Republic</td>\n",
       "    </tr>\n",
       "    <tr>\n",
       "      <th>7</th>\n",
       "      <td>9692.385245</td>\n",
       "      <td>11099.659350</td>\n",
       "      <td>13583.313510</td>\n",
       "      <td>15937.211230</td>\n",
       "      <td>18866.207210</td>\n",
       "      <td>20422.901500</td>\n",
       "      <td>21688.040480</td>\n",
       "      <td>25116.175810</td>\n",
       "      <td>26406.739850</td>\n",
       "      <td>29804.345670</td>\n",
       "      <td>32166.500060</td>\n",
       "      <td>35278.418740</td>\n",
       "      <td>NaN</td>\n",
       "      <td>Denmark</td>\n",
       "    </tr>\n",
       "    <tr>\n",
       "      <th>8</th>\n",
       "      <td>6424.519071</td>\n",
       "      <td>7545.415386</td>\n",
       "      <td>9371.842561</td>\n",
       "      <td>10921.636260</td>\n",
       "      <td>14358.875900</td>\n",
       "      <td>15605.422830</td>\n",
       "      <td>18533.157610</td>\n",
       "      <td>21141.012230</td>\n",
       "      <td>20647.164990</td>\n",
       "      <td>23723.950200</td>\n",
       "      <td>28204.590570</td>\n",
       "      <td>33207.084400</td>\n",
       "      <td>NaN</td>\n",
       "      <td>Finland</td>\n",
       "    </tr>\n",
       "    <tr>\n",
       "      <th>9</th>\n",
       "      <td>7029.809327</td>\n",
       "      <td>8662.834898</td>\n",
       "      <td>10560.485530</td>\n",
       "      <td>12999.917660</td>\n",
       "      <td>16107.191710</td>\n",
       "      <td>18292.635140</td>\n",
       "      <td>20293.897460</td>\n",
       "      <td>22066.442140</td>\n",
       "      <td>24703.796150</td>\n",
       "      <td>25889.784870</td>\n",
       "      <td>28926.032340</td>\n",
       "      <td>30470.016700</td>\n",
       "      <td>NaN</td>\n",
       "      <td>France</td>\n",
       "    </tr>\n",
       "    <tr>\n",
       "      <th>1</th>\n",
       "      <td>10556.575660</td>\n",
       "      <td>12247.395320</td>\n",
       "      <td>13175.678000</td>\n",
       "      <td>14463.918930</td>\n",
       "      <td>16046.037280</td>\n",
       "      <td>16233.717700</td>\n",
       "      <td>17632.410400</td>\n",
       "      <td>19007.191290</td>\n",
       "      <td>18363.324940</td>\n",
       "      <td>21050.413770</td>\n",
       "      <td>23189.801350</td>\n",
       "      <td>25185.009110</td>\n",
       "      <td>NaN</td>\n",
       "      <td>New Zealand</td>\n",
       "    </tr>\n",
       "  </tbody>\n",
       "</table>\n",
       "</div>"
      ],
      "text/plain": [
       "           2006          2007          2008          2009          2010  \\\n",
       "0   1601.056136   1942.284244   2312.888958   2760.196931   3313.422188   \n",
       "0   5911.315053   6856.856212   7133.166023   8052.953021   9443.038526   \n",
       "0  10039.595640  10949.649590  12217.226860  14526.124650  16788.629480   \n",
       "1   6137.076492   8842.598030  10750.721110  12834.602400  16661.625600   \n",
       "2   8343.105127   9714.960623  10991.206760  13149.041190  16672.143560   \n",
       "1   2677.326347   2127.686326   2180.972546   2586.886053   2980.331339   \n",
       "3    973.533195   1353.989176   1709.683679   2172.352423   2860.169750   \n",
       "2   2108.944355   2487.365989   3336.585802   3429.864357   4985.711467   \n",
       "4   2444.286648   3008.670727   4254.337839   5577.002800   6597.494398   \n",
       "5   3119.236520   4338.231617   5477.890018   6960.297861   9164.090127   \n",
       "6   6876.140250   8256.343918  10136.867130  11399.444890  13108.453600   \n",
       "7   9692.385245  11099.659350  13583.313510  15937.211230  18866.207210   \n",
       "8   6424.519071   7545.415386   9371.842561  10921.636260  14358.875900   \n",
       "9   7029.809327   8662.834898  10560.485530  12999.917660  16107.191710   \n",
       "1  10556.575660  12247.395320  13175.678000  14463.918930  16046.037280   \n",
       "\n",
       "           2011          2012          2013          2014          2015  \\\n",
       "0   3533.003910   3630.880722   3738.932735   2497.437901   3193.054604   \n",
       "0  10079.026740   8997.897412   9139.671389   9308.418710  10967.281950   \n",
       "0  18334.197510  19477.009280  21888.889030  23424.766830  26997.936570   \n",
       "1  19749.422300  21597.083620  23687.826070  27042.018680  29095.920660   \n",
       "2  19117.974480  20979.845890  22525.563080  25575.570690  27561.196630   \n",
       "1   3548.097832   3156.510452   2753.691490   2961.699694   3326.143191   \n",
       "3   3528.481305   4126.613157   4314.114757   2546.781445   4766.355904   \n",
       "2   6660.118654   7030.835878   7807.095818   6950.283021   7957.980824   \n",
       "4   7612.240438   8224.191647   8239.854824   6302.623438   5970.388760   \n",
       "5  11305.385170  13221.821840  13822.583940   8447.794873   9875.604515   \n",
       "6  14800.160620  15377.228550  16310.443400  14297.021220  16048.514240   \n",
       "7  20422.901500  21688.040480  25116.175810  26406.739850  29804.345670   \n",
       "8  15605.422830  18533.157610  21141.012230  20647.164990  23723.950200   \n",
       "9  18292.635140  20293.897460  22066.442140  24703.796150  25889.784870   \n",
       "1  16233.717700  17632.410400  19007.191290  18363.324940  21050.413770   \n",
       "\n",
       "           2016          2017 continent                 country  \n",
       "0   4604.211737   5937.029526       NaN                 Albania  \n",
       "0   8797.640716  12779.379640  Americas               Argentina  \n",
       "0  30687.754730  34435.367440       NaN               Australia  \n",
       "1  32417.607690  36126.492700       NaN                 Austria  \n",
       "2  30485.883750  33692.605080       NaN                 Belgium  \n",
       "1   3413.262690   3822.137084  Americas                 Bolivia  \n",
       "3   6018.975239   7446.298803       NaN  Bosnia and Herzegovina  \n",
       "2   8131.212843   9065.800825  Americas                  Brazil  \n",
       "4   7696.777725  10680.792820       NaN                Bulgaria  \n",
       "5  11628.388950  14619.222720       NaN                 Croatia  \n",
       "6  17596.210220  22833.308510       NaN          Czech Republic  \n",
       "7  32166.500060  35278.418740       NaN                 Denmark  \n",
       "8  28204.590570  33207.084400       NaN                 Finland  \n",
       "9  28926.032340  30470.016700       NaN                  France  \n",
       "1  23189.801350  25185.009110       NaN             New Zealand  "
      ]
     },
     "execution_count": 121,
     "metadata": {},
     "output_type": "execute_result"
    }
   ],
   "source": [
    "df_final2.head(15).sort_values(by=[\"country\"])"
   ]
  },
  {
   "cell_type": "markdown",
   "metadata": {},
   "source": [
    "***\n",
    "***"
   ]
  }
 ],
 "metadata": {
  "kernelspec": {
   "display_name": "Python 3.6",
   "language": "python",
   "name": "python3.6"
  },
  "language_info": {
   "codemirror_mode": {
    "name": "ipython",
    "version": 3
   },
   "file_extension": ".py",
   "mimetype": "text/x-python",
   "name": "python",
   "nbconvert_exporter": "python",
   "pygments_lexer": "ipython3",
   "version": "3.6.9"
  }
 },
 "nbformat": 4,
 "nbformat_minor": 0
}
