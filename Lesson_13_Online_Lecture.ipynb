{
 "cells": [
  {
   "cell_type": "markdown",
   "metadata": {},
   "source": [
    "# <font face=\"times\"><font size=\"6pt\"><p style = 'text-align: center;'> The City University of New York, Queens College\n",
    "\n",
    "<font face=\"times\"><font size=\"6pt\"><p style = 'text-align: center;'><b>Introduction to Computational Social Science</b><br/><br/>\n",
    "\n",
    "<p style = 'text-align: center;'><font face=\"times\"><b>Lesson 13 | Social Network Analysis II</b><br/><br/>\n",
    "\n",
    "<p style = 'text-align: center;'><font face=\"times\"><b>8 Checkpoints</b><br/><br/>\n",
    "\n"
   ]
  },
  {
   "cell_type": "markdown",
   "metadata": {},
   "source": [
    "***\n",
    "***\n",
    "\n",
    "# Begin Lesson 13\n",
    "## Social Network Analysis\n",
    "\n",
    "This week, we're going dive into the meat of social network analysis. There is a lot that we can't cover, so we're going to focus on two big questions surrounding social networks:\n",
    "\n",
    "1. How you can tell whether a node is \"important\" (this is what centrality is all about)\n",
    "2. How you can identify \"groups\" in a network (we call them \"communities\")"
   ]
  },
  {
   "cell_type": "markdown",
   "metadata": {},
   "source": [
    "***\n",
    "***\n",
    "\n",
    "## Centrality Measures\n",
    "\n",
    "![Neuron](Images/13_Network_Centrality_Measures.png) \n",
    "\n",
    "Centrality measures are used to determine what structural features are afforded to nodes. In other words, we can look at where nodes are in the network and see what advantages or disadvantages they have as a result of how they are situated with respect to everyone else. Similarly we can use centrality measures to figure out which are the most important nodes for this or that. For instance, someone who is the sole \"bridge\" between two insular and seperate groups of the network acts as a gatekeeper of knowledge, where all knowledge about the other side needs to go through them first (think spies!).\n",
    "\n",
    "There are several different centrality measures that can each tell us something different about the node's position. The image above shows three popular centrality meausres - (1) Betweenness; (2) Closeness; (3) and Eigenvector - and the nodes that have the highest values for each. We've actually already covered \"Degree\" centrality last week (i.e., total number of edges) so this should be somewhat familiar to you. \n",
    "\n",
    "These measures aren't necessarily mutually exclusive: a node can have have eigenvector and high degree centrality, for instance. However, this doesn't always hold (e.g., it's hard to have high betweeness centrality and high degree centrality).\n",
    "\n",
    "We will only be talking about centrality measures in the context of undirected graphs. Be aware that the calculation and meaning of these measures changes in directed graphs, much like how degree needs to be measured as in-degree and out-degree in a directed graph.\n",
    "\n",
    "Let's use the `Hartford` data again. \n"
   ]
  },
  {
   "cell_type": "code",
   "execution_count": 1,
   "metadata": {
    "collapsed": true
   },
   "outputs": [],
   "source": [
    "import networkx as nx\n",
    "import matplotlib.pyplot as plt\n",
    "%matplotlib inline \n",
    "import warnings\n",
    "warnings.filterwarnings('ignore')"
   ]
  },
  {
   "cell_type": "code",
   "execution_count": 2,
   "metadata": {
    "collapsed": false
   },
   "outputs": [],
   "source": [
    "hartford = nx.read_edgelist('Data/hartford_drug.txt', # Text file saved as an edgelist with a sender, receive column\n",
    "                            create_using=nx.DiGraph(), # Set it up as a \"Directed\" graph\n",
    "                            nodetype=int) # The nodes don't have labels, they are integers used to mask people's actually names. \n",
    "hartford_ud = hartford.to_undirected()"
   ]
  },
  {
   "cell_type": "code",
   "execution_count": 3,
   "metadata": {
    "collapsed": true
   },
   "outputs": [],
   "source": [
    "hartford_ud_components = [g for g in nx.connected_components(hartford_ud)][0]"
   ]
  },
  {
   "cell_type": "markdown",
   "metadata": {},
   "source": [
    "***\n",
    "***\n",
    "\n",
    "# Checkpoint 1 of 8\n",
    "## Now you try!\n",
    "\n",
    "### Read in and set up the Star Wars data from last time. (Don't  use `read_edgelist()`, as this works better for unweighted networks. Call it `SW_G`. \n",
    "\n",
    "### Calculate the components of your network, `SW_G`. Save it as `sw_components`. "
   ]
  },
  {
   "cell_type": "code",
   "execution_count": 4,
   "metadata": {
    "collapsed": true
   },
   "outputs": [],
   "source": [
    "import pandas as pd"
   ]
  },
  {
   "cell_type": "code",
   "execution_count": 5,
   "metadata": {
    "collapsed": false
   },
   "outputs": [],
   "source": [
    "Star_Wars_df = pd.read_csv(\"Data/star-wars-network-edges.csv\")"
   ]
  },
  {
   "cell_type": "code",
   "execution_count": 6,
   "metadata": {
    "collapsed": false
   },
   "outputs": [],
   "source": [
    "SW_G = nx.from_pandas_edgelist(Star_Wars_df,\n",
    "                              'source', \n",
    "                              'target', \n",
    "                              edge_attr='weight') \n",
    "SW_G_ud = SW_G.to_undirected()"
   ]
  },
  {
   "cell_type": "code",
   "execution_count": 7,
   "metadata": {
    "collapsed": true
   },
   "outputs": [],
   "source": [
    "SW_G_ud_components = [g for g in nx.connected_components(SW_G_ud)][0]"
   ]
  },
  {
   "cell_type": "markdown",
   "metadata": {},
   "source": [
    "***\n",
    "***"
   ]
  },
  {
   "cell_type": "markdown",
   "metadata": {},
   "source": [
    "***\n",
    "***\n",
    "\n",
    "### Betweenness centrality\n",
    "\n",
    "![Neuron](Images/13_Network_Betweeness.png) \n",
    "\n",
    "Betweenness centrality is based on communication flow. For instance, consider the hypothetical social network above of several friends. Nodes with a high betweenness centrality (like \"Liz\" in our social network here) are interesting because they lie on communication paths and can control information flows. In other words, nodes with high betweenness centrality are \"between\" a lot of information flow between all other nodes in the network. \n",
    "\n",
    "To calculate this, we can use the function `betweenness_centrality()`. Let's do this for the hartford data. \n"
   ]
  },
  {
   "cell_type": "code",
   "execution_count": 8,
   "metadata": {
    "collapsed": false
   },
   "outputs": [],
   "source": [
    "# Betweenness centrality\n",
    "bet_cen = nx.betweenness_centrality(hartford_ud)"
   ]
  },
  {
   "cell_type": "code",
   "execution_count": 9,
   "metadata": {
    "collapsed": false
   },
   "outputs": [
    {
     "name": "stdout",
     "output_type": "stream",
     "text": [
      "0.3036115238857284\n",
      "0.0\n"
     ]
    }
   ],
   "source": [
    "# Let's get the maximum betweenness centrality in the network\n",
    "print(max(bet_cen.values()))\n",
    "print(min(bet_cen.values()))"
   ]
  },
  {
   "cell_type": "markdown",
   "metadata": {},
   "source": [
    "***\n",
    "***\n",
    "\n",
    "# Checkpoint 2 of 8\n",
    "## Now you try!\n",
    "\n",
    "### Calculate the betweenness centrality. Which nodes have the highest and lowest values? \n",
    "\n",
    "### For you Star Wars fans, does this make sense?\n",
    "\n",
    "### For you non-Star Wars fans, recall the plot from last time. Does this make sense?\n",
    "### **Hint:** Include the argument `weight` to indicate that this is a weighted network. For instance: \n",
    "\n",
    "                nx.betweenness_centrality(YOUR_NETWORK_HERE,weight='weight')"
   ]
  },
  {
   "cell_type": "code",
   "execution_count": 10,
   "metadata": {
    "collapsed": false
   },
   "outputs": [],
   "source": [
    "SW_bet_cen =nx.betweenness_centrality(SW_G_ud,weight='weight')"
   ]
  },
  {
   "cell_type": "code",
   "execution_count": 11,
   "metadata": {
    "collapsed": false
   },
   "outputs": [
    {
     "name": "stdout",
     "output_type": "stream",
     "text": [
      "0.3155263157894737\n",
      "0.0\n"
     ]
    }
   ],
   "source": [
    "print(max(SW_bet_cen.values()))\n",
    "print(min(SW_bet_cen.values()))"
   ]
  },
  {
   "cell_type": "markdown",
   "metadata": {},
   "source": [
    "***\n",
    "***"
   ]
  },
  {
   "cell_type": "markdown",
   "metadata": {},
   "source": [
    "***\n",
    "***\n",
    "\n",
    "### Closeness centrality\n",
    "\n",
    "![Neuron](Images/13_Network_Closeness.png) \n",
    "\n",
    "Closeness centrality is the average distance between one node and the others in a network. Put in more technical language, it is the average of the length of all shortest paths between the node in question to all other nodes in the network.\n",
    "\n",
    "It's a measure of \"reach,\" or how fast information can flow to all other nodes from this node. So, as compared to other people in this same network, \"Emma\" is (on average) the \"closest\" to everyone else. She can easily spread information in the network.\n",
    "\n",
    "To calculate this, we use `closeness_centrality()`."
   ]
  },
  {
   "cell_type": "code",
   "execution_count": 12,
   "metadata": {
    "collapsed": false
   },
   "outputs": [],
   "source": [
    "# Closeness centrality\n",
    "clo_cen = nx.closeness_centrality(hartford_ud)"
   ]
  },
  {
   "cell_type": "code",
   "execution_count": 13,
   "metadata": {
    "collapsed": false
   },
   "outputs": [
    {
     "name": "stdout",
     "output_type": "stream",
     "text": [
      "0.1952077100267415\n",
      "0.004739336492890996\n"
     ]
    }
   ],
   "source": [
    "# Again let's get the maximum and minimum\n",
    "print(max(clo_cen.values()))\n",
    "print(min(clo_cen.values()))"
   ]
  },
  {
   "cell_type": "markdown",
   "metadata": {},
   "source": [
    "***\n",
    "***\n",
    "\n",
    "# Checkpoint 3 of 8\n",
    "## Now you try!\n",
    "\n",
    "### Calculate the closeness centrality. \n",
    "\n",
    "### Note: You'll need to consider the weights on the edges, but the `NetworkX` closeness centrality function lacks a \"weight\" parameter. Instead, you'll need to pass in a distance parameter. \n",
    "\n",
    "#### First, use the code below to calculate the distance metric between nodes in your Star Wars network. Notice that distance is the inverse of weight. Why? Think about it: if two nodes are VERY strongly connected (i.e., a high weight value), they would be pretty close, so the distance between them would be small! Thus, distance is defined as the inverse of weight. \n",
    "\n",
    "    SW_distance_dict = {(e1, e2): 1/weight for e1, e2, weight in YOUR_STARWARS_GRAPH_HERE.edges(data='weight')}\n",
    "\n",
    "#### Second, apply the `set_edge_attributes()` function to your Star Wars graph. Specifically, you'll set the attribute \"distance\" to your Star Wars graph. \n",
    "    nx.set_edge_attributes(YOUR_STARWARS_GRAPH_HERE, SW_distance_dict, 'distance')\n",
    "\n",
    "### Finally, for closeness centrality, pass in the parameter \"distance\"\n",
    "    nx.closeness_centrality(YOUR_STARWARS_GRAPH_HERE, distance='distance')\n",
    "\n",
    "### Again, which nodes have the highest and lowest values? \n",
    "\n",
    "### For you Star Wars fans, does this make sense?\n",
    "\n",
    "### For you non-Star Wars fans, recall the plot from last time. Does this make sense?"
   ]
  },
  {
   "cell_type": "code",
   "execution_count": 14,
   "metadata": {
    "collapsed": false
   },
   "outputs": [],
   "source": [
    "SW_distance_dict = {(e1, e2): 1/weight for e1, e2, weight in SW_G.edges(data='weight')}"
   ]
  },
  {
   "cell_type": "code",
   "execution_count": 15,
   "metadata": {
    "collapsed": true
   },
   "outputs": [],
   "source": [
    "nx.set_edge_attributes(SW_G, SW_distance_dict, 'distance')"
   ]
  },
  {
   "cell_type": "code",
   "execution_count": 16,
   "metadata": {
    "collapsed": false
   },
   "outputs": [],
   "source": [
    "SW_clo_cen =nx.closeness_centrality(SW_G, distance='distance')"
   ]
  },
  {
   "cell_type": "code",
   "execution_count": 17,
   "metadata": {
    "collapsed": false
   },
   "outputs": [
    {
     "name": "stdout",
     "output_type": "stream",
     "text": [
      "1.8446616010796038\n",
      "0.660695245773133\n"
     ]
    }
   ],
   "source": [
    "# Again let's get the maximum and minimum\n",
    "print(max(SW_clo_cen.values()))\n",
    "print(min(SW_clo_cen.values()))"
   ]
  },
  {
   "cell_type": "code",
   "execution_count": null,
   "metadata": {
    "collapsed": true
   },
   "outputs": [],
   "source": []
  },
  {
   "cell_type": "markdown",
   "metadata": {},
   "source": [
    "***\n",
    "***"
   ]
  },
  {
   "cell_type": "markdown",
   "metadata": {},
   "source": [
    "***\n",
    "***\n",
    "\n",
    "### Eigenvector centrality\n",
    "\n",
    "![Neuron](Images/13_Network_Eigenvector.png) \n",
    "\n",
    "Eigenvector centrality is the most abstract to think of, but its arguably one of the most important and applicable. Think of it as a measure of how important your neighbors are. The intuition here is that a person (or website, or scholarly article, or politician) is important when they are connected to important people (or websites, or scholarly articles, or politicians, respectively).\n",
    "\n",
    "For instance, consider this new network above. The node in yellow has the highest eigenvector centrality, because its connected to the two most popular nodes in blue. Note, that the nodes in blue are well connected, they're not connected to the other popular blue nodes.\n",
    "\n",
    "This is how Google's PageRank algorithm works: if you're a blogger that the New York Times and CNN links to and cites, then you have a high eigenvector score, even if not that many other people link to your site. Think of it like a \"reputation score.\" Webpages (like blogs) that have higher eigenvector scores are more likely to show up as one of your top search results than a webpage that just has a lot of non-important links. \n",
    "\n",
    "To calculate this, use the function `eigenvector_centrality()`."
   ]
  },
  {
   "cell_type": "code",
   "execution_count": 18,
   "metadata": {
    "collapsed": false
   },
   "outputs": [],
   "source": [
    "# Eigenvector centrality\n",
    "eig_cen = nx.eigenvector_centrality(hartford_ud)"
   ]
  },
  {
   "cell_type": "code",
   "execution_count": 19,
   "metadata": {
    "collapsed": false
   },
   "outputs": [
    {
     "name": "stdout",
     "output_type": "stream",
     "text": [
      "0.48466399479370187\n",
      "2.6592188629189117e-27\n"
     ]
    }
   ],
   "source": [
    "# Max and min again\n",
    "print(max(eig_cen.values()))\n",
    "print(min(eig_cen.values()))"
   ]
  },
  {
   "cell_type": "markdown",
   "metadata": {},
   "source": [
    "***\n",
    "***\n",
    "\n",
    "# Checkpoint 4 of 8\n",
    "## Now you try!\n",
    "\n",
    "### Calculate the eigenvector centrality. Again, which nodes have the highest and lowest values? \n",
    "\n",
    "### For you Star Wars fans, does this make sense?\n",
    "\n",
    "### For you non-Star Wars fans, recall the plot from last time. Does this make sense?\n",
    "\n",
    "### **Hint:** Include the argument `weight` to indicate that this is a weighted network. \n"
   ]
  },
  {
   "cell_type": "code",
   "execution_count": 20,
   "metadata": {
    "collapsed": true
   },
   "outputs": [],
   "source": [
    "# Eigenvector centrality\n",
    "SW_eig_cen = nx.eigenvector_centrality(SW_G)"
   ]
  },
  {
   "cell_type": "code",
   "execution_count": 21,
   "metadata": {
    "collapsed": false
   },
   "outputs": [
    {
     "name": "stdout",
     "output_type": "stream",
     "text": [
      "0.4173849989544929\n",
      "0.034589934913482716\n"
     ]
    }
   ],
   "source": [
    "# Max and min again\n",
    "print(max(SW_eig_cen.values()))\n",
    "print(min(SW_eig_cen.values()))"
   ]
  },
  {
   "cell_type": "markdown",
   "metadata": {},
   "source": [
    "***\n",
    "***"
   ]
  },
  {
   "cell_type": "markdown",
   "metadata": {},
   "source": [
    "***\n",
    "***\n",
    "\n",
    "## Bipartite Networks\n",
    "\n",
    "![Neuron](Images/13_Network_Bipartite.png) \n",
    "\n",
    "\n",
    "\n",
    "So far, we've only looked at networks with different types of edges-- directed, weighted, multiplex. We have yet to look at networks that have different types of nodes. For instance, consider the network shown above. It is a network comprised of two different types of nodes. You could think of them as people in the class and their various social affliations, like the high school they attended, college you currently attend, city you grew up in, where you work, etc. Bipartite networks are particulary helpful at understanding membership in groups (e.g., how people know one another from having the same membership, what potential advantages or disadvantages they may have due to these memberships, etc.). \n",
    "\n",
    "The bipartite algorithms are not imported into the NetworkX namespace at the top level so the easiest way to use them is with `bipartite` from `networkx.algorithms`."
   ]
  },
  {
   "cell_type": "code",
   "execution_count": 22,
   "metadata": {
    "collapsed": true
   },
   "outputs": [],
   "source": [
    "from networkx.algorithms import bipartite"
   ]
  },
  {
   "cell_type": "markdown",
   "metadata": {},
   "source": [
    "Let's first learn how to creat a bipartite graph from scratch, just let we did with what we call unipartite graphs (i.e., networks with just one type of node, which is what we've been dealing with exclusively so far). \n",
    "\n",
    "`NetworkX` doesn't have an explicity bipartite graph, so we'll have to define one from the basic `Graph()` object. "
   ]
  },
  {
   "cell_type": "code",
   "execution_count": 23,
   "metadata": {
    "collapsed": true
   },
   "outputs": [],
   "source": [
    "B = nx.Graph()"
   ]
  },
  {
   "cell_type": "markdown",
   "metadata": {},
   "source": [
    "Let's add nodes with the node attribute \"bipartite.\" Let's also base it on the graph we see above, so let's add persons \"a\",\"b\",\"c\",\"d\", and \"e\"."
   ]
  },
  {
   "cell_type": "code",
   "execution_count": 24,
   "metadata": {
    "collapsed": true
   },
   "outputs": [],
   "source": [
    "B.add_nodes_from(['a', 'b', 'c','d','e'], \n",
    "                 bipartite=0) #We set bipartite to be 0, the first class of nodes. "
   ]
  },
  {
   "cell_type": "code",
   "execution_count": 25,
   "metadata": {
    "collapsed": true
   },
   "outputs": [],
   "source": [
    "B.add_nodes_from([1, 2, 3, 4], \n",
    "                 bipartite=1)"
   ]
  },
  {
   "cell_type": "markdown",
   "metadata": {},
   "source": [
    "Now, add edges only between nodes of opposite node sets. "
   ]
  },
  {
   "cell_type": "code",
   "execution_count": 26,
   "metadata": {
    "collapsed": true
   },
   "outputs": [],
   "source": [
    "B.add_edges_from([('a',1), ('a',2), \n",
    "                  ('b',2), ('b',3),\n",
    "                  ('c',1), ('c',3),\n",
    "                  ('d',2),('d',4),\n",
    "                  ('e',3),('e',4) ])"
   ]
  },
  {
   "cell_type": "code",
   "execution_count": 27,
   "metadata": {
    "collapsed": true
   },
   "outputs": [],
   "source": [
    "X, Y = bipartite.sets(B)"
   ]
  },
  {
   "cell_type": "code",
   "execution_count": 28,
   "metadata": {
    "collapsed": false
   },
   "outputs": [
    {
     "data": {
      "image/png": "[encoded data removed]",
      "text/plain": [
       "<Figure size 432x288 with 1 Axes>"
      ]
     },
     "metadata": {},
     "output_type": "display_data"
    }
   ],
   "source": [
    "pos = dict()\n",
    "pos.update( (n, (1, i)) for i, n in enumerate(X) ) # put nodes from X at x=1\n",
    "pos.update( (n, (2, i)) for i, n in enumerate(Y) ) # put nodes from Y at x=2\n",
    "nx.draw(B, pos=pos)\n",
    "plt.show()"
   ]
  },
  {
   "cell_type": "markdown",
   "metadata": {},
   "source": [
    "***\n",
    "***\n",
    "\n",
    "# Checkpoint 5 of 8\n",
    "## Now you try!\n",
    "\n",
    "### Create your own bipartite network! \n",
    "\n",
    "### Create one set of nodes, call them: `x`, `y`, and `z`. These are the senders. \n",
    "### Create a second set of nodes, call them: `10`, `11`, `12`, and `13`. These are the receivers. \n",
    "### Call your new bipartite network `B2`. \n",
    "\n",
    "### Use the method `.add_edges_from()` and add random edges going from the senders to the receivers. Create at least six links from the senders to the receivers. \n",
    "\n",
    "### Draw `B2`. "
   ]
  },
  {
   "cell_type": "code",
   "execution_count": 29,
   "metadata": {
    "collapsed": true
   },
   "outputs": [],
   "source": [
    "B2 = nx.Graph()"
   ]
  },
  {
   "cell_type": "code",
   "execution_count": 30,
   "metadata": {
    "collapsed": true
   },
   "outputs": [],
   "source": [
    "B2.add_nodes_from(['x', 'y', 'z'], \n",
    "                 bipartite=0)"
   ]
  },
  {
   "cell_type": "code",
   "execution_count": 31,
   "metadata": {
    "collapsed": true
   },
   "outputs": [],
   "source": [
    "B2.add_nodes_from([10, 11, 12, 13], \n",
    "                 bipartite=1)"
   ]
  },
  {
   "cell_type": "code",
   "execution_count": 32,
   "metadata": {
    "collapsed": true
   },
   "outputs": [],
   "source": [
    "B2.add_edges_from([('x',10), ('x',11),\n",
    "                   ('x',12), ('x',13),\n",
    "                   ('y',10), ('y',11),\n",
    "                   ('y',12),('y',13),\n",
    "                   ('z',10),('z',11),\n",
    "                   ('z',12),('z',13) ])"
   ]
  },
  {
   "cell_type": "code",
   "execution_count": 33,
   "metadata": {
    "collapsed": true
   },
   "outputs": [],
   "source": [
    "X, Y = bipartite.sets(B2)"
   ]
  },
  {
   "cell_type": "code",
   "execution_count": 34,
   "metadata": {
    "collapsed": false
   },
   "outputs": [
    {
     "data": {
      "image/png": "[encoded data removed]",
      "text/plain": [
       "<Figure size 432x288 with 1 Axes>"
      ]
     },
     "metadata": {},
     "output_type": "display_data"
    }
   ],
   "source": [
    "pos = dict()\n",
    "pos.update( (n, (1, i)) for i, n in enumerate(X) )\n",
    "pos.update( (n, (2, i)) for i, n in enumerate(Y) ) \n",
    "nx.draw(B2, pos=pos,node_color='orange', with_labels=True)\n",
    "plt.show()"
   ]
  },
  {
   "cell_type": "markdown",
   "metadata": {},
   "source": [
    "***\n",
    "***"
   ]
  },
  {
   "cell_type": "markdown",
   "metadata": {
    "collapsed": true
   },
   "source": [
    "***\n",
    "***\n",
    "\n",
    "## Real-world Bipartite Data. \n",
    "\n",
    "Let's now use some real-world data. \n",
    "\n",
    "We'll use as an example the data collected by Davis et al. in 1930s about the observed attendance at 14 social events by 18 women in a Southern state of the USA.\n",
    "\n",
    "The nodes in the bipartite graph are both women and events, and each women is linked to the events that she attended."
   ]
  },
  {
   "cell_type": "code",
   "execution_count": 35,
   "metadata": {
    "collapsed": false
   },
   "outputs": [
    {
     "data": {
      "text/plain": [
       "[('Evelyn Jefferson', {'bipartite': 0}),\n",
       " ('Laura Mandeville', {'bipartite': 0}),\n",
       " ('Theresa Anderson', {'bipartite': 0}),\n",
       " ('Brenda Rogers', {'bipartite': 0}),\n",
       " ('Charlotte McDowd', {'bipartite': 0}),\n",
       " ('Frances Anderson', {'bipartite': 0}),\n",
       " ('Eleanor Nye', {'bipartite': 0}),\n",
       " ('Pearl Oglethorpe', {'bipartite': 0}),\n",
       " ('Ruth DeSand', {'bipartite': 0}),\n",
       " ('Verne Sanderson', {'bipartite': 0}),\n",
       " ('Myra Liddel', {'bipartite': 0}),\n",
       " ('Katherina Rogers', {'bipartite': 0}),\n",
       " ('Sylvia Avondale', {'bipartite': 0}),\n",
       " ('Nora Fayette', {'bipartite': 0}),\n",
       " ('Helen Lloyd', {'bipartite': 0}),\n",
       " ('Dorothy Murchison', {'bipartite': 0}),\n",
       " ('Olivia Carleton', {'bipartite': 0}),\n",
       " ('Flora Price', {'bipartite': 0}),\n",
       " ('E1', {'bipartite': 1}),\n",
       " ('E2', {'bipartite': 1}),\n",
       " ('E3', {'bipartite': 1}),\n",
       " ('E4', {'bipartite': 1}),\n",
       " ('E5', {'bipartite': 1}),\n",
       " ('E6', {'bipartite': 1}),\n",
       " ('E7', {'bipartite': 1}),\n",
       " ('E8', {'bipartite': 1}),\n",
       " ('E9', {'bipartite': 1}),\n",
       " ('E10', {'bipartite': 1}),\n",
       " ('E11', {'bipartite': 1}),\n",
       " ('E12', {'bipartite': 1}),\n",
       " ('E13', {'bipartite': 1}),\n",
       " ('E14', {'bipartite': 1})]"
      ]
     },
     "execution_count": 35,
     "metadata": {},
     "output_type": "execute_result"
    }
   ],
   "source": [
    "D = nx.davis_southern_women_graph()\n",
    "list(D.nodes(data=True))"
   ]
  },
  {
   "cell_type": "markdown",
   "metadata": {},
   "source": [
    "### Centrality measures of bipartite graphs\n",
    "\n",
    "In order to compute centrality measures for bipartite graphs, we cannot use the same algorithms that we used for unipartite graphs. This is because how these measures are normalized is different. \n",
    "\n",
    "For instance, the degree centrality of a node is defined as the degree of a node divided by the maximum possible degree. In unipartite networks, the maximum degree of a node is $n-1$, where $n$ is the total number of nodes of a graph. However, in a bipartite graph, a node's maximum degree is only the total number of nodes in the opposite set. In other words, the maximum degree for a woman in our graph is the number of events, not the number of women.\n",
    "\n",
    "`NetworkX` provides functions to compute centrality measures for bipartite graphs.\n",
    "\n",
    "In order to use these functions you have to pass as an argument a set with all nodes in one bipartite set. We'll need `itemgetter` to extract out the values for each key-value pair in the dictionary. "
   ]
  },
  {
   "cell_type": "code",
   "execution_count": 36,
   "metadata": {
    "collapsed": true
   },
   "outputs": [],
   "source": [
    "from operator import itemgetter"
   ]
  },
  {
   "cell_type": "markdown",
   "metadata": {},
   "source": [
    "Now, let's get the degree, betweenness, and closeness centralities for the bipartite network. First we have to make a set of nodes to indicate which are women, and which are events."
   ]
  },
  {
   "cell_type": "code",
   "execution_count": 37,
   "metadata": {
    "collapsed": true
   },
   "outputs": [],
   "source": [
    "women = [n for n, d in D.nodes(data=True) if d['bipartite']==0]\n",
    "events = [n for n, d  in D.nodes(data=True) if d['bipartite']==1]"
   ]
  },
  {
   "cell_type": "code",
   "execution_count": 38,
   "metadata": {
    "collapsed": false
   },
   "outputs": [
    {
     "data": {
      "text/plain": [
       "[('E8', 0.7777777777777777),\n",
       " ('E9', 0.6666666666666666),\n",
       " ('Theresa Anderson', 0.5714285714285714),\n",
       " ('Nora Fayette', 0.5714285714285714),\n",
       " ('Evelyn Jefferson', 0.5714285714285714),\n",
       " ('E7', 0.5555555555555556),\n",
       " ('Sylvia Avondale', 0.5),\n",
       " ('Laura Mandeville', 0.5),\n",
       " ('Brenda Rogers', 0.5),\n",
       " ('E5', 0.4444444444444444),\n",
       " ('E6', 0.4444444444444444),\n",
       " ('Katherina Rogers', 0.42857142857142855),\n",
       " ('Helen Lloyd', 0.3571428571428571),\n",
       " ('E3', 0.3333333333333333),\n",
       " ('E12', 0.3333333333333333),\n",
       " ('Charlotte McDowd', 0.2857142857142857),\n",
       " ('Verne Sanderson', 0.2857142857142857),\n",
       " ('Myra Liddel', 0.2857142857142857),\n",
       " ('Frances Anderson', 0.2857142857142857),\n",
       " ('Eleanor Nye', 0.2857142857142857),\n",
       " ('Ruth DeSand', 0.2857142857142857),\n",
       " ('E10', 0.2777777777777778),\n",
       " ('E4', 0.2222222222222222),\n",
       " ('E11', 0.2222222222222222),\n",
       " ('Pearl Oglethorpe', 0.21428571428571427),\n",
       " ('E1', 0.16666666666666666),\n",
       " ('E2', 0.16666666666666666),\n",
       " ('E13', 0.16666666666666666),\n",
       " ('E14', 0.16666666666666666),\n",
       " ('Dorothy Murchison', 0.14285714285714285),\n",
       " ('Olivia Carleton', 0.14285714285714285),\n",
       " ('Flora Price', 0.14285714285714285)]"
      ]
     },
     "execution_count": 38,
     "metadata": {},
     "output_type": "execute_result"
    }
   ],
   "source": [
    "degc = bipartite.degree_centrality(D, women)\n",
    "sorted(degc.items(), key=itemgetter(1), reverse=True)"
   ]
  },
  {
   "cell_type": "code",
   "execution_count": 39,
   "metadata": {
    "collapsed": false
   },
   "outputs": [
    {
     "data": {
      "text/plain": [
       "[('E8', 0.24381946234957552),\n",
       " ('E9', 0.22551359177204106),\n",
       " ('E7', 0.12950174424519842),\n",
       " ('Nora Fayette', 0.11346136204298476),\n",
       " ('Evelyn Jefferson', 0.09658472108029267),\n",
       " ('Theresa Anderson', 0.08759468547944677),\n",
       " ('Sylvia Avondale', 0.07170914508501829),\n",
       " ('E6', 0.06501635047516072),\n",
       " ('Laura Mandeville', 0.05135761326872536),\n",
       " ('Brenda Rogers', 0.0494865998160072),\n",
       " ('Katherina Rogers', 0.047362754029819695),\n",
       " ('Helen Lloyd', 0.04238754006434827),\n",
       " ('E5', 0.03769444252500667),\n",
       " ('E11', 0.01966539088919154),\n",
       " ('E3', 0.01822439085252718),\n",
       " ('E12', 0.018094182051395145),\n",
       " ('Ruth DeSand', 0.016783108139791406),\n",
       " ('Myra Liddel', 0.016344348365012626),\n",
       " ('Verne Sanderson', 0.015737665757646964),\n",
       " ('E10', 0.011442302600971925),\n",
       " ('Frances Anderson', 0.01071434286960598),\n",
       " ('Charlotte McDowd', 0.010596096282664414),\n",
       " ('Eleanor Nye', 0.00944412334473028),\n",
       " ('E4', 0.0077020526738029406),\n",
       " ('Pearl Oglethorpe', 0.006800323334013807),\n",
       " ('Olivia Carleton', 0.005054505236263333),\n",
       " ('Flora Price', 0.005054505236263333),\n",
       " ('E13', 0.002240655987795576),\n",
       " ('E14', 0.002240655987795576),\n",
       " ('E1', 0.002154310782629367),\n",
       " ('E2', 0.0020886968954039286),\n",
       " ('Dorothy Murchison', 0.0019535268594996565)]"
      ]
     },
     "execution_count": 39,
     "metadata": {},
     "output_type": "execute_result"
    }
   ],
   "source": [
    "bet = bipartite.betweenness_centrality(D, women)\n",
    "sorted(bet.items(), key=itemgetter(1), reverse=True)"
   ]
  },
  {
   "cell_type": "code",
   "execution_count": 40,
   "metadata": {
    "collapsed": false
   },
   "outputs": [
    {
     "data": {
      "text/plain": [
       "[('E8', 0.8461538461538461),\n",
       " ('Theresa Anderson', 0.8),\n",
       " ('Nora Fayette', 0.8),\n",
       " ('Evelyn Jefferson', 0.8),\n",
       " ('E9', 0.7857142857142857),\n",
       " ('Sylvia Avondale', 0.7741935483870968),\n",
       " ('E7', 0.7333333333333333),\n",
       " ('Katherina Rogers', 0.7272727272727273),\n",
       " ('Laura Mandeville', 0.7272727272727273),\n",
       " ('Brenda Rogers', 0.7272727272727273),\n",
       " ('Helen Lloyd', 0.7272727272727273),\n",
       " ('Verne Sanderson', 0.7058823529411765),\n",
       " ('Ruth DeSand', 0.7058823529411765),\n",
       " ('E6', 0.6875),\n",
       " ('Myra Liddel', 0.6857142857142857),\n",
       " ('Frances Anderson', 0.6666666666666666),\n",
       " ('Eleanor Nye', 0.6666666666666666),\n",
       " ('Pearl Oglethorpe', 0.6666666666666666),\n",
       " ('Dorothy Murchison', 0.6486486486486487),\n",
       " ('Charlotte McDowd', 0.6),\n",
       " ('E5', 0.5945945945945946),\n",
       " ('Olivia Carleton', 0.5853658536585366),\n",
       " ('Flora Price', 0.5853658536585366),\n",
       " ('E3', 0.5641025641025641),\n",
       " ('E12', 0.5641025641025641),\n",
       " ('E10', 0.55),\n",
       " ('E4', 0.5365853658536586),\n",
       " ('E11', 0.5365853658536586),\n",
       " ('E1', 0.5238095238095238),\n",
       " ('E2', 0.5238095238095238),\n",
       " ('E13', 0.5238095238095238),\n",
       " ('E14', 0.5238095238095238)]"
      ]
     },
     "execution_count": 40,
     "metadata": {},
     "output_type": "execute_result"
    }
   ],
   "source": [
    "clos = bipartite.closeness_centrality(D, women)\n",
    "sorted(clos.items(), key=itemgetter(1), reverse=True)"
   ]
  },
  {
   "cell_type": "markdown",
   "metadata": {},
   "source": [
    "What do you notice about the centrality scores for both women and the events attended? How are they similar? How are they different?"
   ]
  },
  {
   "cell_type": "markdown",
   "metadata": {},
   "source": [
    "***\n",
    "***\n",
    "\n",
    "## Projection from bipartite to unipartite\n",
    "\n",
    "\n",
    "The process of obtaining an unipartite graph (i.e., with only women that are linked if they attended the same events) is called **projection**. It's called projection because we are \"projecting\" information from two-dimensions (e.g., women and their events as distinct dimensions) into one-dimension (e.g., women who attended the same event).\n",
    "\n",
    "We can weight the edges of the projection using different criteria. For instance, if two women attended several of the same events together, we can create an edge between them to carry a higher weight than say two other women who attended only one event together. In other words, we can weigh the edges of this projection based on the number of shared events women attended.\n",
    "\n",
    "Let's double check our list of women again."
   ]
  },
  {
   "cell_type": "code",
   "execution_count": 41,
   "metadata": {
    "collapsed": false
   },
   "outputs": [
    {
     "data": {
      "text/plain": [
       "['Evelyn Jefferson',\n",
       " 'Laura Mandeville',\n",
       " 'Theresa Anderson',\n",
       " 'Brenda Rogers',\n",
       " 'Charlotte McDowd',\n",
       " 'Frances Anderson',\n",
       " 'Eleanor Nye',\n",
       " 'Pearl Oglethorpe',\n",
       " 'Ruth DeSand',\n",
       " 'Verne Sanderson',\n",
       " 'Myra Liddel',\n",
       " 'Katherina Rogers',\n",
       " 'Sylvia Avondale',\n",
       " 'Nora Fayette',\n",
       " 'Helen Lloyd',\n",
       " 'Dorothy Murchison',\n",
       " 'Olivia Carleton',\n",
       " 'Flora Price']"
      ]
     },
     "execution_count": 41,
     "metadata": {},
     "output_type": "execute_result"
    }
   ],
   "source": [
    "women"
   ]
  },
  {
   "cell_type": "markdown",
   "metadata": {},
   "source": [
    "With this in tow, let's use the `bipartite` graph and perform a weighted projection. In other words, we're going to take the information about women and the events the attended (a bitpartite network) into a network of women, where the link between them is the number of events they attended together. We'll call this projection `W`. "
   ]
  },
  {
   "cell_type": "code",
   "execution_count": 42,
   "metadata": {
    "collapsed": true
   },
   "outputs": [],
   "source": [
    "W = bipartite.weighted_projected_graph(D, women)"
   ]
  },
  {
   "cell_type": "markdown",
   "metadata": {},
   "source": [
    "First, let's list the nodes (i.e., the women). "
   ]
  },
  {
   "cell_type": "code",
   "execution_count": 43,
   "metadata": {
    "collapsed": false
   },
   "outputs": [
    {
     "data": {
      "text/plain": [
       "['Evelyn Jefferson',\n",
       " 'Laura Mandeville',\n",
       " 'Theresa Anderson',\n",
       " 'Brenda Rogers',\n",
       " 'Charlotte McDowd',\n",
       " 'Frances Anderson',\n",
       " 'Eleanor Nye',\n",
       " 'Pearl Oglethorpe',\n",
       " 'Ruth DeSand',\n",
       " 'Verne Sanderson',\n",
       " 'Myra Liddel',\n",
       " 'Katherina Rogers',\n",
       " 'Sylvia Avondale',\n",
       " 'Nora Fayette',\n",
       " 'Helen Lloyd',\n",
       " 'Dorothy Murchison',\n",
       " 'Olivia Carleton',\n",
       " 'Flora Price']"
      ]
     },
     "execution_count": 43,
     "metadata": {},
     "output_type": "execute_result"
    }
   ],
   "source": [
    "list(W.nodes())"
   ]
  },
  {
   "cell_type": "markdown",
   "metadata": {},
   "source": [
    "Now, let's get the edgelist of women to see how often women co-attended events together. "
   ]
  },
  {
   "cell_type": "code",
   "execution_count": 44,
   "metadata": {
    "collapsed": false
   },
   "outputs": [
    {
     "data": {
      "text/plain": [
       "[('Evelyn Jefferson', 'Theresa Anderson', {'weight': 7}),\n",
       " ('Evelyn Jefferson', 'Katherina Rogers', {'weight': 2}),\n",
       " ('Evelyn Jefferson', 'Dorothy Murchison', {'weight': 2}),\n",
       " ('Evelyn Jefferson', 'Verne Sanderson', {'weight': 2}),\n",
       " ('Evelyn Jefferson', 'Brenda Rogers', {'weight': 6}),\n",
       " ('Evelyn Jefferson', 'Flora Price', {'weight': 1}),\n",
       " ('Evelyn Jefferson', 'Frances Anderson', {'weight': 4}),\n",
       " ('Evelyn Jefferson', 'Ruth DeSand', {'weight': 3}),\n",
       " ('Evelyn Jefferson', 'Nora Fayette', {'weight': 2}),\n",
       " ('Evelyn Jefferson', 'Eleanor Nye', {'weight': 3}),\n",
       " ('Evelyn Jefferson', 'Pearl Oglethorpe', {'weight': 3}),\n",
       " ('Evelyn Jefferson', 'Sylvia Avondale', {'weight': 2}),\n",
       " ('Evelyn Jefferson', 'Laura Mandeville', {'weight': 6}),\n",
       " ('Evelyn Jefferson', 'Charlotte McDowd', {'weight': 3}),\n",
       " ('Evelyn Jefferson', 'Myra Liddel', {'weight': 2}),\n",
       " ('Evelyn Jefferson', 'Helen Lloyd', {'weight': 1}),\n",
       " ('Evelyn Jefferson', 'Olivia Carleton', {'weight': 1}),\n",
       " ('Laura Mandeville', 'Theresa Anderson', {'weight': 6}),\n",
       " ('Laura Mandeville', 'Katherina Rogers', {'weight': 1}),\n",
       " ('Laura Mandeville', 'Dorothy Murchison', {'weight': 1}),\n",
       " ('Laura Mandeville', 'Verne Sanderson', {'weight': 2}),\n",
       " ('Laura Mandeville', 'Brenda Rogers', {'weight': 6}),\n",
       " ('Laura Mandeville', 'Frances Anderson', {'weight': 4}),\n",
       " ('Laura Mandeville', 'Nora Fayette', {'weight': 2}),\n",
       " ('Laura Mandeville', 'Eleanor Nye', {'weight': 4}),\n",
       " ('Laura Mandeville', 'Pearl Oglethorpe', {'weight': 2}),\n",
       " ('Laura Mandeville', 'Sylvia Avondale', {'weight': 2}),\n",
       " ('Laura Mandeville', 'Charlotte McDowd', {'weight': 3}),\n",
       " ('Laura Mandeville', 'Myra Liddel', {'weight': 1}),\n",
       " ('Laura Mandeville', 'Helen Lloyd', {'weight': 2}),\n",
       " ('Laura Mandeville', 'Ruth DeSand', {'weight': 3}),\n",
       " ('Theresa Anderson', 'Katherina Rogers', {'weight': 2}),\n",
       " ('Theresa Anderson', 'Dorothy Murchison', {'weight': 2}),\n",
       " ('Theresa Anderson', 'Verne Sanderson', {'weight': 3}),\n",
       " ('Theresa Anderson', 'Brenda Rogers', {'weight': 6}),\n",
       " ('Theresa Anderson', 'Flora Price', {'weight': 1}),\n",
       " ('Theresa Anderson', 'Frances Anderson', {'weight': 4}),\n",
       " ('Theresa Anderson', 'Ruth DeSand', {'weight': 4}),\n",
       " ('Theresa Anderson', 'Nora Fayette', {'weight': 3}),\n",
       " ('Theresa Anderson', 'Eleanor Nye', {'weight': 4}),\n",
       " ('Theresa Anderson', 'Pearl Oglethorpe', {'weight': 3}),\n",
       " ('Theresa Anderson', 'Sylvia Avondale', {'weight': 3}),\n",
       " ('Theresa Anderson', 'Charlotte McDowd', {'weight': 4}),\n",
       " ('Theresa Anderson', 'Myra Liddel', {'weight': 2}),\n",
       " ('Theresa Anderson', 'Helen Lloyd', {'weight': 2}),\n",
       " ('Theresa Anderson', 'Olivia Carleton', {'weight': 1}),\n",
       " ('Brenda Rogers', 'Katherina Rogers', {'weight': 1}),\n",
       " ('Brenda Rogers', 'Dorothy Murchison', {'weight': 1}),\n",
       " ('Brenda Rogers', 'Verne Sanderson', {'weight': 2}),\n",
       " ('Brenda Rogers', 'Frances Anderson', {'weight': 4}),\n",
       " ('Brenda Rogers', 'Nora Fayette', {'weight': 2}),\n",
       " ('Brenda Rogers', 'Eleanor Nye', {'weight': 4}),\n",
       " ('Brenda Rogers', 'Pearl Oglethorpe', {'weight': 2}),\n",
       " ('Brenda Rogers', 'Sylvia Avondale', {'weight': 2}),\n",
       " ('Brenda Rogers', 'Charlotte McDowd', {'weight': 4}),\n",
       " ('Brenda Rogers', 'Myra Liddel', {'weight': 1}),\n",
       " ('Brenda Rogers', 'Helen Lloyd', {'weight': 2}),\n",
       " ('Brenda Rogers', 'Ruth DeSand', {'weight': 3}),\n",
       " ('Charlotte McDowd', 'Sylvia Avondale', {'weight': 1}),\n",
       " ('Charlotte McDowd', 'Verne Sanderson', {'weight': 1}),\n",
       " ('Charlotte McDowd', 'Frances Anderson', {'weight': 2}),\n",
       " ('Charlotte McDowd', 'Nora Fayette', {'weight': 1}),\n",
       " ('Charlotte McDowd', 'Helen Lloyd', {'weight': 1}),\n",
       " ('Charlotte McDowd', 'Eleanor Nye', {'weight': 2}),\n",
       " ('Charlotte McDowd', 'Ruth DeSand', {'weight': 2}),\n",
       " ('Frances Anderson', 'Katherina Rogers', {'weight': 1}),\n",
       " ('Frances Anderson', 'Dorothy Murchison', {'weight': 1}),\n",
       " ('Frances Anderson', 'Verne Sanderson', {'weight': 1}),\n",
       " ('Frances Anderson', 'Nora Fayette', {'weight': 1}),\n",
       " ('Frances Anderson', 'Eleanor Nye', {'weight': 3}),\n",
       " ('Frances Anderson', 'Pearl Oglethorpe', {'weight': 2}),\n",
       " ('Frances Anderson', 'Sylvia Avondale', {'weight': 1}),\n",
       " ('Frances Anderson', 'Myra Liddel', {'weight': 1}),\n",
       " ('Frances Anderson', 'Helen Lloyd', {'weight': 1}),\n",
       " ('Frances Anderson', 'Ruth DeSand', {'weight': 2}),\n",
       " ('Eleanor Nye', 'Katherina Rogers', {'weight': 1}),\n",
       " ('Eleanor Nye', 'Dorothy Murchison', {'weight': 1}),\n",
       " ('Eleanor Nye', 'Verne Sanderson', {'weight': 2}),\n",
       " ('Eleanor Nye', 'Nora Fayette', {'weight': 2}),\n",
       " ('Eleanor Nye', 'Pearl Oglethorpe', {'weight': 2}),\n",
       " ('Eleanor Nye', 'Sylvia Avondale', {'weight': 2}),\n",
       " ('Eleanor Nye', 'Myra Liddel', {'weight': 1}),\n",
       " ('Eleanor Nye', 'Helen Lloyd', {'weight': 2}),\n",
       " ('Eleanor Nye', 'Ruth DeSand', {'weight': 3}),\n",
       " ('Pearl Oglethorpe', 'Katherina Rogers', {'weight': 2}),\n",
       " ('Pearl Oglethorpe', 'Dorothy Murchison', {'weight': 2}),\n",
       " ('Pearl Oglethorpe', 'Verne Sanderson', {'weight': 2}),\n",
       " ('Pearl Oglethorpe', 'Flora Price', {'weight': 1}),\n",
       " ('Pearl Oglethorpe', 'Ruth DeSand', {'weight': 2}),\n",
       " ('Pearl Oglethorpe', 'Nora Fayette', {'weight': 2}),\n",
       " ('Pearl Oglethorpe', 'Sylvia Avondale', {'weight': 2}),\n",
       " ('Pearl Oglethorpe', 'Myra Liddel', {'weight': 2}),\n",
       " ('Pearl Oglethorpe', 'Helen Lloyd', {'weight': 1}),\n",
       " ('Pearl Oglethorpe', 'Olivia Carleton', {'weight': 1}),\n",
       " ('Ruth DeSand', 'Katherina Rogers', {'weight': 2}),\n",
       " ('Ruth DeSand', 'Dorothy Murchison', {'weight': 2}),\n",
       " ('Ruth DeSand', 'Verne Sanderson', {'weight': 3}),\n",
       " ('Ruth DeSand', 'Flora Price', {'weight': 1}),\n",
       " ('Ruth DeSand', 'Nora Fayette', {'weight': 2}),\n",
       " ('Ruth DeSand', 'Sylvia Avondale', {'weight': 3}),\n",
       " ('Ruth DeSand', 'Myra Liddel', {'weight': 2}),\n",
       " ('Ruth DeSand', 'Helen Lloyd', {'weight': 2}),\n",
       " ('Ruth DeSand', 'Olivia Carleton', {'weight': 1}),\n",
       " ('Verne Sanderson', 'Katherina Rogers', {'weight': 3}),\n",
       " ('Verne Sanderson', 'Dorothy Murchison', {'weight': 2}),\n",
       " ('Verne Sanderson', 'Flora Price', {'weight': 1}),\n",
       " ('Verne Sanderson', 'Nora Fayette', {'weight': 3}),\n",
       " ('Verne Sanderson', 'Sylvia Avondale', {'weight': 4}),\n",
       " ('Verne Sanderson', 'Myra Liddel', {'weight': 3}),\n",
       " ('Verne Sanderson', 'Helen Lloyd', {'weight': 3}),\n",
       " ('Verne Sanderson', 'Olivia Carleton', {'weight': 1}),\n",
       " ('Myra Liddel', 'Katherina Rogers', {'weight': 4}),\n",
       " ('Myra Liddel', 'Dorothy Murchison', {'weight': 2}),\n",
       " ('Myra Liddel', 'Flora Price', {'weight': 1}),\n",
       " ('Myra Liddel', 'Nora Fayette', {'weight': 3}),\n",
       " ('Myra Liddel', 'Sylvia Avondale', {'weight': 4}),\n",
       " ('Myra Liddel', 'Helen Lloyd', {'weight': 3}),\n",
       " ('Myra Liddel', 'Olivia Carleton', {'weight': 1}),\n",
       " ('Katherina Rogers', 'Dorothy Murchison', {'weight': 2}),\n",
       " ('Katherina Rogers', 'Flora Price', {'weight': 1}),\n",
       " ('Katherina Rogers', 'Nora Fayette', {'weight': 5}),\n",
       " ('Katherina Rogers', 'Sylvia Avondale', {'weight': 6}),\n",
       " ('Katherina Rogers', 'Helen Lloyd', {'weight': 3}),\n",
       " ('Katherina Rogers', 'Olivia Carleton', {'weight': 1}),\n",
       " ('Sylvia Avondale', 'Dorothy Murchison', {'weight': 2}),\n",
       " ('Sylvia Avondale', 'Flora Price', {'weight': 1}),\n",
       " ('Sylvia Avondale', 'Nora Fayette', {'weight': 6}),\n",
       " ('Sylvia Avondale', 'Helen Lloyd', {'weight': 4}),\n",
       " ('Sylvia Avondale', 'Olivia Carleton', {'weight': 1}),\n",
       " ('Nora Fayette', 'Dorothy Murchison', {'weight': 1}),\n",
       " ('Nora Fayette', 'Flora Price', {'weight': 2}),\n",
       " ('Nora Fayette', 'Helen Lloyd', {'weight': 4}),\n",
       " ('Nora Fayette', 'Olivia Carleton', {'weight': 2}),\n",
       " ('Helen Lloyd', 'Dorothy Murchison', {'weight': 1}),\n",
       " ('Helen Lloyd', 'Flora Price', {'weight': 1}),\n",
       " ('Helen Lloyd', 'Olivia Carleton', {'weight': 1}),\n",
       " ('Dorothy Murchison', 'Flora Price', {'weight': 1}),\n",
       " ('Dorothy Murchison', 'Olivia Carleton', {'weight': 1}),\n",
       " ('Olivia Carleton', 'Flora Price', {'weight': 2})]"
      ]
     },
     "execution_count": 44,
     "metadata": {},
     "output_type": "execute_result"
    }
   ],
   "source": [
    "list(W.edges(data=True))"
   ]
  },
  {
   "cell_type": "markdown",
   "metadata": {},
   "source": [
    "Now that it's a unipartite network, we can run the first set of degree centrality measures. Let's try two: betweenness and closeness. \n",
    "\n",
    "Use both measures and apply it to `W`. "
   ]
  },
  {
   "cell_type": "code",
   "execution_count": 45,
   "metadata": {
    "collapsed": true
   },
   "outputs": [],
   "source": [
    "bet_cen_W = nx.betweenness_centrality(W,weight='weight')"
   ]
  },
  {
   "cell_type": "code",
   "execution_count": 46,
   "metadata": {
    "collapsed": false
   },
   "outputs": [
    {
     "data": {
      "text/plain": [
       "{'Evelyn Jefferson': 0.0006684491978609625,\n",
       " 'Laura Mandeville': 0.003326330532212885,\n",
       " 'Theresa Anderson': 0.0006684491978609625,\n",
       " 'Brenda Rogers': 0.003326330532212885,\n",
       " 'Charlotte McDowd': 0.01531862745098039,\n",
       " 'Frances Anderson': 0.057860644257703084,\n",
       " 'Eleanor Nye': 0.004551820728291317,\n",
       " 'Pearl Oglethorpe': 0.0006684491978609625,\n",
       " 'Ruth DeSand': 0.0006684491978609625,\n",
       " 'Verne Sanderson': 0.0184643175451999,\n",
       " 'Myra Liddel': 0.05372938948306596,\n",
       " 'Katherina Rogers': 0.05372938948306596,\n",
       " 'Sylvia Avondale': 0.0184643175451999,\n",
       " 'Nora Fayette': 0.01092436974789916,\n",
       " 'Helen Lloyd': 0.06168870957473897,\n",
       " 'Dorothy Murchison': 0.09577006939139289,\n",
       " 'Olivia Carleton': 0.13628485485103134,\n",
       " 'Flora Price': 0.13628485485103134}"
      ]
     },
     "execution_count": 46,
     "metadata": {},
     "output_type": "execute_result"
    }
   ],
   "source": [
    "bet_cen_W"
   ]
  },
  {
   "cell_type": "code",
   "execution_count": 47,
   "metadata": {
    "collapsed": true
   },
   "outputs": [],
   "source": [
    "clo_cen_W = nx.closeness_centrality(W)"
   ]
  },
  {
   "cell_type": "code",
   "execution_count": 48,
   "metadata": {
    "collapsed": false
   },
   "outputs": [
    {
     "data": {
      "text/plain": [
       "{'Evelyn Jefferson': 1.0,\n",
       " 'Laura Mandeville': 0.8947368421052632,\n",
       " 'Theresa Anderson': 1.0,\n",
       " 'Brenda Rogers': 0.8947368421052632,\n",
       " 'Charlotte McDowd': 0.7391304347826086,\n",
       " 'Frances Anderson': 0.8947368421052632,\n",
       " 'Eleanor Nye': 0.8947368421052632,\n",
       " 'Pearl Oglethorpe': 0.9444444444444444,\n",
       " 'Ruth DeSand': 1.0,\n",
       " 'Verne Sanderson': 1.0,\n",
       " 'Myra Liddel': 0.9444444444444444,\n",
       " 'Katherina Rogers': 0.9444444444444444,\n",
       " 'Sylvia Avondale': 1.0,\n",
       " 'Nora Fayette': 1.0,\n",
       " 'Helen Lloyd': 1.0,\n",
       " 'Dorothy Murchison': 0.9444444444444444,\n",
       " 'Olivia Carleton': 0.7727272727272727,\n",
       " 'Flora Price': 0.7727272727272727}"
      ]
     },
     "execution_count": 48,
     "metadata": {},
     "output_type": "execute_result"
    }
   ],
   "source": [
    "clo_cen_W"
   ]
  },
  {
   "cell_type": "markdown",
   "metadata": {},
   "source": [
    "How do these centrality measures used on the unipartite **projection** network compare to the bipartite measures?"
   ]
  },
  {
   "cell_type": "markdown",
   "metadata": {},
   "source": [
    "***\n",
    "***\n",
    "\n",
    "# Checkpoint 6 of 8\n",
    "## Now you try!\n",
    "\n",
    "### We're going to take your bipartite network `B2` and project it to make unipartite network. Call it `B2_U`. \n",
    "\n",
    "### Calculate any two centrality scores you'd like from `B2_U`. \n"
   ]
  },
  {
   "cell_type": "code",
   "execution_count": 49,
   "metadata": {
    "collapsed": false
   },
   "outputs": [
    {
     "data": {
      "text/plain": [
       "<networkx.classes.graph.Graph at 0x7f8a89818198>"
      ]
     },
     "execution_count": 49,
     "metadata": {},
     "output_type": "execute_result"
    }
   ],
   "source": [
    "B2"
   ]
  },
  {
   "cell_type": "code",
   "execution_count": 50,
   "metadata": {
    "collapsed": false
   },
   "outputs": [
    {
     "data": {
      "text/plain": [
       "<networkx.classes.graph.Graph at 0x7f8a87558a58>"
      ]
     },
     "execution_count": 50,
     "metadata": {},
     "output_type": "execute_result"
    }
   ],
   "source": [
    "D"
   ]
  },
  {
   "cell_type": "code",
   "execution_count": 51,
   "metadata": {
    "collapsed": true
   },
   "outputs": [],
   "source": [
    "p_nodes = [n for n, d in B2.nodes(data=True) if d['bipartite']==0]\n",
    "s_nodes = [n for n, d  in B2.nodes(data=True) if d['bipartite']==1]"
   ]
  },
  {
   "cell_type": "code",
   "execution_count": 52,
   "metadata": {
    "collapsed": true
   },
   "outputs": [],
   "source": [
    "B2_U = bipartite.weighted_projected_graph(B2, p_nodes)"
   ]
  },
  {
   "cell_type": "code",
   "execution_count": 53,
   "metadata": {
    "collapsed": false
   },
   "outputs": [
    {
     "data": {
      "text/plain": [
       "[('x', 'z', {'weight': 4}),\n",
       " ('x', 'y', {'weight': 4}),\n",
       " ('y', 'z', {'weight': 4})]"
      ]
     },
     "execution_count": 53,
     "metadata": {},
     "output_type": "execute_result"
    }
   ],
   "source": [
    "list(B2_U.edges(data=True))"
   ]
  },
  {
   "cell_type": "code",
   "execution_count": 54,
   "metadata": {
    "collapsed": false
   },
   "outputs": [],
   "source": [
    "bet_cen_B2_U = nx.betweenness_centrality(B2_U,weight='weight')"
   ]
  },
  {
   "cell_type": "code",
   "execution_count": 55,
   "metadata": {
    "collapsed": false
   },
   "outputs": [
    {
     "data": {
      "text/plain": [
       "{'x': 0.0, 'y': 0.0, 'z': 0.0}"
      ]
     },
     "execution_count": 55,
     "metadata": {},
     "output_type": "execute_result"
    }
   ],
   "source": [
    "bet_cen_B2_U"
   ]
  },
  {
   "cell_type": "code",
   "execution_count": 56,
   "metadata": {
    "collapsed": true
   },
   "outputs": [],
   "source": [
    "clo_cen_B2_U = nx.closeness_centrality(B2_U)"
   ]
  },
  {
   "cell_type": "code",
   "execution_count": 57,
   "metadata": {
    "collapsed": false
   },
   "outputs": [
    {
     "data": {
      "text/plain": [
       "{'x': 1.0, 'y': 1.0, 'z': 1.0}"
      ]
     },
     "execution_count": 57,
     "metadata": {},
     "output_type": "execute_result"
    }
   ],
   "source": [
    "clo_cen_B2_U"
   ]
  },
  {
   "cell_type": "markdown",
   "metadata": {},
   "source": [
    "***\n",
    "***"
   ]
  },
  {
   "cell_type": "markdown",
   "metadata": {},
   "source": [
    "***\n",
    "***\n",
    "\n",
    "## Community Detection\n",
    "\n",
    "\n",
    "![Neuron](Images/13_Network_Communities.png) \n",
    "\n",
    "Facebook data are a great place to start to study community detection analysis in social networks. Why? Think about your Facebook friends. They probably come from different aspects of your life: Some are your friends from college, others are your co-workers, and maybe some old friends from your hometown.\n",
    "\n",
    "Because your friends can be broken down into different groups like this, you may wonder if we could identify these different communities in your social network. Using community detection algorithms, we can break down a social network into different potentially overlapping communities. For instance, consider the image above of two hypothetical networks, where \"communities\" of nodes are distinctly color-coded. Notice that in many ways, these communities are both distinct and overlap. This could be the overlap of highschool and hometown friends; or college friends and graduate school friends; etc.\n",
    "\n",
    "There are a bunch of different strategies for finding communities in social network data. Like we've discussed with other methods in data science, the right way to detect communities depends on what intuition you have about your data. The algorithms that distinguish one community detection method from another, in particular, vary by what structural features they emphasize in the network. For instance, for the two we're going to talk about right now:\n",
    "\n",
    "- Modularity maximization tries to maximize the number of edges within a cluster, and minimize the number of edges going between clusters\n",
    "- Clique percolation focuses on fully connected sets of nodes (i.e. cliques)\n",
    "\n",
    "---\n",
    "\n",
    "---"
   ]
  },
  {
   "cell_type": "markdown",
   "metadata": {},
   "source": [
    "### Modularity maximization\n",
    "Let's start with the more popular, modularity maximization. The main criterion for finding good communities here is that we want to maximize intra-community edges while minimizing inter-community edges. Formally, the algorithm tries to maximize the modularity of network, or the fraction of edges that fall within a community minus the expected fraction of edges if the edges were distributed by random. Good communities should have a high number of intra-community edges, so by maximizing the modularity, we detect dense communities that have a high fraction of intra-community edges.\n",
    "\n",
    "**Important notes:**\n",
    "1. Modularity maximization is popular because it is fast (relatively speaking). Community detection takes loads of computing power, and the simplicity of modularity maximization makes it faster to implement.\n",
    "2. **But** modularity maximization has serious flaws. It has trouble finding small communities (this has been called its [resolution limit](http://www.pnas.org/content/104/1/36)), and worse, modularity does not always have a global maximum, leading to an almost infinite number of \"right\" solutions according to modularity maximization (see [this paper](https://journals.aps.org/pre/abstract/10.1103/PhysRevE.81.046106) if you're curious). How badly this is going to affect your work depends on the size of your network and the types of communities you are expecting. Unless computing power is a limiting factor, it's usually better to avoid using this approach.\n",
    "\n",
    "Still, modularity maximization is probably the most popular community detection scheme out there, so you are better off knowing what it is. We're going to use the `community` module, provided for you as a folder in your Notebook directory. We're also going to read in `NetworkX` and `matplotlib` for when we plot these networks. We're also going to suppress any warning messages we get from plotting these networks. "
   ]
  },
  {
   "cell_type": "code",
   "execution_count": 62,
   "metadata": {
    "collapsed": false
   },
   "outputs": [],
   "source": [
    "import networkx as nx\n",
    "#import community\n",
    "import matplotlib.pyplot as plt\n",
    "%matplotlib inline \n",
    "import warnings\n",
    "warnings.filterwarnings('ignore')"
   ]
  },
  {
   "cell_type": "code",
   "execution_count": 63,
   "metadata": {
    "collapsed": false
   },
   "outputs": [
    {
     "name": "stdout",
     "output_type": "stream",
     "text": [
      "Looking in links: /usr/share/pip-wheels\n",
      "Requirement already satisfied: python-louvain in /home/ahegu/.local/lib/python3.6/site-packages (0.14)\n",
      "Requirement already satisfied: networkx in /usr/lib/python3.6/site-packages (from python-louvain) (2.4)\n",
      "Requirement already satisfied: numpy in /usr/lib/python3.6/site-packages (from python-louvain) (1.17.3)\n",
      "Requirement already satisfied: decorator>=4.3.0 in /usr/lib/python3.6/site-packages (from networkx->python-louvain) (4.4.1)\n"
     ]
    }
   ],
   "source": [
    "!pip3.6 install --user python-louvain\n",
    "from community import community_louvain"
   ]
  },
  {
   "cell_type": "markdown",
   "metadata": {},
   "source": [
    "Let's read in some Facebook data. These data are from SNAP (Stanford Network Analysis Project). They were collected data from a survey of Facebook users. (More information here: https://snap.stanford.edu/data/egonets-Facebook.html.) These data are very large, so many of things that we're going to run will probably take a bit longer than ususal. "
   ]
  },
  {
   "cell_type": "code",
   "execution_count": 64,
   "metadata": {
    "collapsed": true
   },
   "outputs": [],
   "source": [
    "G_fb = nx.read_edgelist(\"Data/facebook_combined.txt\", \n",
    "                        create_using = nx.Graph(), \n",
    "                        nodetype = int)"
   ]
  },
  {
   "cell_type": "markdown",
   "metadata": {},
   "source": [
    "Let's get some basic information from these data using the function `info()`. \n",
    "\n",
    "This network is pretty large.  "
   ]
  },
  {
   "cell_type": "code",
   "execution_count": 65,
   "metadata": {
    "collapsed": false
   },
   "outputs": [
    {
     "name": "stdout",
     "output_type": "stream",
     "text": [
      "Name: \n",
      "Type: Graph\n",
      "Number of nodes: 4039\n",
      "Number of edges: 88234\n",
      "Average degree:  43.6910\n"
     ]
    }
   ],
   "source": [
    "print(nx.info(G_fb))"
   ]
  },
  {
   "cell_type": "markdown",
   "metadata": {},
   "source": [
    "First, let's plot this network. Let's do it using a \"spring layout,\" like the one we learned about last week.\n",
    "\n",
    "**Note: This will take a few minutes to run!**\n"
   ]
  },
  {
   "cell_type": "markdown",
   "metadata": {},
   "source": [
    "First, let's take a look at the network. Create network layout for visualizations. "
   ]
  },
  {
   "cell_type": "code",
   "execution_count": 66,
   "metadata": {
    "collapsed": false
   },
   "outputs": [
    {
     "data": {
      "image/png": "[encoded data removed]",
      "text/plain": [
       "<Figure size 432x288 with 1 Axes>"
      ]
     },
     "metadata": {},
     "output_type": "display_data"
    }
   ],
   "source": [
    "spring_pos = nx.spring_layout(G_fb)\n",
    "plt.axis(\"off\")\n",
    "nx.draw_networkx(G_fb, \n",
    "                 pos = spring_pos, \n",
    "                 with_labels = False, \n",
    "                 node_size = 35)"
   ]
  },
  {
   "cell_type": "markdown",
   "metadata": {},
   "source": [
    "Let's run a community detection analysis from the package `community` (because NetworkX made the decision to not even support modularity maximization in its package) and cluster nodes together. First we're going to run the function called `.best_partition()` from `community` on `G_fb`, our `NetworkX` object. "
   ]
  },
  {
   "cell_type": "code",
   "execution_count": 67,
   "metadata": {
    "collapsed": false
   },
   "outputs": [],
   "source": [
    "mod_communities = community.best_partition(G_fb)"
   ]
  },
  {
   "cell_type": "markdown",
   "metadata": {},
   "source": [
    "Let's take a look at what's in the `mod_communities` object now. It looks like a really long dictionary. In fact, it's a dictionary where all of the keys are nodes in the network, `G_fb`. The values correspond to its community assignment. "
   ]
  },
  {
   "cell_type": "code",
   "execution_count": 68,
   "metadata": {
    "collapsed": false
   },
   "outputs": [
    {
     "data": {
      "text/plain": [
       "{0: 0,\n",
       " 1: 0,\n",
       " 2: 0,\n",
       " 3: 0,\n",
       " 4: 0,\n",
       " 5: 0,\n",
       " 6: 0,\n",
       " 7: 0,\n",
       " 8: 0,\n",
       " 9: 0,\n",
       " 10: 0,\n",
       " 11: 0,\n",
       " 12: 0,\n",
       " 13: 0,\n",
       " 14: 0,\n",
       " 15: 0,\n",
       " 16: 0,\n",
       " 17: 0,\n",
       " 18: 0,\n",
       " 19: 0,\n",
       " 20: 0,\n",
       " 21: 0,\n",
       " 22: 0,\n",
       " 23: 0,\n",
       " 24: 0,\n",
       " 25: 0,\n",
       " 26: 0,\n",
       " 27: 0,\n",
       " 28: 0,\n",
       " 29: 0,\n",
       " 30: 0,\n",
       " 31: 0,\n",
       " 32: 0,\n",
       " 33: 0,\n",
       " 34: 1,\n",
       " 35: 0,\n",
       " 36: 0,\n",
       " 37: 0,\n",
       " 38: 0,\n",
       " 39: 0,\n",
       " 40: 0,\n",
       " 41: 0,\n",
       " 42: 0,\n",
       " 43: 0,\n",
       " 44: 0,\n",
       " 45: 0,\n",
       " 46: 0,\n",
       " 47: 0,\n",
       " 48: 0,\n",
       " 49: 0,\n",
       " 50: 0,\n",
       " 51: 0,\n",
       " 52: 0,\n",
       " 53: 0,\n",
       " 54: 0,\n",
       " 55: 0,\n",
       " 56: 0,\n",
       " 57: 0,\n",
       " 58: 2,\n",
       " 59: 0,\n",
       " 60: 0,\n",
       " 61: 0,\n",
       " 62: 0,\n",
       " 63: 0,\n",
       " 64: 0,\n",
       " 65: 0,\n",
       " 66: 0,\n",
       " 67: 0,\n",
       " 68: 0,\n",
       " 69: 0,\n",
       " 70: 0,\n",
       " 71: 0,\n",
       " 72: 0,\n",
       " 73: 0,\n",
       " 74: 0,\n",
       " 75: 0,\n",
       " 76: 0,\n",
       " 77: 0,\n",
       " 78: 0,\n",
       " 79: 0,\n",
       " 80: 0,\n",
       " 81: 0,\n",
       " 82: 0,\n",
       " 83: 0,\n",
       " 84: 0,\n",
       " 85: 0,\n",
       " 86: 0,\n",
       " 87: 0,\n",
       " 88: 0,\n",
       " 89: 0,\n",
       " 90: 0,\n",
       " 91: 0,\n",
       " 92: 0,\n",
       " 93: 0,\n",
       " 94: 0,\n",
       " 95: 0,\n",
       " 96: 0,\n",
       " 97: 0,\n",
       " 98: 0,\n",
       " 99: 0,\n",
       " 100: 0,\n",
       " 101: 0,\n",
       " 102: 0,\n",
       " 103: 0,\n",
       " 104: 0,\n",
       " 105: 0,\n",
       " 106: 0,\n",
       " 107: 3,\n",
       " 108: 0,\n",
       " 109: 0,\n",
       " 110: 0,\n",
       " 111: 0,\n",
       " 112: 0,\n",
       " 113: 0,\n",
       " 114: 0,\n",
       " 115: 0,\n",
       " 116: 0,\n",
       " 117: 0,\n",
       " 118: 0,\n",
       " 119: 0,\n",
       " 120: 0,\n",
       " 121: 0,\n",
       " 122: 0,\n",
       " 123: 0,\n",
       " 124: 0,\n",
       " 125: 0,\n",
       " 126: 0,\n",
       " 127: 0,\n",
       " 128: 0,\n",
       " 129: 0,\n",
       " 130: 0,\n",
       " 131: 0,\n",
       " 132: 0,\n",
       " 133: 0,\n",
       " 134: 0,\n",
       " 135: 0,\n",
       " 136: 4,\n",
       " 137: 0,\n",
       " 138: 0,\n",
       " 139: 0,\n",
       " 140: 0,\n",
       " 141: 0,\n",
       " 142: 0,\n",
       " 143: 0,\n",
       " 144: 0,\n",
       " 145: 0,\n",
       " 146: 0,\n",
       " 147: 0,\n",
       " 148: 0,\n",
       " 149: 0,\n",
       " 150: 0,\n",
       " 151: 0,\n",
       " 152: 0,\n",
       " 153: 0,\n",
       " 154: 0,\n",
       " 155: 0,\n",
       " 156: 0,\n",
       " 157: 0,\n",
       " 158: 0,\n",
       " 159: 0,\n",
       " 160: 0,\n",
       " 161: 0,\n",
       " 162: 0,\n",
       " 163: 0,\n",
       " 164: 0,\n",
       " 165: 0,\n",
       " 166: 0,\n",
       " 167: 0,\n",
       " 168: 0,\n",
       " 169: 0,\n",
       " 170: 0,\n",
       " 171: 2,\n",
       " 172: 0,\n",
       " 173: 1,\n",
       " 174: 0,\n",
       " 175: 0,\n",
       " 176: 0,\n",
       " 177: 0,\n",
       " 178: 0,\n",
       " 179: 0,\n",
       " 180: 0,\n",
       " 181: 0,\n",
       " 182: 0,\n",
       " 183: 0,\n",
       " 184: 0,\n",
       " 185: 0,\n",
       " 186: 0,\n",
       " 187: 0,\n",
       " 188: 0,\n",
       " 189: 0,\n",
       " 190: 0,\n",
       " 191: 0,\n",
       " 192: 0,\n",
       " 193: 0,\n",
       " 194: 0,\n",
       " 195: 0,\n",
       " 196: 0,\n",
       " 197: 0,\n",
       " 198: 1,\n",
       " 199: 0,\n",
       " 200: 0,\n",
       " 201: 0,\n",
       " 202: 0,\n",
       " 203: 0,\n",
       " 204: 0,\n",
       " 205: 0,\n",
       " 206: 0,\n",
       " 207: 0,\n",
       " 208: 0,\n",
       " 209: 0,\n",
       " 210: 0,\n",
       " 211: 0,\n",
       " 212: 0,\n",
       " 213: 0,\n",
       " 214: 0,\n",
       " 215: 0,\n",
       " 216: 0,\n",
       " 217: 0,\n",
       " 218: 0,\n",
       " 219: 0,\n",
       " 220: 0,\n",
       " 221: 0,\n",
       " 222: 0,\n",
       " 223: 0,\n",
       " 224: 0,\n",
       " 225: 0,\n",
       " 226: 0,\n",
       " 227: 0,\n",
       " 228: 0,\n",
       " 229: 0,\n",
       " 230: 0,\n",
       " 231: 0,\n",
       " 232: 0,\n",
       " 233: 0,\n",
       " 234: 0,\n",
       " 235: 0,\n",
       " 236: 0,\n",
       " 237: 0,\n",
       " 238: 0,\n",
       " 239: 0,\n",
       " 240: 0,\n",
       " 241: 0,\n",
       " 242: 0,\n",
       " 243: 0,\n",
       " 244: 0,\n",
       " 245: 0,\n",
       " 246: 0,\n",
       " 247: 0,\n",
       " 248: 0,\n",
       " 249: 0,\n",
       " 250: 0,\n",
       " 251: 0,\n",
       " 252: 0,\n",
       " 253: 0,\n",
       " 254: 0,\n",
       " 255: 0,\n",
       " 256: 0,\n",
       " 257: 0,\n",
       " 258: 0,\n",
       " 259: 0,\n",
       " 260: 0,\n",
       " 261: 0,\n",
       " 262: 0,\n",
       " 263: 0,\n",
       " 264: 0,\n",
       " 265: 0,\n",
       " 266: 0,\n",
       " 267: 0,\n",
       " 268: 0,\n",
       " 269: 0,\n",
       " 270: 0,\n",
       " 271: 0,\n",
       " 272: 0,\n",
       " 273: 0,\n",
       " 274: 0,\n",
       " 275: 0,\n",
       " 276: 0,\n",
       " 277: 0,\n",
       " 278: 0,\n",
       " 279: 0,\n",
       " 280: 0,\n",
       " 281: 0,\n",
       " 282: 0,\n",
       " 283: 0,\n",
       " 284: 0,\n",
       " 285: 0,\n",
       " 286: 0,\n",
       " 287: 0,\n",
       " 288: 0,\n",
       " 289: 0,\n",
       " 290: 0,\n",
       " 291: 0,\n",
       " 292: 0,\n",
       " 293: 0,\n",
       " 294: 0,\n",
       " 295: 0,\n",
       " 296: 0,\n",
       " 297: 0,\n",
       " 298: 0,\n",
       " 299: 0,\n",
       " 300: 0,\n",
       " 301: 0,\n",
       " 302: 0,\n",
       " 303: 0,\n",
       " 304: 0,\n",
       " 305: 0,\n",
       " 306: 0,\n",
       " 307: 0,\n",
       " 308: 0,\n",
       " 309: 0,\n",
       " 310: 0,\n",
       " 311: 0,\n",
       " 312: 0,\n",
       " 313: 0,\n",
       " 314: 0,\n",
       " 315: 0,\n",
       " 316: 0,\n",
       " 317: 0,\n",
       " 318: 0,\n",
       " 319: 0,\n",
       " 320: 0,\n",
       " 321: 0,\n",
       " 322: 0,\n",
       " 323: 0,\n",
       " 324: 0,\n",
       " 325: 0,\n",
       " 326: 0,\n",
       " 327: 0,\n",
       " 328: 0,\n",
       " 329: 0,\n",
       " 330: 0,\n",
       " 331: 0,\n",
       " 332: 0,\n",
       " 333: 0,\n",
       " 334: 0,\n",
       " 335: 0,\n",
       " 336: 0,\n",
       " 337: 0,\n",
       " 338: 0,\n",
       " 339: 0,\n",
       " 340: 0,\n",
       " 341: 0,\n",
       " 342: 0,\n",
       " 343: 0,\n",
       " 344: 0,\n",
       " 345: 0,\n",
       " 346: 0,\n",
       " 347: 0,\n",
       " 348: 1,\n",
       " 414: 1,\n",
       " 428: 1,\n",
       " 1684: 5,\n",
       " 1912: 4,\n",
       " 2814: 2,\n",
       " 2838: 2,\n",
       " 2885: 2,\n",
       " 3003: 2,\n",
       " 3173: 5,\n",
       " 3290: 2,\n",
       " 353: 1,\n",
       " 363: 1,\n",
       " 366: 1,\n",
       " 376: 1,\n",
       " 389: 6,\n",
       " 420: 1,\n",
       " 475: 1,\n",
       " 483: 1,\n",
       " 484: 1,\n",
       " 517: 1,\n",
       " 526: 1,\n",
       " 538: 1,\n",
       " 563: 1,\n",
       " 566: 1,\n",
       " 580: 1,\n",
       " 596: 1,\n",
       " 601: 1,\n",
       " 606: 1,\n",
       " 629: 1,\n",
       " 637: 1,\n",
       " 641: 1,\n",
       " 649: 1,\n",
       " 651: 1,\n",
       " 896: 6,\n",
       " 897: 3,\n",
       " 898: 6,\n",
       " 899: 3,\n",
       " 900: 2,\n",
       " 901: 2,\n",
       " 902: 6,\n",
       " 903: 2,\n",
       " 904: 3,\n",
       " 905: 1,\n",
       " 906: 3,\n",
       " 907: 3,\n",
       " 908: 2,\n",
       " 909: 2,\n",
       " 910: 1,\n",
       " 911: 3,\n",
       " 912: 1,\n",
       " 913: 6,\n",
       " 914: 6,\n",
       " 915: 1,\n",
       " 916: 3,\n",
       " 917: 6,\n",
       " 918: 3,\n",
       " 919: 6,\n",
       " 920: 3,\n",
       " 921: 3,\n",
       " 922: 3,\n",
       " 923: 2,\n",
       " 924: 6,\n",
       " 925: 3,\n",
       " 926: 3,\n",
       " 927: 3,\n",
       " 928: 2,\n",
       " 929: 2,\n",
       " 930: 1,\n",
       " 931: 1,\n",
       " 932: 3,\n",
       " 933: 6,\n",
       " 934: 3,\n",
       " 935: 6,\n",
       " 936: 1,\n",
       " 937: 6,\n",
       " 938: 2,\n",
       " 939: 1,\n",
       " 940: 6,\n",
       " 941: 6,\n",
       " 942: 6,\n",
       " 943: 6,\n",
       " 944: 6,\n",
       " 945: 6,\n",
       " 946: 3,\n",
       " 947: 3,\n",
       " 948: 1,\n",
       " 949: 6,\n",
       " 950: 2,\n",
       " 951: 2,\n",
       " 952: 3,\n",
       " 953: 3,\n",
       " 954: 6,\n",
       " 955: 2,\n",
       " 956: 2,\n",
       " 957: 6,\n",
       " 958: 2,\n",
       " 959: 3,\n",
       " 960: 3,\n",
       " 961: 3,\n",
       " 962: 1,\n",
       " 963: 2,\n",
       " 964: 6,\n",
       " 965: 6,\n",
       " 966: 3,\n",
       " 967: 3,\n",
       " 968: 6,\n",
       " 969: 6,\n",
       " 970: 2,\n",
       " 971: 6,\n",
       " 972: 3,\n",
       " 973: 3,\n",
       " 974: 6,\n",
       " 975: 6,\n",
       " 976: 1,\n",
       " 977: 6,\n",
       " 978: 3,\n",
       " 979: 2,\n",
       " 980: 3,\n",
       " 981: 6,\n",
       " 982: 3,\n",
       " 983: 3,\n",
       " 984: 6,\n",
       " 985: 6,\n",
       " 986: 6,\n",
       " 987: 2,\n",
       " 988: 6,\n",
       " 989: 6,\n",
       " 990: 2,\n",
       " 991: 3,\n",
       " 992: 2,\n",
       " 993: 3,\n",
       " 994: 6,\n",
       " 995: 3,\n",
       " 996: 2,\n",
       " 997: 3,\n",
       " 998: 3,\n",
       " 999: 3,\n",
       " 1000: 6,\n",
       " 1001: 1,\n",
       " 1002: 3,\n",
       " 1003: 3,\n",
       " 1004: 3,\n",
       " 1005: 6,\n",
       " 1006: 3,\n",
       " 1007: 6,\n",
       " 1008: 2,\n",
       " 1009: 6,\n",
       " 1010: 6,\n",
       " 1011: 6,\n",
       " 1012: 1,\n",
       " 1013: 6,\n",
       " 1014: 6,\n",
       " 1015: 6,\n",
       " 1016: 2,\n",
       " 1017: 3,\n",
       " 1018: 6,\n",
       " 1019: 6,\n",
       " 1020: 6,\n",
       " 1021: 6,\n",
       " 1022: 3,\n",
       " 1023: 2,\n",
       " 1024: 3,\n",
       " 1025: 1,\n",
       " 1026: 3,\n",
       " 1027: 3,\n",
       " 1028: 3,\n",
       " 1029: 3,\n",
       " 1030: 2,\n",
       " 1031: 2,\n",
       " 1032: 6,\n",
       " 1033: 2,\n",
       " 1034: 3,\n",
       " 1035: 6,\n",
       " 1036: 6,\n",
       " 1037: 6,\n",
       " 1038: 3,\n",
       " 1039: 3,\n",
       " 1040: 3,\n",
       " 1041: 6,\n",
       " 1042: 6,\n",
       " 1043: 2,\n",
       " 1044: 6,\n",
       " 1045: 2,\n",
       " 1046: 3,\n",
       " 1047: 3,\n",
       " 1048: 3,\n",
       " 1049: 3,\n",
       " 1050: 3,\n",
       " 1051: 6,\n",
       " 1052: 6,\n",
       " 1053: 2,\n",
       " 1054: 3,\n",
       " 1055: 3,\n",
       " 1056: 3,\n",
       " 1057: 2,\n",
       " 1058: 2,\n",
       " 1059: 3,\n",
       " 1060: 6,\n",
       " 1061: 2,\n",
       " 1062: 6,\n",
       " 1063: 3,\n",
       " 1064: 1,\n",
       " 1065: 6,\n",
       " 1066: 6,\n",
       " 1067: 6,\n",
       " 1068: 3,\n",
       " 1069: 3,\n",
       " 1070: 6,\n",
       " 1071: 3,\n",
       " 1072: 6,\n",
       " 1073: 2,\n",
       " 1074: 3,\n",
       " 1075: 3,\n",
       " 1076: 3,\n",
       " 1077: 2,\n",
       " 1078: 3,\n",
       " 1079: 3,\n",
       " 1080: 1,\n",
       " 1081: 6,\n",
       " 1082: 6,\n",
       " 1083: 3,\n",
       " 1084: 3,\n",
       " 1085: 7,\n",
       " 1086: 3,\n",
       " 1087: 2,\n",
       " 1088: 2,\n",
       " 1089: 6,\n",
       " 1090: 6,\n",
       " 1091: 3,\n",
       " 1092: 3,\n",
       " 1093: 6,\n",
       " 1094: 1,\n",
       " 1095: 1,\n",
       " 1096: 3,\n",
       " 1097: 2,\n",
       " 1098: 2,\n",
       " 1099: 6,\n",
       " 1100: 6,\n",
       " 1101: 3,\n",
       " 1102: 6,\n",
       " 1103: 6,\n",
       " 1104: 6,\n",
       " 1105: 3,\n",
       " 1106: 6,\n",
       " 1107: 3,\n",
       " 1108: 6,\n",
       " 1109: 6,\n",
       " 1110: 3,\n",
       " 1111: 2,\n",
       " 1112: 3,\n",
       " 1113: 1,\n",
       " 1114: 1,\n",
       " 1115: 6,\n",
       " 1116: 3,\n",
       " 1117: 3,\n",
       " 1118: 2,\n",
       " 1119: 3,\n",
       " 1120: 6,\n",
       " 1121: 6,\n",
       " 1122: 1,\n",
       " 1123: 3,\n",
       " 1124: 3,\n",
       " 1125: 3,\n",
       " 1126: 3,\n",
       " 1127: 6,\n",
       " 1128: 3,\n",
       " 1129: 6,\n",
       " 1130: 3,\n",
       " 1131: 6,\n",
       " 1132: 3,\n",
       " 1133: 3,\n",
       " 1134: 6,\n",
       " 1135: 3,\n",
       " 1136: 2,\n",
       " 1137: 2,\n",
       " 1138: 2,\n",
       " 1139: 6,\n",
       " 1140: 2,\n",
       " 1141: 6,\n",
       " 1142: 1,\n",
       " 1143: 6,\n",
       " 1144: 2,\n",
       " 1145: 3,\n",
       " 1146: 3,\n",
       " 1147: 6,\n",
       " 1148: 6,\n",
       " 1149: 3,\n",
       " 1150: 3,\n",
       " 1151: 3,\n",
       " 1152: 6,\n",
       " 1153: 3,\n",
       " 1154: 1,\n",
       " 1155: 1,\n",
       " 1156: 3,\n",
       " 1157: 3,\n",
       " 1158: 6,\n",
       " 1159: 6,\n",
       " 1160: 3,\n",
       " 1161: 3,\n",
       " 1162: 1,\n",
       " 1163: 3,\n",
       " 1164: 3,\n",
       " 1165: 2,\n",
       " 1166: 6,\n",
       " 1167: 6,\n",
       " 1168: 6,\n",
       " 1169: 6,\n",
       " 1170: 6,\n",
       " 1171: 2,\n",
       " 1172: 3,\n",
       " 1173: 3,\n",
       " 1174: 2,\n",
       " 1175: 3,\n",
       " 1176: 6,\n",
       " 1177: 2,\n",
       " 1178: 2,\n",
       " 1179: 1,\n",
       " 1180: 3,\n",
       " 1181: 3,\n",
       " 1182: 3,\n",
       " 1183: 6,\n",
       " 1184: 3,\n",
       " 1185: 3,\n",
       " 1186: 2,\n",
       " 1187: 2,\n",
       " 1188: 6,\n",
       " 1189: 6,\n",
       " 1190: 6,\n",
       " 1191: 3,\n",
       " 1192: 6,\n",
       " 1193: 2,\n",
       " 1194: 3,\n",
       " 1195: 3,\n",
       " 1196: 3,\n",
       " 1197: 2,\n",
       " 1198: 3,\n",
       " 1199: 3,\n",
       " 1200: 3,\n",
       " 1201: 3,\n",
       " 1202: 3,\n",
       " 1203: 2,\n",
       " 1204: 6,\n",
       " 1205: 3,\n",
       " 1206: 3,\n",
       " 1207: 3,\n",
       " 1208: 3,\n",
       " 1209: 3,\n",
       " 1210: 1,\n",
       " 1211: 3,\n",
       " 1212: 1,\n",
       " 1213: 6,\n",
       " 1214: 3,\n",
       " 1215: 6,\n",
       " 1216: 2,\n",
       " 1217: 6,\n",
       " 1218: 2,\n",
       " 1219: 3,\n",
       " 1220: 3,\n",
       " 1221: 6,\n",
       " 1222: 3,\n",
       " 1223: 1,\n",
       " 1224: 3,\n",
       " 1225: 6,\n",
       " 1226: 6,\n",
       " 1227: 6,\n",
       " 1228: 6,\n",
       " 1229: 6,\n",
       " 1230: 3,\n",
       " 1231: 6,\n",
       " 1232: 2,\n",
       " 1233: 1,\n",
       " 1234: 1,\n",
       " 1235: 6,\n",
       " 1236: 6,\n",
       " 1237: 1,\n",
       " 1238: 3,\n",
       " 1239: 3,\n",
       " 1240: 2,\n",
       " 1241: 6,\n",
       " 1242: 3,\n",
       " 1243: 3,\n",
       " 1244: 6,\n",
       " 1245: 6,\n",
       " 1246: 6,\n",
       " 1247: 6,\n",
       " 1248: 6,\n",
       " 1249: 6,\n",
       " 1250: 3,\n",
       " 1251: 2,\n",
       " 1252: 2,\n",
       " 1253: 3,\n",
       " 1254: 2,\n",
       " 1255: 3,\n",
       " 1256: 3,\n",
       " 1257: 6,\n",
       " 1258: 6,\n",
       " 1259: 6,\n",
       " 1260: 6,\n",
       " 1261: 6,\n",
       " 1262: 3,\n",
       " 1263: 1,\n",
       " 1264: 6,\n",
       " 1265: 3,\n",
       " 1266: 3,\n",
       " 1267: 3,\n",
       " 1268: 6,\n",
       " 1269: 3,\n",
       " 1270: 3,\n",
       " 1271: 3,\n",
       " 1272: 3,\n",
       " 1273: 6,\n",
       " 1274: 2,\n",
       " 1275: 6,\n",
       " 1276: 3,\n",
       " 1277: 6,\n",
       " 1278: 3,\n",
       " 1279: 6,\n",
       " 1280: 3,\n",
       " 1281: 6,\n",
       " 1282: 6,\n",
       " 1283: 3,\n",
       " 1284: 6,\n",
       " 1285: 3,\n",
       " 1286: 6,\n",
       " 1287: 3,\n",
       " 1288: 3,\n",
       " 1289: 3,\n",
       " 1290: 3,\n",
       " 1291: 3,\n",
       " 1292: 6,\n",
       " 1293: 3,\n",
       " 1294: 1,\n",
       " 1295: 1,\n",
       " 1296: 6,\n",
       " 1297: 2,\n",
       " 1298: 6,\n",
       " 1299: 6,\n",
       " 1300: 1,\n",
       " 1301: 3,\n",
       " 1302: 3,\n",
       " 1303: 6,\n",
       " 1304: 6,\n",
       " 1305: 3,\n",
       " 1306: 6,\n",
       " 1307: 2,\n",
       " 1308: 6,\n",
       " 1309: 6,\n",
       " 1310: 6,\n",
       " 1311: 6,\n",
       " 1312: 3,\n",
       " 1313: 1,\n",
       " 1314: 2,\n",
       " 1315: 6,\n",
       " 1316: 6,\n",
       " 1317: 2,\n",
       " 1318: 1,\n",
       " 1319: 2,\n",
       " 1320: 1,\n",
       " 1321: 3,\n",
       " 1322: 6,\n",
       " 1323: 3,\n",
       " 1324: 6,\n",
       " 1325: 2,\n",
       " 1326: 3,\n",
       " 1327: 3,\n",
       " 1328: 2,\n",
       " 1329: 3,\n",
       " 1330: 3,\n",
       " 1331: 3,\n",
       " 1332: 1,\n",
       " 1333: 2,\n",
       " 1334: 3,\n",
       " 1335: 3,\n",
       " 1336: 3,\n",
       " 1337: 3,\n",
       " 1338: 6,\n",
       " 1339: 3,\n",
       " 1340: 3,\n",
       " 1341: 3,\n",
       " 1342: 1,\n",
       " 1343: 6,\n",
       " 1344: 3,\n",
       " 1345: 6,\n",
       " 1346: 3,\n",
       " 1347: 6,\n",
       " 1348: 6,\n",
       " 1349: 1,\n",
       " 1350: 6,\n",
       " 1351: 3,\n",
       " 1352: 3,\n",
       " 1353: 2,\n",
       " 1354: 6,\n",
       " 1355: 6,\n",
       " 1356: 1,\n",
       " 1357: 1,\n",
       " 1358: 1,\n",
       " 1359: 3,\n",
       " 1360: 2,\n",
       " 1361: 3,\n",
       " 1362: 6,\n",
       " 1363: 2,\n",
       " 1364: 6,\n",
       " 1365: 3,\n",
       " 1366: 6,\n",
       " 1367: 3,\n",
       " 1368: 2,\n",
       " 1369: 3,\n",
       " 1370: 3,\n",
       " 1371: 2,\n",
       " 1372: 1,\n",
       " 1373: 6,\n",
       " 1374: 1,\n",
       " 1375: 3,\n",
       " 1376: 3,\n",
       " 1377: 3,\n",
       " 1378: 2,\n",
       " 1379: 6,\n",
       " 1380: 3,\n",
       " 1381: 6,\n",
       " 1382: 6,\n",
       " 1383: 3,\n",
       " 1384: 2,\n",
       " 1385: 6,\n",
       " 1386: 3,\n",
       " 1387: 2,\n",
       " 1388: 3,\n",
       " 1389: 3,\n",
       " 1390: 3,\n",
       " 1391: 3,\n",
       " 1392: 6,\n",
       " 1393: 3,\n",
       " 1394: 2,\n",
       " 1395: 3,\n",
       " 1396: 6,\n",
       " 1397: 1,\n",
       " 1398: 3,\n",
       " 1399: 3,\n",
       " 1400: 1,\n",
       " 1401: 3,\n",
       " 1402: 3,\n",
       " 1403: 2,\n",
       " 1404: 6,\n",
       " 1405: 3,\n",
       " 1406: 6,\n",
       " 1407: 3,\n",
       " 1408: 1,\n",
       " 1409: 3,\n",
       " 1410: 2,\n",
       " 1411: 3,\n",
       " 1412: 6,\n",
       " 1413: 6,\n",
       " 1414: 6,\n",
       " 1415: 6,\n",
       " 1416: 3,\n",
       " 1417: 6,\n",
       " 1418: 6,\n",
       " 1419: 3,\n",
       " 1420: 3,\n",
       " 1421: 2,\n",
       " 1422: 1,\n",
       " 1423: 6,\n",
       " 1424: 2,\n",
       " 1425: 1,\n",
       " 1426: 6,\n",
       " 1427: 1,\n",
       " 1428: 6,\n",
       " 1429: 6,\n",
       " 1430: 1,\n",
       " 1431: 3,\n",
       " 1432: 6,\n",
       " 1433: 2,\n",
       " 1434: 3,\n",
       " 1435: 6,\n",
       " 1436: 6,\n",
       " 1437: 3,\n",
       " 1438: 6,\n",
       " 1439: 3,\n",
       " 1440: 3,\n",
       " 1441: 3,\n",
       " 1442: 3,\n",
       " 1443: 1,\n",
       " 1444: 6,\n",
       " 1445: 2,\n",
       " 1446: 1,\n",
       " 1447: 3,\n",
       " 1448: 6,\n",
       " 1449: 3,\n",
       " 1450: 2,\n",
       " 1451: 6,\n",
       " 1452: 2,\n",
       " 1453: 1,\n",
       " 1454: 6,\n",
       " 1455: 1,\n",
       " 1456: 3,\n",
       " 1457: 3,\n",
       " 1458: 3,\n",
       " 1459: 6,\n",
       " 1460: 3,\n",
       " 1461: 2,\n",
       " 1462: 6,\n",
       " 1463: 3,\n",
       " 1464: 1,\n",
       " 1465: 4,\n",
       " 1466: 3,\n",
       " 1467: 3,\n",
       " 1468: 2,\n",
       " 1469: 6,\n",
       " 1470: 3,\n",
       " 1471: 3,\n",
       " 1472: 6,\n",
       " 1473: 6,\n",
       " 1474: 6,\n",
       " 1475: 6,\n",
       " 1476: 3,\n",
       " 1477: 2,\n",
       " 1478: 1,\n",
       " 1479: 6,\n",
       " 1480: 3,\n",
       " 1481: 6,\n",
       " 1482: 6,\n",
       " 1483: 3,\n",
       " 1484: 3,\n",
       " 1485: 3,\n",
       " 1486: 2,\n",
       " 1487: 1,\n",
       " 1488: 3,\n",
       " 1489: 6,\n",
       " 1490: 1,\n",
       " 1491: 3,\n",
       " 1492: 6,\n",
       " 1493: 2,\n",
       " 1494: 2,\n",
       " 1495: 6,\n",
       " 1496: 6,\n",
       " 1497: 1,\n",
       " 1498: 3,\n",
       " 1499: 2,\n",
       " 1500: 6,\n",
       " 1501: 3,\n",
       " 1502: 6,\n",
       " 1503: 6,\n",
       " 1504: 6,\n",
       " 1505: 2,\n",
       " 1506: 1,\n",
       " 1507: 6,\n",
       " 1508: 6,\n",
       " 1509: 3,\n",
       " 1510: 6,\n",
       " 1511: 2,\n",
       " 1512: 1,\n",
       " 1513: 3,\n",
       " ...}"
      ]
     },
     "execution_count": 68,
     "metadata": {},
     "output_type": "execute_result"
    }
   ],
   "source": [
    "mod_communities"
   ]
  },
  {
   "cell_type": "markdown",
   "metadata": {},
   "source": [
    "Let's extract the values (i.e., communities) from this `dictionary` and use a list and a set to find all of the unique values. This will give us a list of all of the communities that the algorithm detected. \n",
    "\n",
    "We see that it found a total of 16 communities, which it numbered from 0 to 15. "
   ]
  },
  {
   "cell_type": "code",
   "execution_count": 69,
   "metadata": {
    "collapsed": false
   },
   "outputs": [
    {
     "data": {
      "text/plain": [
       "[0, 1, 2, 3, 4, 5, 6, 7, 8, 9, 10, 11, 12, 13, 14, 15]"
      ]
     },
     "execution_count": 69,
     "metadata": {},
     "output_type": "execute_result"
    }
   ],
   "source": [
    "list(set(list(mod_communities.values())))"
   ]
  },
  {
   "cell_type": "markdown",
   "metadata": {},
   "source": [
    "Now, let's create a list for each node, indicating which \"community\" it happens to be in. Let's save this as `mod_values`. For every node in `G_fb`--designated by `G_fb.nodes()`--loop through each one and return its corresponding community allocation. \n",
    "\n",
    "Since `mod_communities` is a `dictionary`, we can use `mod_communities.get()` to return the community id (e.g., 0 through 15). We just have to pass in the node (as the key) to get the community ID (which returns the key's value). "
   ]
  },
  {
   "cell_type": "code",
   "execution_count": 70,
   "metadata": {
    "collapsed": true
   },
   "outputs": [],
   "source": [
    "mod_values = [mod_communities.get(node) for node in G_fb.nodes()]"
   ]
  },
  {
   "cell_type": "markdown",
   "metadata": {},
   "source": [
    "Now, let's draw the exact same network again, but let's color in the nodes based on which community they belong to using the list `values` that we just defined. \n",
    "\n",
    "We'll attach a lovely set of functions written by a [fellow on Stack Overflow](https://stackoverflow.com/questions/17511949/group-vertices-in-clusters-using-networkx?utm_medium=organic&utm_source=google_rich_qa&utm_campaign=google_rich_qa) that create a layout for your network according to a dictionary of nodes and communities. \n",
    "\n",
    "It's long...really long...so keep scrolling."
   ]
  },
  {
   "cell_type": "code",
   "execution_count": 71,
   "metadata": {
    "collapsed": true
   },
   "outputs": [],
   "source": [
    "import numpy as np\n",
    "import matplotlib.pyplot as plt"
   ]
  },
  {
   "cell_type": "code",
   "execution_count": 72,
   "metadata": {
    "collapsed": true
   },
   "outputs": [],
   "source": [
    "def community_layout(g, partition):\n",
    "    \"\"\"\n",
    "    Compute the layout for a modular graph.\n",
    "\n",
    "\n",
    "    Arguments:\n",
    "    ----------\n",
    "    g -- networkx.Graph or networkx.DiGraph instance\n",
    "        graph to plot\n",
    "\n",
    "    partition -- dict mapping int node -> int community\n",
    "        graph partitions\n",
    "\n",
    "\n",
    "    Returns:\n",
    "    --------\n",
    "    pos -- dict mapping int node -> (float x, float y)\n",
    "        node positions\n",
    "\n",
    "    \"\"\"\n",
    "\n",
    "    pos_communities = _position_communities(g, partition, scale=3.)\n",
    "\n",
    "    pos_nodes = _position_nodes(g, partition, scale=1.)\n",
    "\n",
    "    # combine positions\n",
    "    pos = dict()\n",
    "    for node in g.nodes():\n",
    "        pos[node] = pos_communities[node] + pos_nodes[node]\n",
    "\n",
    "    return pos"
   ]
  },
  {
   "cell_type": "code",
   "execution_count": 73,
   "metadata": {
    "collapsed": true
   },
   "outputs": [],
   "source": [
    "def _position_communities(g, partition, **kwargs):\n",
    "\n",
    "    # create a weighted graph, in which each node corresponds to a community,\n",
    "    # and each edge weight to the number of edges between communities\n",
    "    between_community_edges = _find_between_community_edges(g, partition)\n",
    "\n",
    "    communities = set(partition.values())\n",
    "    hypergraph = nx.DiGraph()\n",
    "    hypergraph.add_nodes_from(communities)\n",
    "    for (ci, cj), edges in between_community_edges.items():\n",
    "        hypergraph.add_edge(ci, cj, weight=len(edges))\n",
    "\n",
    "    # find layout for communities\n",
    "    pos_communities = nx.spring_layout(hypergraph, **kwargs)\n",
    "\n",
    "    # set node positions to position of community\n",
    "    pos = dict()\n",
    "    for node, community in partition.items():\n",
    "        pos[node] = pos_communities[community]\n",
    "\n",
    "    return pos"
   ]
  },
  {
   "cell_type": "code",
   "execution_count": 74,
   "metadata": {
    "collapsed": true
   },
   "outputs": [],
   "source": [
    "def _find_between_community_edges(g, partition):\n",
    "\n",
    "    edges = dict()\n",
    "\n",
    "    for (ni, nj) in g.edges():\n",
    "        ci = partition[ni]\n",
    "        cj = partition[nj]\n",
    "\n",
    "        if ci != cj:\n",
    "            try:\n",
    "                edges[(ci, cj)] += [(ni, nj)]\n",
    "            except KeyError:\n",
    "                edges[(ci, cj)] = [(ni, nj)]\n",
    "\n",
    "    return edges"
   ]
  },
  {
   "cell_type": "code",
   "execution_count": 75,
   "metadata": {
    "collapsed": true
   },
   "outputs": [],
   "source": [
    "def _position_nodes(g, partition, **kwargs):\n",
    "    \"\"\"\n",
    "    Positions nodes within communities.\n",
    "    \"\"\"\n",
    "\n",
    "    communities = dict()\n",
    "    for node, community in partition.items():\n",
    "        try:\n",
    "            communities[community] += [node]\n",
    "        except KeyError:\n",
    "            communities[community] = [node]\n",
    "\n",
    "    pos = dict()\n",
    "    for ci, nodes in communities.items():\n",
    "        subgraph = g.subgraph(nodes)\n",
    "        pos_subgraph = nx.spring_layout(subgraph, **kwargs)\n",
    "        pos.update(pos_subgraph)\n",
    "\n",
    "    return pos"
   ]
  },
  {
   "cell_type": "markdown",
   "metadata": {},
   "source": [
    "Take a look and see how well the modularity maximization method did at finding these hidden groups.\n",
    "\n",
    "We're going to take our function `community_layout()`, passing in our network `G_fb` and the communities we detected `mod_communities`, and then plot we'll color in (and position) the nodes from the graph based on what community it belongs to. \n",
    "\n",
    "You'll see a nice seperation! \n",
    "\n",
    "**Note: This will take a few minutes to run!**"
   ]
  },
  {
   "cell_type": "code",
   "execution_count": 76,
   "metadata": {
    "collapsed": false
   },
   "outputs": [
    {
     "data": {
      "image/png": "[encoded data removed]",
      "text/plain": [
       "<Figure size 432x288 with 1 Axes>"
      ]
     },
     "metadata": {},
     "output_type": "display_data"
    }
   ],
   "source": [
    "plt.axis(\"off\")\n",
    "nx.draw_networkx(G_fb, \n",
    "                 pos = community_layout(G_fb, mod_communities), #This is our function community_layout()\n",
    "                 cmap = plt.get_cmap(\"jet\"), \n",
    "                 node_color = mod_values, # Let's color the node based on which community it happens to be in. \n",
    "                 node_size = 35, \n",
    "                 with_labels = False)"
   ]
  },
  {
   "cell_type": "markdown",
   "metadata": {},
   "source": [
    "***\n",
    "***\n",
    "\n",
    "# Checkpoint 7 of 8\n",
    "## Now you try!\n",
    "\n",
    "### You the Star Wars graph from earlier `SW_G` and let's see what communities we can uncover. \n",
    "\n",
    "### Use the function provided here `community_layout()` and pass in the Stars Wars graph and the partitions from `community.best_partition()` to plot the Star Wars graph based on each node's community assignment. "
   ]
  },
  {
   "cell_type": "code",
   "execution_count": null,
   "metadata": {
    "collapsed": true
   },
   "outputs": [],
   "source": [
    "SW_G"
   ]
  },
  {
   "cell_type": "code",
   "execution_count": 77,
   "metadata": {
    "collapsed": false
   },
   "outputs": [
    {
     "data": {
      "image/png": "[encoded data removed]",
      "text/plain": [
       "<Figure size 432x288 with 1 Axes>"
      ]
     },
     "metadata": {},
     "output_type": "display_data"
    }
   ],
   "source": [
    "spring_pos = nx.spring_layout(SW_G)\n",
    "plt.axis(\"off\")\n",
    "nx.draw_networkx(SW_G, \n",
    "                 pos = spring_pos, \n",
    "                 with_labels = False, \n",
    "                 node_size = 35)"
   ]
  },
  {
   "cell_type": "code",
   "execution_count": 78,
   "metadata": {
    "collapsed": true
   },
   "outputs": [],
   "source": [
    "mod_communities = community.best_partition(SW_G)"
   ]
  },
  {
   "cell_type": "code",
   "execution_count": 79,
   "metadata": {
    "collapsed": false
   },
   "outputs": [
    {
     "data": {
      "text/plain": [
       "{'C-3PO': 0,\n",
       " 'R2-D2': 0,\n",
       " 'LUKE': 1,\n",
       " 'OBI-WAN': 1,\n",
       " 'LEIA': 1,\n",
       " 'HAN': 1,\n",
       " 'CHEWBACCA': 1,\n",
       " 'DODONNA': 2,\n",
       " 'DARTH VADER': 3,\n",
       " 'CAMIE': 2,\n",
       " 'BIGGS': 2,\n",
       " 'BERU': 0,\n",
       " 'OWEN': 0,\n",
       " 'MOTTI': 3,\n",
       " 'TARKIN': 3,\n",
       " 'GREEDO': 1,\n",
       " 'JABBA': 1,\n",
       " 'GOLD LEADER': 2,\n",
       " 'WEDGE': 2,\n",
       " 'RED LEADER': 2,\n",
       " 'RED TEN': 2}"
      ]
     },
     "execution_count": 79,
     "metadata": {},
     "output_type": "execute_result"
    }
   ],
   "source": [
    "mod_communities"
   ]
  },
  {
   "cell_type": "code",
   "execution_count": 80,
   "metadata": {
    "collapsed": false
   },
   "outputs": [
    {
     "data": {
      "text/plain": [
       "[0, 1, 2, 3]"
      ]
     },
     "execution_count": 80,
     "metadata": {},
     "output_type": "execute_result"
    }
   ],
   "source": [
    "list(set(list(mod_communities.values())))"
   ]
  },
  {
   "cell_type": "code",
   "execution_count": 81,
   "metadata": {
    "collapsed": true
   },
   "outputs": [],
   "source": [
    "mod_values = [mod_communities.get(node) for node in SW_G.nodes()]"
   ]
  },
  {
   "cell_type": "code",
   "execution_count": 82,
   "metadata": {
    "collapsed": true
   },
   "outputs": [],
   "source": [
    "def community_layout(g, partition):\n",
    "    pos_communities = _position_communities(g, partition, scale=3.)\n",
    "\n",
    "    pos_nodes = _position_nodes(g, partition, scale=1.)\n",
    "\n",
    "    # combine positions\n",
    "    pos = dict()\n",
    "    for node in g.nodes():\n",
    "        pos[node] = pos_communities[node] + pos_nodes[node]\n",
    "\n",
    "    return pos"
   ]
  },
  {
   "cell_type": "code",
   "execution_count": 83,
   "metadata": {
    "collapsed": true
   },
   "outputs": [],
   "source": [
    "def _position_communities(g, partition, **kwargs):\n",
    "\n",
    "    # create a weighted graph, in which each node corresponds to a community,\n",
    "    # and each edge weight to the number of edges between communities\n",
    "    between_community_edges = _find_between_community_edges(g, partition)\n",
    "\n",
    "    communities = set(partition.values())\n",
    "    hypergraph = nx.DiGraph()\n",
    "    hypergraph.add_nodes_from(communities)\n",
    "    for (ci, cj), edges in between_community_edges.items():\n",
    "        hypergraph.add_edge(ci, cj, weight=len(edges))\n",
    "\n",
    "    # find layout for communities\n",
    "    pos_communities = nx.spring_layout(hypergraph, **kwargs)\n",
    "\n",
    "    # set node positions to position of community\n",
    "    pos = dict()\n",
    "    for node, community in partition.items():\n",
    "        pos[node] = pos_communities[community]\n",
    "\n",
    "    return pos"
   ]
  },
  {
   "cell_type": "code",
   "execution_count": 84,
   "metadata": {
    "collapsed": true
   },
   "outputs": [],
   "source": [
    "def _find_between_community_edges(g, partition):\n",
    "\n",
    "    edges = dict()\n",
    "\n",
    "    for (ni, nj) in g.edges():\n",
    "        ci = partition[ni]\n",
    "        cj = partition[nj]\n",
    "\n",
    "        if ci != cj:\n",
    "            try:\n",
    "                edges[(ci, cj)] += [(ni, nj)]\n",
    "            except KeyError:\n",
    "                edges[(ci, cj)] = [(ni, nj)]\n",
    "\n",
    "    return edges"
   ]
  },
  {
   "cell_type": "code",
   "execution_count": 85,
   "metadata": {
    "collapsed": true
   },
   "outputs": [],
   "source": [
    "def _position_nodes(g, partition, **kwargs):\n",
    "    \"\"\"\n",
    "    Positions nodes within communities.\n",
    "    \"\"\"\n",
    "\n",
    "    communities = dict()\n",
    "    for node, community in partition.items():\n",
    "        try:\n",
    "            communities[community] += [node]\n",
    "        except KeyError:\n",
    "            communities[community] = [node]\n",
    "\n",
    "    pos = dict()\n",
    "    for ci, nodes in communities.items():\n",
    "        subgraph = g.subgraph(nodes)\n",
    "        pos_subgraph = nx.spring_layout(subgraph, **kwargs)\n",
    "        pos.update(pos_subgraph)\n",
    "\n",
    "    return pos"
   ]
  },
  {
   "cell_type": "code",
   "execution_count": 88,
   "metadata": {
    "collapsed": false
   },
   "outputs": [
    {
     "data": {
      "image/png": "[encoded data removed]",
      "text/plain": [
       "<Figure size 432x288 with 1 Axes>"
      ]
     },
     "metadata": {},
     "output_type": "display_data"
    }
   ],
   "source": [
    "plt.axis(\"off\")\n",
    "nx.draw_networkx(SW_G, \n",
    "                 pos = community_layout(SW_G, mod_communities), #This is our function community_layout()\n",
    "                 cmap = plt.get_cmap(\"jet\"), \n",
    "                 node_color = mod_values, # Let's color the node based on which community it happens to be in. \n",
    "                 node_size = 35, \n",
    "                 with_labels = False)"
   ]
  },
  {
   "cell_type": "markdown",
   "metadata": {},
   "source": [
    "***\n",
    "***"
   ]
  },
  {
   "cell_type": "markdown",
   "metadata": {},
   "source": [
    "***\n",
    "***\n",
    "\n",
    "### Clique percolation\n",
    "Finally we'll try clique percolation, which as you might guess works by finding cliques in the network. In practice, it tries to connect k-cliques across the network to form communities. \n",
    "\n",
    "Say you have a clique with three members. Clique percolation looks for any other 3-cliques that it might be connected to, and any 3-cliques that those might be connected to, and so on. All those nodes taken together form communities.\n",
    "\n",
    "Clique percolation tends to be better at finding community structure than modularity maximization. If you are interested in the density of connections, clique percolation is probably best.\n",
    "\n",
    "Again, this comes implemented in the NetworkX package as `k_clique_communites`. First we'll try to use clique percolation with our Hartford network, but we'll run it for 2-cliques, 3-cliques, AND 4-cliques, separately to see what happens."
   ]
  },
  {
   "cell_type": "code",
   "execution_count": 89,
   "metadata": {
    "collapsed": true
   },
   "outputs": [],
   "source": [
    "# First let's get the community detection functions from community in networkx\n",
    "from networkx.algorithms import community as cm"
   ]
  },
  {
   "cell_type": "code",
   "execution_count": 90,
   "metadata": {
    "collapsed": false
   },
   "outputs": [],
   "source": [
    "cp_communities2 = cm.k_clique_communities(hartford_ud, 2) # 2-cliques\n",
    "cp_communities3 = cm.k_clique_communities(hartford_ud, 3) # 3-cliques\n",
    "cp_communities4 = cm.k_clique_communities(hartford_ud, 4) # 4-cliques"
   ]
  },
  {
   "cell_type": "markdown",
   "metadata": {},
   "source": [
    "The function spits out an iterator. We'll process them in the similar way. We'll have to add a statement to our loops just in case a node is not part of any of our k-cliques.\n",
    "\n",
    "Let's turn our code into a function, since we're running it over and over. "
   ]
  },
  {
   "cell_type": "code",
   "execution_count": 91,
   "metadata": {
    "collapsed": true
   },
   "outputs": [],
   "source": [
    "def get_membership(graph, community_obj, k):\n",
    "    member_list = list(community_obj)\n",
    "    member_dict = {}\n",
    "    print('There are', len(member_list), 'communities according to the clique percolation algorithm for', k, '-cliques \\n')\n",
    "    for node in graph.nodes():\n",
    "        for community in range(0, len(member_list)): # Check every community for the node\n",
    "            if node in member_list[community]:\n",
    "                member_dict[node] = community\n",
    "                break\n",
    "            elif community == (len(member_list)-1) and node not in member_list[community]:\n",
    "                member_dict[node] = 999   \n",
    "    return(member_dict)"
   ]
  },
  {
   "cell_type": "markdown",
   "metadata": {},
   "source": [
    "Run the function and get the membership dictionaries.\n",
    "\n",
    "The function should output the number of communities according to each approach. "
   ]
  },
  {
   "cell_type": "code",
   "execution_count": 92,
   "metadata": {
    "collapsed": false
   },
   "outputs": [
    {
     "name": "stdout",
     "output_type": "stream",
     "text": [
      "There are 9 communities according to the clique percolation algorithm for 2 -cliques \n",
      "\n",
      "There are 22 communities according to the clique percolation algorithm for 3 -cliques \n",
      "\n",
      "There are 1 communities according to the clique percolation algorithm for 4 -cliques \n",
      "\n"
     ]
    }
   ],
   "source": [
    "cp_membership2 = get_membership(hartford_ud, cp_communities2, 2)\n",
    "cp_membership3 = get_membership(hartford_ud, cp_communities3, 3)\n",
    "cp_membership4 = get_membership(hartford_ud, cp_communities4, 4)"
   ]
  },
  {
   "cell_type": "markdown",
   "metadata": {},
   "source": [
    "Let's start with the 2-Clique model. \n",
    "\n",
    "First, get the list of group memberships to color our graphs."
   ]
  },
  {
   "cell_type": "code",
   "execution_count": 93,
   "metadata": {
    "collapsed": true
   },
   "outputs": [],
   "source": [
    "cp_values2 = [value for value in cp_membership2.values()]"
   ]
  },
  {
   "cell_type": "markdown",
   "metadata": {},
   "source": [
    "Now we can plot it."
   ]
  },
  {
   "cell_type": "code",
   "execution_count": 94,
   "metadata": {
    "collapsed": false
   },
   "outputs": [
    {
     "data": {
      "image/png": "[encoded data removed]",
      "text/plain": [
       "<Figure size 432x288 with 1 Axes>"
      ]
     },
     "metadata": {},
     "output_type": "display_data"
    }
   ],
   "source": [
    "# 2-Cliques\n",
    "plt.axis(\"off\")\n",
    "nx.draw_networkx(hartford_ud,\n",
    "                 pos = community_layout(hartford_ud, cp_membership2),\n",
    "                 cmap = plt.get_cmap(\"jet\"), \n",
    "                 node_color = cp_values2, \n",
    "                 node_size = 35, \n",
    "                 with_labels = False)"
   ]
  },
  {
   "cell_type": "markdown",
   "metadata": {},
   "source": [
    "For 3 and 4 cliques (`cp_values3` and `cp_values4`), we need to do a few extra steps. \n",
    "\n",
    "Namely, we have to subset the graph to get rid of the unconnected nodes that we coded as 999. "
   ]
  },
  {
   "cell_type": "code",
   "execution_count": 95,
   "metadata": {
    "collapsed": true
   },
   "outputs": [],
   "source": [
    "# 3-Cliques\n",
    "# First we have to subset the graph to get rid of the unconnected nodes that we coded as 999\n",
    "node_subset3 = [k for k in cp_membership3.keys() if cp_membership3[k] != 999]\n",
    "cp_values3 = [cp_membership3[k] for k in cp_membership3.keys() if cp_membership3[k] != 999]"
   ]
  },
  {
   "cell_type": "code",
   "execution_count": 96,
   "metadata": {
    "collapsed": false
   },
   "outputs": [
    {
     "data": {
      "image/png": "[encoded data removed]",
      "text/plain": [
       "<Figure size 432x288 with 1 Axes>"
      ]
     },
     "metadata": {},
     "output_type": "display_data"
    }
   ],
   "source": [
    "plt.axis(\"off\")\n",
    "nx.draw_networkx(hartford_ud.subgraph(node_subset3),\n",
    "                 pos = community_layout(hartford_ud, cp_membership3),\n",
    "                 cmap = plt.get_cmap(\"jet\"), \n",
    "                 node_color = cp_values3, \n",
    "                 node_size = 35, \n",
    "                 with_labels = False)"
   ]
  },
  {
   "cell_type": "code",
   "execution_count": 97,
   "metadata": {
    "collapsed": true
   },
   "outputs": [],
   "source": [
    "# 4-Cliques\n",
    "# First we have to subset the graph to get rid of the unconnected nodes that we coded as 999\n",
    "node_subset4 = [k for k in cp_membership4.keys() if cp_membership4[k] != 999]\n",
    "cp_values4 = [cp_membership4[k] for k in cp_membership4.keys() if cp_membership4[k] != 999]"
   ]
  },
  {
   "cell_type": "code",
   "execution_count": 98,
   "metadata": {
    "collapsed": false
   },
   "outputs": [
    {
     "data": {
      "image/png": "[encoded data removed]",
      "text/plain": [
       "<Figure size 432x288 with 1 Axes>"
      ]
     },
     "metadata": {},
     "output_type": "display_data"
    }
   ],
   "source": [
    "plt.axis(\"off\")\n",
    "nx.draw_networkx(hartford_ud.subgraph(node_subset4),\n",
    "                 pos = community_layout(hartford_ud, cp_membership4),\n",
    "                 cmap = plt.get_cmap(\"jet\"), \n",
    "                 node_color = cp_values4, \n",
    "                 node_size = 35, \n",
    "                 with_labels = False)"
   ]
  },
  {
   "cell_type": "markdown",
   "metadata": {},
   "source": [
    "Clique percolation with 4-cliques is essentially useless for the Hartford network because there is only one 4-clique in the entire graph! \n",
    "\n",
    "That said, in other graphs 4-cliques might be the **most** useful choice. Using 3-cliques finds a whole lot of structure, but it is pretty chaotic.\n",
    "\n",
    "We can also compare this with the modularity maximization algorithm. Let's run that quickly on the Hartford data."
   ]
  },
  {
   "cell_type": "code",
   "execution_count": 99,
   "metadata": {
    "collapsed": true
   },
   "outputs": [],
   "source": [
    "mod_communities = community.best_partition(hartford_ud)\n",
    "mod_values = [mod_communities.get(node) for node in hartford_ud.nodes()]"
   ]
  },
  {
   "cell_type": "code",
   "execution_count": 100,
   "metadata": {
    "collapsed": false
   },
   "outputs": [
    {
     "data": {
      "image/png": "[encoded data removed]",
      "text/plain": [
       "<Figure size 432x288 with 1 Axes>"
      ]
     },
     "metadata": {},
     "output_type": "display_data"
    }
   ],
   "source": [
    "plt.axis(\"off\")\n",
    "nx.draw_networkx(hartford_ud,\n",
    "                 pos = community_layout(hartford_ud, mod_communities),\n",
    "                 cmap = plt.get_cmap(\"jet\"), \n",
    "                 node_color = mod_values, \n",
    "                 node_size = 35, \n",
    "                 with_labels = False)"
   ]
  },
  {
   "cell_type": "markdown",
   "metadata": {},
   "source": [
    "It is much more aggressive than our other algorithms in partioning this network.\n",
    "\n",
    "How you deploy community detection should depend on the nuances of your data. Don't choose an algorithm blindly.\n",
    "\n",
    "Quick (and overly simplified) summary: \n",
    "\n",
    "- **Modularity maximization** is fast but inaccurate. It maximizes edges within a community and minimizes those going between communities.\n",
    "\n",
    "- **Clique percolation** is slower than modularity maximization in most cases. Building itself up from connected cliques, its accuracy depends on your choice of k."
   ]
  },
  {
   "cell_type": "markdown",
   "metadata": {},
   "source": [
    "***\n",
    "***\n",
    "\n",
    "# Checkpoint 8 of 8\n",
    "## Now you try!\n",
    "\n",
    "### Run either a 2-Clique, 3-Clique, or a 4-Clique algorithm on your Star Wars graph `SW_G`. \n",
    "### Be sure to first remove any `999` values for nodes not assigned to any clique. \n",
    "\n",
    "### Finally, plot the graph based on the community assignments from your n-clique choice. How does it compare to the earlier plot?"
   ]
  },
  {
   "cell_type": "code",
   "execution_count": 106,
   "metadata": {
    "collapsed": true
   },
   "outputs": [],
   "source": [
    "cp_communities2 = cm.k_clique_communities(SW_G, 2)"
   ]
  },
  {
   "cell_type": "code",
   "execution_count": 107,
   "metadata": {
    "collapsed": true
   },
   "outputs": [],
   "source": [
    "def get_membership(graph, community_obj, k):\n",
    "    member_list = list(community_obj)\n",
    "    member_dict = {}\n",
    "    print('There are', len(member_list), 'communities according to the clique percolation algorithm for', k, '-cliques \\n')\n",
    "    for node in graph.nodes():\n",
    "        for community in range(0, len(member_list)): # Check every community for the node\n",
    "            if node in member_list[community]:\n",
    "                member_dict[node] = community\n",
    "                break\n",
    "            elif community == (len(member_list)-1) and node not in member_list[community]:\n",
    "                member_dict[node] = 999   \n",
    "    return(member_dict)"
   ]
  },
  {
   "cell_type": "code",
   "execution_count": 108,
   "metadata": {
    "collapsed": false
   },
   "outputs": [
    {
     "name": "stdout",
     "output_type": "stream",
     "text": [
      "There are 1 communities according to the clique percolation algorithm for 2 -cliques \n",
      "\n"
     ]
    }
   ],
   "source": [
    "cp_membership2 = get_membership(SW_G, cp_communities2, 2)"
   ]
  },
  {
   "cell_type": "code",
   "execution_count": 109,
   "metadata": {
    "collapsed": true
   },
   "outputs": [],
   "source": [
    "cp_values2 = [value for value in cp_membership2.values()]"
   ]
  },
  {
   "cell_type": "code",
   "execution_count": 111,
   "metadata": {
    "collapsed": false
   },
   "outputs": [
    {
     "data": {
      "image/png": "[encoded data removed]",
      "text/plain": [
       "<Figure size 432x288 with 1 Axes>"
      ]
     },
     "metadata": {},
     "output_type": "display_data"
    }
   ],
   "source": [
    "# 2-Cliques\n",
    "plt.axis(\"off\")\n",
    "nx.draw_networkx(SW_G,\n",
    "                 pos = community_layout(SW_G, cp_membership2),\n",
    "                 cmap = plt.get_cmap(\"jet\"), \n",
    "                 node_color = cp_values2, \n",
    "                 node_size = 35, \n",
    "                 with_labels = False)"
   ]
  },
  {
   "cell_type": "markdown",
   "metadata": {},
   "source": [
    "***\n",
    "***"
   ]
  }
 ],
 "metadata": {
  "kernelspec": {
   "display_name": "Python 3.6",
   "language": "python",
   "name": "python3.6"
  },
  "language_info": {
   "codemirror_mode": {
    "name": "ipython",
    "version": 3
   },
   "file_extension": ".py",
   "mimetype": "text/x-python",
   "name": "python",
   "nbconvert_exporter": "python",
   "pygments_lexer": "ipython3",
   "version": "3.6.9"
  }
 },
 "nbformat": 4,
 "nbformat_minor": 1
}
